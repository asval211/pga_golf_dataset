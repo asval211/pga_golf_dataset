{
 "cells": [
  {
   "cell_type": "markdown",
   "metadata": {},
   "source": [
    "# Imports\n",
    "\n",
    "##### Here I will be importing the necessary packages to use for this project. Some may not be used but could be used and I am covering my baises with them incase I do use one later on.\n"
   ]
  },
  {
   "cell_type": "code",
   "execution_count": 1,
   "metadata": {},
   "outputs": [],
   "source": [
    "import pandas as pd\n",
    "import numpy as np\n",
    "import statsmodels.api as sm\n",
    "from statsmodels.formula.api import ols\n",
    "import matplotlib.pyplot as plt\n",
    "import seaborn as sns\n",
    "import math\n",
    "from sklearn.preprocessing import OneHotEncoder\n",
    "from sklearn.linear_model import LinearRegression\n",
    "from sklearn.dummy import DummyRegressor\n",
    "from sklearn.ensemble import RandomForestRegressor\n",
    "from sklearn.impute import SimpleImputer\n",
    "from sklearn.metrics import mean_squared_error, r2_score\n",
    "from sklearn.preprocessing import PolynomialFeatures, StandardScaler\n",
    "import scipy.stats as stats\n",
    "from sklearn.feature_selection import RFE\n",
    "\n",
    "from xgboost import XGBClassifier\n",
    "\n",
    "from mpl_toolkits.mplot3d import Axes3D\n",
    "from IPython.display import Image\n",
    "from sklearn.model_selection import train_test_split, GridSearchCV, cross_val_score\n",
    "from sklearn.linear_model import LogisticRegression\n",
    "from sklearn.preprocessing import StandardScaler, OneHotEncoder\n",
    "from sklearn.impute import SimpleImputer\n",
    "from sklearn.tree import DecisionTreeClassifier\n",
    "from sklearn.ensemble import RandomForestClassifier\n",
    "from sklearn.metrics import accuracy_score, recall_score, precision_score\n",
    "from sklearn.pipeline import Pipeline, make_pipeline\n",
    "from sklearn.compose import make_column_selector, make_column_transformer\n",
    "from sklearn.metrics import plot_confusion_matrix\n",
    "from imblearn.over_sampling import SMOTE"
   ]
  },
  {
   "cell_type": "markdown",
   "metadata": {},
   "source": [
    "# Understanding the columns\n",
    "#### Before I even read in the csv the best thing to do is to give an overview of thecolumns with an explenation of them.\n",
    "player_name = Name of the player\n",
    "\n",
    "rounds = Number of rounds completed\n",
    "\n",
    "fairway_percentage = This statistic refers to the number of times during the round your drive landed in the fairway (the fairway, not the light rough). It is similar to the greens in regulation, except that the maximum number per round is less than 18.\n",
    "\n",
    "year = Year of competition.\n",
    "\n",
    "avg_distance = The average driving distance is typically measured on two holes at each tournament and can result in nearly 40,000 shots being measured over the course of a season on some tours.\n",
    "\n",
    "gir = Green in regulation (GIR) A green is considered hit \"in regulation\" if any part of the ball is touching the putting surface while the number of strokes taken is at least two fewer than par (i.e., by the first stroke on a par 3, the second stroke on a par 4, or the third stroke on a par 5).\n",
    "\n",
    "average_putts = Average Putts is the average of putts by a player per round in the given year.\n",
    "\n",
    "average_scrambling = Average Scrambling in golf is defined as: The percent of time a player misses the green in regulation, but still makes par or better on average based off their rounds.\n",
    "\n",
    "average_score = Average Score is the average of all rounds played and scored by a player in a given year.\n",
    "\n",
    "points = FedExCup Points are awarded by finish position as defined in the point distribution tables. Limited field events during the FedExCup competition will not redistribute the points for places that do not play.\n",
    "\n",
    "wins = The amount of times a player as won in that given year.\n",
    "\n",
    "top_10 = Top 10 is the amount of times a player placed in the top 10 in an event of a given year.\n",
    "\n",
    "average_sg_putts = Strokes Gained Putting reflects your performance on all putts. It compares the actual number of putts taken to the expected number of strokes to hole out based on the initial distance to the pin.\n",
    "\n",
    "average_sg_total = Strokes gained: total simply compares a player's score to the field average. For example, a player will gain three strokes on the field if he shoots 69 on a day when the field averages 72.\n",
    "\n",
    "sg:ott Strokes Gained: Off the Tee does just what it says, tracking a player’s performance off the Tee. This stat only applies to Par 4s and 5s, which is something to keep in mind since a solid driver of the ball can still struggle with Par 3s even if their performance is off the charts in this category.\n",
    "\n",
    "sg:apr = Strokes Gained Approach reflects your performance on shots taken from more than 50 yards from the green, including layup shots. It takes into account the lie you were hitting from, as well as distance and accuracy.\n",
    "\n",
    "sg:arg = Strokes gained: around-the-green measures player performance on any shot within 30 yards of the edge of the green. This statistic does not include any shots taken on the putting green."
   ]
  },
  {
   "cell_type": "markdown",
   "metadata": {},
   "source": [
    "# Reading in the Data and doing EDA and cleaning\n",
    "\n",
    "###### In the first portion I will call .info() in order to check on the data given and how it is classified in the dataframe. \n",
    "###### Furthermore, I will be replacing Nan to 0 in cloumns that it is needed anf then drop the null value from the remaining.\n",
    "###### The following columns: Rounds, Points, Money, Player Name all had changes applied to them.\n",
    "###### The column names where also made to be lowercase as well as removing spaces and replacing them with \"_\".\n",
    "###### I then just do some exploring of the data from beople that have won to the people that have made top_10 as well as checking on the describe function for a couple columns."
   ]
  },
  {
   "cell_type": "code",
   "execution_count": 2,
   "metadata": {},
   "outputs": [
    {
     "data": {
      "text/html": [
       "<div>\n",
       "<style scoped>\n",
       "    .dataframe tbody tr th:only-of-type {\n",
       "        vertical-align: middle;\n",
       "    }\n",
       "\n",
       "    .dataframe tbody tr th {\n",
       "        vertical-align: top;\n",
       "    }\n",
       "\n",
       "    .dataframe thead th {\n",
       "        text-align: right;\n",
       "    }\n",
       "</style>\n",
       "<table border=\"1\" class=\"dataframe\">\n",
       "  <thead>\n",
       "    <tr style=\"text-align: right;\">\n",
       "      <th></th>\n",
       "      <th>Player Name</th>\n",
       "      <th>Rounds</th>\n",
       "      <th>Fairway Percentage</th>\n",
       "      <th>Year</th>\n",
       "      <th>Avg Distance</th>\n",
       "      <th>gir</th>\n",
       "      <th>Average Putts</th>\n",
       "      <th>Average Scrambling</th>\n",
       "      <th>Average Score</th>\n",
       "      <th>Points</th>\n",
       "      <th>Wins</th>\n",
       "      <th>Top 10</th>\n",
       "      <th>Average SG Putts</th>\n",
       "      <th>Average SG Total</th>\n",
       "      <th>SG:OTT</th>\n",
       "      <th>SG:APR</th>\n",
       "      <th>SG:ARG</th>\n",
       "      <th>Money</th>\n",
       "    </tr>\n",
       "  </thead>\n",
       "  <tbody>\n",
       "    <tr>\n",
       "      <th>0</th>\n",
       "      <td>Henrik Stenson</td>\n",
       "      <td>60.0</td>\n",
       "      <td>75.19</td>\n",
       "      <td>2018</td>\n",
       "      <td>291.5</td>\n",
       "      <td>73.51</td>\n",
       "      <td>29.93</td>\n",
       "      <td>60.67</td>\n",
       "      <td>69.617</td>\n",
       "      <td>868</td>\n",
       "      <td>NaN</td>\n",
       "      <td>5.0</td>\n",
       "      <td>-0.207</td>\n",
       "      <td>1.153</td>\n",
       "      <td>0.427</td>\n",
       "      <td>0.960</td>\n",
       "      <td>-0.027</td>\n",
       "      <td>$2,680,487</td>\n",
       "    </tr>\n",
       "    <tr>\n",
       "      <th>1</th>\n",
       "      <td>Ryan Armour</td>\n",
       "      <td>109.0</td>\n",
       "      <td>73.58</td>\n",
       "      <td>2018</td>\n",
       "      <td>283.5</td>\n",
       "      <td>68.22</td>\n",
       "      <td>29.31</td>\n",
       "      <td>60.13</td>\n",
       "      <td>70.758</td>\n",
       "      <td>1,006</td>\n",
       "      <td>1.0</td>\n",
       "      <td>3.0</td>\n",
       "      <td>-0.058</td>\n",
       "      <td>0.337</td>\n",
       "      <td>-0.012</td>\n",
       "      <td>0.213</td>\n",
       "      <td>0.194</td>\n",
       "      <td>$2,485,203</td>\n",
       "    </tr>\n",
       "    <tr>\n",
       "      <th>2</th>\n",
       "      <td>Chez Reavie</td>\n",
       "      <td>93.0</td>\n",
       "      <td>72.24</td>\n",
       "      <td>2018</td>\n",
       "      <td>286.5</td>\n",
       "      <td>68.67</td>\n",
       "      <td>29.12</td>\n",
       "      <td>62.27</td>\n",
       "      <td>70.432</td>\n",
       "      <td>1,020</td>\n",
       "      <td>NaN</td>\n",
       "      <td>3.0</td>\n",
       "      <td>0.192</td>\n",
       "      <td>0.674</td>\n",
       "      <td>0.183</td>\n",
       "      <td>0.437</td>\n",
       "      <td>-0.137</td>\n",
       "      <td>$2,700,018</td>\n",
       "    </tr>\n",
       "    <tr>\n",
       "      <th>3</th>\n",
       "      <td>Ryan Moore</td>\n",
       "      <td>78.0</td>\n",
       "      <td>71.94</td>\n",
       "      <td>2018</td>\n",
       "      <td>289.2</td>\n",
       "      <td>68.80</td>\n",
       "      <td>29.17</td>\n",
       "      <td>64.16</td>\n",
       "      <td>70.015</td>\n",
       "      <td>795</td>\n",
       "      <td>NaN</td>\n",
       "      <td>5.0</td>\n",
       "      <td>-0.271</td>\n",
       "      <td>0.941</td>\n",
       "      <td>0.406</td>\n",
       "      <td>0.532</td>\n",
       "      <td>0.273</td>\n",
       "      <td>$1,986,608</td>\n",
       "    </tr>\n",
       "    <tr>\n",
       "      <th>4</th>\n",
       "      <td>Brian Stuard</td>\n",
       "      <td>103.0</td>\n",
       "      <td>71.44</td>\n",
       "      <td>2018</td>\n",
       "      <td>278.9</td>\n",
       "      <td>67.12</td>\n",
       "      <td>29.11</td>\n",
       "      <td>59.23</td>\n",
       "      <td>71.038</td>\n",
       "      <td>421</td>\n",
       "      <td>NaN</td>\n",
       "      <td>3.0</td>\n",
       "      <td>0.164</td>\n",
       "      <td>0.062</td>\n",
       "      <td>-0.227</td>\n",
       "      <td>0.099</td>\n",
       "      <td>0.026</td>\n",
       "      <td>$1,089,763</td>\n",
       "    </tr>\n",
       "    <tr>\n",
       "      <th>5</th>\n",
       "      <td>Brian Gay</td>\n",
       "      <td>103.0</td>\n",
       "      <td>71.37</td>\n",
       "      <td>2018</td>\n",
       "      <td>282.9</td>\n",
       "      <td>64.52</td>\n",
       "      <td>28.25</td>\n",
       "      <td>63.26</td>\n",
       "      <td>70.280</td>\n",
       "      <td>880</td>\n",
       "      <td>NaN</td>\n",
       "      <td>6.0</td>\n",
       "      <td>0.442</td>\n",
       "      <td>0.565</td>\n",
       "      <td>-0.166</td>\n",
       "      <td>0.036</td>\n",
       "      <td>0.253</td>\n",
       "      <td>$2,152,501</td>\n",
       "    </tr>\n",
       "    <tr>\n",
       "      <th>6</th>\n",
       "      <td>Kyle Stanley</td>\n",
       "      <td>93.0</td>\n",
       "      <td>71.29</td>\n",
       "      <td>2018</td>\n",
       "      <td>295.7</td>\n",
       "      <td>71.09</td>\n",
       "      <td>29.89</td>\n",
       "      <td>54.80</td>\n",
       "      <td>70.404</td>\n",
       "      <td>1,198</td>\n",
       "      <td>NaN</td>\n",
       "      <td>5.0</td>\n",
       "      <td>0.037</td>\n",
       "      <td>0.686</td>\n",
       "      <td>0.378</td>\n",
       "      <td>0.298</td>\n",
       "      <td>-0.027</td>\n",
       "      <td>$3,916,001</td>\n",
       "    </tr>\n",
       "    <tr>\n",
       "      <th>7</th>\n",
       "      <td>Emiliano Grillo</td>\n",
       "      <td>94.0</td>\n",
       "      <td>70.16</td>\n",
       "      <td>2018</td>\n",
       "      <td>295.2</td>\n",
       "      <td>68.84</td>\n",
       "      <td>29.04</td>\n",
       "      <td>61.05</td>\n",
       "      <td>70.152</td>\n",
       "      <td>901</td>\n",
       "      <td>NaN</td>\n",
       "      <td>5.0</td>\n",
       "      <td>0.546</td>\n",
       "      <td>1.133</td>\n",
       "      <td>0.364</td>\n",
       "      <td>0.345</td>\n",
       "      <td>-0.122</td>\n",
       "      <td>$2,493,163</td>\n",
       "    </tr>\n",
       "    <tr>\n",
       "      <th>8</th>\n",
       "      <td>Russell Henley</td>\n",
       "      <td>77.0</td>\n",
       "      <td>70.03</td>\n",
       "      <td>2018</td>\n",
       "      <td>293.0</td>\n",
       "      <td>68.77</td>\n",
       "      <td>29.80</td>\n",
       "      <td>54.33</td>\n",
       "      <td>70.489</td>\n",
       "      <td>569</td>\n",
       "      <td>NaN</td>\n",
       "      <td>3.0</td>\n",
       "      <td>0.167</td>\n",
       "      <td>0.541</td>\n",
       "      <td>0.093</td>\n",
       "      <td>0.467</td>\n",
       "      <td>-0.186</td>\n",
       "      <td>$1,516,438</td>\n",
       "    </tr>\n",
       "    <tr>\n",
       "      <th>9</th>\n",
       "      <td>Jim Furyk</td>\n",
       "      <td>50.0</td>\n",
       "      <td>69.91</td>\n",
       "      <td>2018</td>\n",
       "      <td>280.5</td>\n",
       "      <td>63.19</td>\n",
       "      <td>28.73</td>\n",
       "      <td>62.58</td>\n",
       "      <td>70.342</td>\n",
       "      <td>291</td>\n",
       "      <td>NaN</td>\n",
       "      <td>2.0</td>\n",
       "      <td>0.389</td>\n",
       "      <td>0.412</td>\n",
       "      <td>-0.392</td>\n",
       "      <td>0.179</td>\n",
       "      <td>0.235</td>\n",
       "      <td>$660,010</td>\n",
       "    </tr>\n",
       "  </tbody>\n",
       "</table>\n",
       "</div>"
      ],
      "text/plain": [
       "       Player Name  Rounds  Fairway Percentage  Year  Avg Distance    gir  \\\n",
       "0   Henrik Stenson    60.0               75.19  2018         291.5  73.51   \n",
       "1      Ryan Armour   109.0               73.58  2018         283.5  68.22   \n",
       "2      Chez Reavie    93.0               72.24  2018         286.5  68.67   \n",
       "3       Ryan Moore    78.0               71.94  2018         289.2  68.80   \n",
       "4     Brian Stuard   103.0               71.44  2018         278.9  67.12   \n",
       "5        Brian Gay   103.0               71.37  2018         282.9  64.52   \n",
       "6     Kyle Stanley    93.0               71.29  2018         295.7  71.09   \n",
       "7  Emiliano Grillo    94.0               70.16  2018         295.2  68.84   \n",
       "8   Russell Henley    77.0               70.03  2018         293.0  68.77   \n",
       "9        Jim Furyk    50.0               69.91  2018         280.5  63.19   \n",
       "\n",
       "   Average Putts  Average Scrambling  Average Score Points  Wins  Top 10  \\\n",
       "0          29.93               60.67         69.617    868   NaN     5.0   \n",
       "1          29.31               60.13         70.758  1,006   1.0     3.0   \n",
       "2          29.12               62.27         70.432  1,020   NaN     3.0   \n",
       "3          29.17               64.16         70.015    795   NaN     5.0   \n",
       "4          29.11               59.23         71.038    421   NaN     3.0   \n",
       "5          28.25               63.26         70.280    880   NaN     6.0   \n",
       "6          29.89               54.80         70.404  1,198   NaN     5.0   \n",
       "7          29.04               61.05         70.152    901   NaN     5.0   \n",
       "8          29.80               54.33         70.489    569   NaN     3.0   \n",
       "9          28.73               62.58         70.342    291   NaN     2.0   \n",
       "\n",
       "   Average SG Putts  Average SG Total  SG:OTT  SG:APR  SG:ARG       Money  \n",
       "0            -0.207             1.153   0.427   0.960  -0.027  $2,680,487  \n",
       "1            -0.058             0.337  -0.012   0.213   0.194  $2,485,203  \n",
       "2             0.192             0.674   0.183   0.437  -0.137  $2,700,018  \n",
       "3            -0.271             0.941   0.406   0.532   0.273  $1,986,608  \n",
       "4             0.164             0.062  -0.227   0.099   0.026  $1,089,763  \n",
       "5             0.442             0.565  -0.166   0.036   0.253  $2,152,501  \n",
       "6             0.037             0.686   0.378   0.298  -0.027  $3,916,001  \n",
       "7             0.546             1.133   0.364   0.345  -0.122  $2,493,163  \n",
       "8             0.167             0.541   0.093   0.467  -0.186  $1,516,438  \n",
       "9             0.389             0.412  -0.392   0.179   0.235    $660,010  "
      ]
     },
     "execution_count": 2,
     "metadata": {},
     "output_type": "execute_result"
    }
   ],
   "source": [
    "df = pd.read_csv('../../../data/pgaTourData.csv')\n",
    "df.head(10)"
   ]
  },
  {
   "cell_type": "code",
   "execution_count": 3,
   "metadata": {},
   "outputs": [
    {
     "name": "stdout",
     "output_type": "stream",
     "text": [
      "<class 'pandas.core.frame.DataFrame'>\n",
      "RangeIndex: 2312 entries, 0 to 2311\n",
      "Data columns (total 18 columns):\n",
      " #   Column              Non-Null Count  Dtype  \n",
      "---  ------              --------------  -----  \n",
      " 0   Player Name         2312 non-null   object \n",
      " 1   Rounds              1678 non-null   float64\n",
      " 2   Fairway Percentage  1678 non-null   float64\n",
      " 3   Year                2312 non-null   int64  \n",
      " 4   Avg Distance        1678 non-null   float64\n",
      " 5   gir                 1678 non-null   float64\n",
      " 6   Average Putts       1678 non-null   float64\n",
      " 7   Average Scrambling  1678 non-null   float64\n",
      " 8   Average Score       1678 non-null   float64\n",
      " 9   Points              2296 non-null   object \n",
      " 10  Wins                293 non-null    float64\n",
      " 11  Top 10              1458 non-null   float64\n",
      " 12  Average SG Putts    1678 non-null   float64\n",
      " 13  Average SG Total    1678 non-null   float64\n",
      " 14  SG:OTT              1678 non-null   float64\n",
      " 15  SG:APR              1678 non-null   float64\n",
      " 16  SG:ARG              1678 non-null   float64\n",
      " 17  Money               2300 non-null   object \n",
      "dtypes: float64(14), int64(1), object(3)\n",
      "memory usage: 325.2+ KB\n"
     ]
    }
   ],
   "source": [
    "df.info()"
   ]
  },
  {
   "cell_type": "code",
   "execution_count": 4,
   "metadata": {},
   "outputs": [
    {
     "data": {
      "text/html": [
       "<div>\n",
       "<style scoped>\n",
       "    .dataframe tbody tr th:only-of-type {\n",
       "        vertical-align: middle;\n",
       "    }\n",
       "\n",
       "    .dataframe tbody tr th {\n",
       "        vertical-align: top;\n",
       "    }\n",
       "\n",
       "    .dataframe thead th {\n",
       "        text-align: right;\n",
       "    }\n",
       "</style>\n",
       "<table border=\"1\" class=\"dataframe\">\n",
       "  <thead>\n",
       "    <tr style=\"text-align: right;\">\n",
       "      <th></th>\n",
       "      <th>player_name</th>\n",
       "      <th>rounds</th>\n",
       "      <th>fairway_percentage</th>\n",
       "      <th>year</th>\n",
       "      <th>avg_distance</th>\n",
       "      <th>gir</th>\n",
       "      <th>average_putts</th>\n",
       "      <th>average_scrambling</th>\n",
       "      <th>average_score</th>\n",
       "      <th>points</th>\n",
       "      <th>wins</th>\n",
       "      <th>top_10</th>\n",
       "      <th>average_sg_putts</th>\n",
       "      <th>average_sg_total</th>\n",
       "      <th>sg:ott</th>\n",
       "      <th>sg:apr</th>\n",
       "      <th>sg:arg</th>\n",
       "      <th>money</th>\n",
       "    </tr>\n",
       "  </thead>\n",
       "  <tbody>\n",
       "    <tr>\n",
       "      <th>0</th>\n",
       "      <td>Henrik_Stenson</td>\n",
       "      <td>60</td>\n",
       "      <td>75.19</td>\n",
       "      <td>2018</td>\n",
       "      <td>291.5</td>\n",
       "      <td>73.51</td>\n",
       "      <td>29.93</td>\n",
       "      <td>60.67</td>\n",
       "      <td>69.617</td>\n",
       "      <td>868</td>\n",
       "      <td>0</td>\n",
       "      <td>5</td>\n",
       "      <td>-0.207</td>\n",
       "      <td>1.153</td>\n",
       "      <td>0.427</td>\n",
       "      <td>0.960</td>\n",
       "      <td>-0.027</td>\n",
       "      <td>2680487.0</td>\n",
       "    </tr>\n",
       "    <tr>\n",
       "      <th>1</th>\n",
       "      <td>Ryan_Armour</td>\n",
       "      <td>109</td>\n",
       "      <td>73.58</td>\n",
       "      <td>2018</td>\n",
       "      <td>283.5</td>\n",
       "      <td>68.22</td>\n",
       "      <td>29.31</td>\n",
       "      <td>60.13</td>\n",
       "      <td>70.758</td>\n",
       "      <td>1006</td>\n",
       "      <td>1</td>\n",
       "      <td>3</td>\n",
       "      <td>-0.058</td>\n",
       "      <td>0.337</td>\n",
       "      <td>-0.012</td>\n",
       "      <td>0.213</td>\n",
       "      <td>0.194</td>\n",
       "      <td>2485203.0</td>\n",
       "    </tr>\n",
       "    <tr>\n",
       "      <th>2</th>\n",
       "      <td>Chez_Reavie</td>\n",
       "      <td>93</td>\n",
       "      <td>72.24</td>\n",
       "      <td>2018</td>\n",
       "      <td>286.5</td>\n",
       "      <td>68.67</td>\n",
       "      <td>29.12</td>\n",
       "      <td>62.27</td>\n",
       "      <td>70.432</td>\n",
       "      <td>1020</td>\n",
       "      <td>0</td>\n",
       "      <td>3</td>\n",
       "      <td>0.192</td>\n",
       "      <td>0.674</td>\n",
       "      <td>0.183</td>\n",
       "      <td>0.437</td>\n",
       "      <td>-0.137</td>\n",
       "      <td>2700018.0</td>\n",
       "    </tr>\n",
       "    <tr>\n",
       "      <th>3</th>\n",
       "      <td>Ryan_Moore</td>\n",
       "      <td>78</td>\n",
       "      <td>71.94</td>\n",
       "      <td>2018</td>\n",
       "      <td>289.2</td>\n",
       "      <td>68.80</td>\n",
       "      <td>29.17</td>\n",
       "      <td>64.16</td>\n",
       "      <td>70.015</td>\n",
       "      <td>795</td>\n",
       "      <td>0</td>\n",
       "      <td>5</td>\n",
       "      <td>-0.271</td>\n",
       "      <td>0.941</td>\n",
       "      <td>0.406</td>\n",
       "      <td>0.532</td>\n",
       "      <td>0.273</td>\n",
       "      <td>1986608.0</td>\n",
       "    </tr>\n",
       "    <tr>\n",
       "      <th>4</th>\n",
       "      <td>Brian_Stuard</td>\n",
       "      <td>103</td>\n",
       "      <td>71.44</td>\n",
       "      <td>2018</td>\n",
       "      <td>278.9</td>\n",
       "      <td>67.12</td>\n",
       "      <td>29.11</td>\n",
       "      <td>59.23</td>\n",
       "      <td>71.038</td>\n",
       "      <td>421</td>\n",
       "      <td>0</td>\n",
       "      <td>3</td>\n",
       "      <td>0.164</td>\n",
       "      <td>0.062</td>\n",
       "      <td>-0.227</td>\n",
       "      <td>0.099</td>\n",
       "      <td>0.026</td>\n",
       "      <td>1089763.0</td>\n",
       "    </tr>\n",
       "  </tbody>\n",
       "</table>\n",
       "</div>"
      ],
      "text/plain": [
       "      player_name  rounds  fairway_percentage  year  avg_distance    gir  \\\n",
       "0  Henrik_Stenson      60               75.19  2018         291.5  73.51   \n",
       "1     Ryan_Armour     109               73.58  2018         283.5  68.22   \n",
       "2     Chez_Reavie      93               72.24  2018         286.5  68.67   \n",
       "3      Ryan_Moore      78               71.94  2018         289.2  68.80   \n",
       "4    Brian_Stuard     103               71.44  2018         278.9  67.12   \n",
       "\n",
       "   average_putts  average_scrambling  average_score  points  wins  top_10  \\\n",
       "0          29.93               60.67         69.617     868     0       5   \n",
       "1          29.31               60.13         70.758    1006     1       3   \n",
       "2          29.12               62.27         70.432    1020     0       3   \n",
       "3          29.17               64.16         70.015     795     0       5   \n",
       "4          29.11               59.23         71.038     421     0       3   \n",
       "\n",
       "   average_sg_putts  average_sg_total  sg:ott  sg:apr  sg:arg      money  \n",
       "0            -0.207             1.153   0.427   0.960  -0.027  2680487.0  \n",
       "1            -0.058             0.337  -0.012   0.213   0.194  2485203.0  \n",
       "2             0.192             0.674   0.183   0.437  -0.137  2700018.0  \n",
       "3            -0.271             0.941   0.406   0.532   0.273  1986608.0  \n",
       "4             0.164             0.062  -0.227   0.099   0.026  1089763.0  "
      ]
     },
     "execution_count": 4,
     "metadata": {},
     "output_type": "execute_result"
    }
   ],
   "source": [
    "df['Top 10'].fillna(0, inplace=True)\n",
    "df['Top 10'] = df['Top 10'].astype(int)\n",
    "df['Wins'].fillna(0, inplace=True)\n",
    "df['Wins'] = df['Wins'].astype(int)\n",
    "df.dropna(axis = 0, inplace=True)\n",
    "df['Rounds'] = df['Rounds'].astype(int)\n",
    "df['Points'] = df['Points'].apply(lambda x: x.replace(',',''))\n",
    "df['Points'] = df['Points'].astype(int)\n",
    "df.columns = map(str.lower, df.columns)\n",
    "df[\"money\"] = df[\"money\"].str.replace(\"$\", \"\")\n",
    "df[\"money\"] = df[\"money\"].str.replace(\",\", \"\")\n",
    "df[\"money\"] = df[\"money\"].str.replace(\".\", \"\")\n",
    "df[\"money\"] = df[\"money\"].astype('float64')\n",
    "df.columns=df.columns.str.replace(' ', '_')\n",
    "df[\"player_name\"] = df[\"player_name\"].str.replace(' ', '_')\n",
    "df.head()"
   ]
  },
  {
   "cell_type": "code",
   "execution_count": 5,
   "metadata": {},
   "outputs": [
    {
     "data": {
      "text/html": [
       "<div>\n",
       "<style scoped>\n",
       "    .dataframe tbody tr th:only-of-type {\n",
       "        vertical-align: middle;\n",
       "    }\n",
       "\n",
       "    .dataframe tbody tr th {\n",
       "        vertical-align: top;\n",
       "    }\n",
       "\n",
       "    .dataframe thead th {\n",
       "        text-align: right;\n",
       "    }\n",
       "</style>\n",
       "<table border=\"1\" class=\"dataframe\">\n",
       "  <thead>\n",
       "    <tr style=\"text-align: right;\">\n",
       "      <th></th>\n",
       "      <th>player_name</th>\n",
       "      <th>rounds</th>\n",
       "      <th>fairway_percentage</th>\n",
       "      <th>year</th>\n",
       "      <th>avg_distance</th>\n",
       "      <th>gir</th>\n",
       "      <th>average_putts</th>\n",
       "      <th>average_scrambling</th>\n",
       "      <th>average_score</th>\n",
       "      <th>points</th>\n",
       "      <th>wins</th>\n",
       "      <th>top_10</th>\n",
       "      <th>average_sg_putts</th>\n",
       "      <th>average_sg_total</th>\n",
       "      <th>sg:ott</th>\n",
       "      <th>sg:apr</th>\n",
       "      <th>sg:arg</th>\n",
       "      <th>money</th>\n",
       "    </tr>\n",
       "  </thead>\n",
       "  <tbody>\n",
       "    <tr>\n",
       "      <th>1</th>\n",
       "      <td>Ryan_Armour</td>\n",
       "      <td>109</td>\n",
       "      <td>73.58</td>\n",
       "      <td>2018</td>\n",
       "      <td>283.5</td>\n",
       "      <td>68.22</td>\n",
       "      <td>29.31</td>\n",
       "      <td>60.13</td>\n",
       "      <td>70.758</td>\n",
       "      <td>1006</td>\n",
       "      <td>1</td>\n",
       "      <td>3</td>\n",
       "      <td>-0.058</td>\n",
       "      <td>0.337</td>\n",
       "      <td>-0.012</td>\n",
       "      <td>0.213</td>\n",
       "      <td>0.194</td>\n",
       "      <td>2485203.0</td>\n",
       "    </tr>\n",
       "    <tr>\n",
       "      <th>16</th>\n",
       "      <td>Billy_Horschel</td>\n",
       "      <td>86</td>\n",
       "      <td>67.80</td>\n",
       "      <td>2018</td>\n",
       "      <td>295.4</td>\n",
       "      <td>71.75</td>\n",
       "      <td>29.46</td>\n",
       "      <td>58.03</td>\n",
       "      <td>70.154</td>\n",
       "      <td>960</td>\n",
       "      <td>1</td>\n",
       "      <td>3</td>\n",
       "      <td>0.392</td>\n",
       "      <td>1.112</td>\n",
       "      <td>0.538</td>\n",
       "      <td>0.352</td>\n",
       "      <td>-0.169</td>\n",
       "      <td>4315200.0</td>\n",
       "    </tr>\n",
       "    <tr>\n",
       "      <th>22</th>\n",
       "      <td>Ted_Potter,_Jr.</td>\n",
       "      <td>87</td>\n",
       "      <td>66.83</td>\n",
       "      <td>2018</td>\n",
       "      <td>286.0</td>\n",
       "      <td>63.03</td>\n",
       "      <td>28.45</td>\n",
       "      <td>57.51</td>\n",
       "      <td>71.024</td>\n",
       "      <td>744</td>\n",
       "      <td>1</td>\n",
       "      <td>1</td>\n",
       "      <td>0.074</td>\n",
       "      <td>-0.094</td>\n",
       "      <td>-0.074</td>\n",
       "      <td>-0.200</td>\n",
       "      <td>0.105</td>\n",
       "      <td>1976198.0</td>\n",
       "    </tr>\n",
       "    <tr>\n",
       "      <th>23</th>\n",
       "      <td>Austin_Cook</td>\n",
       "      <td>107</td>\n",
       "      <td>66.76</td>\n",
       "      <td>2018</td>\n",
       "      <td>292.3</td>\n",
       "      <td>66.51</td>\n",
       "      <td>28.72</td>\n",
       "      <td>62.02</td>\n",
       "      <td>70.469</td>\n",
       "      <td>1060</td>\n",
       "      <td>1</td>\n",
       "      <td>3</td>\n",
       "      <td>0.315</td>\n",
       "      <td>0.569</td>\n",
       "      <td>0.120</td>\n",
       "      <td>-0.045</td>\n",
       "      <td>0.179</td>\n",
       "      <td>2448920.0</td>\n",
       "    </tr>\n",
       "    <tr>\n",
       "      <th>27</th>\n",
       "      <td>Ian_Poulter</td>\n",
       "      <td>73</td>\n",
       "      <td>66.41</td>\n",
       "      <td>2018</td>\n",
       "      <td>293.6</td>\n",
       "      <td>67.01</td>\n",
       "      <td>28.97</td>\n",
       "      <td>57.11</td>\n",
       "      <td>70.593</td>\n",
       "      <td>1030</td>\n",
       "      <td>1</td>\n",
       "      <td>4</td>\n",
       "      <td>0.223</td>\n",
       "      <td>0.850</td>\n",
       "      <td>0.141</td>\n",
       "      <td>0.435</td>\n",
       "      <td>0.051</td>\n",
       "      <td>2714450.0</td>\n",
       "    </tr>\n",
       "  </tbody>\n",
       "</table>\n",
       "</div>"
      ],
      "text/plain": [
       "        player_name  rounds  fairway_percentage  year  avg_distance    gir  \\\n",
       "1       Ryan_Armour     109               73.58  2018         283.5  68.22   \n",
       "16   Billy_Horschel      86               67.80  2018         295.4  71.75   \n",
       "22  Ted_Potter,_Jr.      87               66.83  2018         286.0  63.03   \n",
       "23      Austin_Cook     107               66.76  2018         292.3  66.51   \n",
       "27      Ian_Poulter      73               66.41  2018         293.6  67.01   \n",
       "\n",
       "    average_putts  average_scrambling  average_score  points  wins  top_10  \\\n",
       "1           29.31               60.13         70.758    1006     1       3   \n",
       "16          29.46               58.03         70.154     960     1       3   \n",
       "22          28.45               57.51         71.024     744     1       1   \n",
       "23          28.72               62.02         70.469    1060     1       3   \n",
       "27          28.97               57.11         70.593    1030     1       4   \n",
       "\n",
       "    average_sg_putts  average_sg_total  sg:ott  sg:apr  sg:arg      money  \n",
       "1             -0.058             0.337  -0.012   0.213   0.194  2485203.0  \n",
       "16             0.392             1.112   0.538   0.352  -0.169  4315200.0  \n",
       "22             0.074            -0.094  -0.074  -0.200   0.105  1976198.0  \n",
       "23             0.315             0.569   0.120  -0.045   0.179  2448920.0  \n",
       "27             0.223             0.850   0.141   0.435   0.051  2714450.0  "
      ]
     },
     "execution_count": 5,
     "metadata": {},
     "output_type": "execute_result"
    }
   ],
   "source": [
    "players_that_won = df.loc[df['wins'] >= 1, :]\n",
    "players_that_won.head()"
   ]
  },
  {
   "cell_type": "code",
   "execution_count": 6,
   "metadata": {},
   "outputs": [
    {
     "data": {
      "text/html": [
       "<div>\n",
       "<style scoped>\n",
       "    .dataframe tbody tr th:only-of-type {\n",
       "        vertical-align: middle;\n",
       "    }\n",
       "\n",
       "    .dataframe tbody tr th {\n",
       "        vertical-align: top;\n",
       "    }\n",
       "\n",
       "    .dataframe thead th {\n",
       "        text-align: right;\n",
       "    }\n",
       "</style>\n",
       "<table border=\"1\" class=\"dataframe\">\n",
       "  <thead>\n",
       "    <tr style=\"text-align: right;\">\n",
       "      <th></th>\n",
       "      <th>player_name</th>\n",
       "      <th>rounds</th>\n",
       "      <th>fairway_percentage</th>\n",
       "      <th>year</th>\n",
       "      <th>avg_distance</th>\n",
       "      <th>gir</th>\n",
       "      <th>average_putts</th>\n",
       "      <th>average_scrambling</th>\n",
       "      <th>average_score</th>\n",
       "      <th>points</th>\n",
       "      <th>wins</th>\n",
       "      <th>top_10</th>\n",
       "      <th>average_sg_putts</th>\n",
       "      <th>average_sg_total</th>\n",
       "      <th>sg:ott</th>\n",
       "      <th>sg:apr</th>\n",
       "      <th>sg:arg</th>\n",
       "      <th>money</th>\n",
       "    </tr>\n",
       "  </thead>\n",
       "  <tbody>\n",
       "    <tr>\n",
       "      <th>0</th>\n",
       "      <td>Henrik_Stenson</td>\n",
       "      <td>60</td>\n",
       "      <td>75.19</td>\n",
       "      <td>2018</td>\n",
       "      <td>291.5</td>\n",
       "      <td>73.51</td>\n",
       "      <td>29.93</td>\n",
       "      <td>60.67</td>\n",
       "      <td>69.617</td>\n",
       "      <td>868</td>\n",
       "      <td>0</td>\n",
       "      <td>5</td>\n",
       "      <td>-0.207</td>\n",
       "      <td>1.153</td>\n",
       "      <td>0.427</td>\n",
       "      <td>0.960</td>\n",
       "      <td>-0.027</td>\n",
       "      <td>2680487.0</td>\n",
       "    </tr>\n",
       "    <tr>\n",
       "      <th>1</th>\n",
       "      <td>Ryan_Armour</td>\n",
       "      <td>109</td>\n",
       "      <td>73.58</td>\n",
       "      <td>2018</td>\n",
       "      <td>283.5</td>\n",
       "      <td>68.22</td>\n",
       "      <td>29.31</td>\n",
       "      <td>60.13</td>\n",
       "      <td>70.758</td>\n",
       "      <td>1006</td>\n",
       "      <td>1</td>\n",
       "      <td>3</td>\n",
       "      <td>-0.058</td>\n",
       "      <td>0.337</td>\n",
       "      <td>-0.012</td>\n",
       "      <td>0.213</td>\n",
       "      <td>0.194</td>\n",
       "      <td>2485203.0</td>\n",
       "    </tr>\n",
       "    <tr>\n",
       "      <th>2</th>\n",
       "      <td>Chez_Reavie</td>\n",
       "      <td>93</td>\n",
       "      <td>72.24</td>\n",
       "      <td>2018</td>\n",
       "      <td>286.5</td>\n",
       "      <td>68.67</td>\n",
       "      <td>29.12</td>\n",
       "      <td>62.27</td>\n",
       "      <td>70.432</td>\n",
       "      <td>1020</td>\n",
       "      <td>0</td>\n",
       "      <td>3</td>\n",
       "      <td>0.192</td>\n",
       "      <td>0.674</td>\n",
       "      <td>0.183</td>\n",
       "      <td>0.437</td>\n",
       "      <td>-0.137</td>\n",
       "      <td>2700018.0</td>\n",
       "    </tr>\n",
       "    <tr>\n",
       "      <th>3</th>\n",
       "      <td>Ryan_Moore</td>\n",
       "      <td>78</td>\n",
       "      <td>71.94</td>\n",
       "      <td>2018</td>\n",
       "      <td>289.2</td>\n",
       "      <td>68.80</td>\n",
       "      <td>29.17</td>\n",
       "      <td>64.16</td>\n",
       "      <td>70.015</td>\n",
       "      <td>795</td>\n",
       "      <td>0</td>\n",
       "      <td>5</td>\n",
       "      <td>-0.271</td>\n",
       "      <td>0.941</td>\n",
       "      <td>0.406</td>\n",
       "      <td>0.532</td>\n",
       "      <td>0.273</td>\n",
       "      <td>1986608.0</td>\n",
       "    </tr>\n",
       "    <tr>\n",
       "      <th>4</th>\n",
       "      <td>Brian_Stuard</td>\n",
       "      <td>103</td>\n",
       "      <td>71.44</td>\n",
       "      <td>2018</td>\n",
       "      <td>278.9</td>\n",
       "      <td>67.12</td>\n",
       "      <td>29.11</td>\n",
       "      <td>59.23</td>\n",
       "      <td>71.038</td>\n",
       "      <td>421</td>\n",
       "      <td>0</td>\n",
       "      <td>3</td>\n",
       "      <td>0.164</td>\n",
       "      <td>0.062</td>\n",
       "      <td>-0.227</td>\n",
       "      <td>0.099</td>\n",
       "      <td>0.026</td>\n",
       "      <td>1089763.0</td>\n",
       "    </tr>\n",
       "  </tbody>\n",
       "</table>\n",
       "</div>"
      ],
      "text/plain": [
       "      player_name  rounds  fairway_percentage  year  avg_distance    gir  \\\n",
       "0  Henrik_Stenson      60               75.19  2018         291.5  73.51   \n",
       "1     Ryan_Armour     109               73.58  2018         283.5  68.22   \n",
       "2     Chez_Reavie      93               72.24  2018         286.5  68.67   \n",
       "3      Ryan_Moore      78               71.94  2018         289.2  68.80   \n",
       "4    Brian_Stuard     103               71.44  2018         278.9  67.12   \n",
       "\n",
       "   average_putts  average_scrambling  average_score  points  wins  top_10  \\\n",
       "0          29.93               60.67         69.617     868     0       5   \n",
       "1          29.31               60.13         70.758    1006     1       3   \n",
       "2          29.12               62.27         70.432    1020     0       3   \n",
       "3          29.17               64.16         70.015     795     0       5   \n",
       "4          29.11               59.23         71.038     421     0       3   \n",
       "\n",
       "   average_sg_putts  average_sg_total  sg:ott  sg:apr  sg:arg      money  \n",
       "0            -0.207             1.153   0.427   0.960  -0.027  2680487.0  \n",
       "1            -0.058             0.337  -0.012   0.213   0.194  2485203.0  \n",
       "2             0.192             0.674   0.183   0.437  -0.137  2700018.0  \n",
       "3            -0.271             0.941   0.406   0.532   0.273  1986608.0  \n",
       "4             0.164             0.062  -0.227   0.099   0.026  1089763.0  "
      ]
     },
     "execution_count": 6,
     "metadata": {},
     "output_type": "execute_result"
    }
   ],
   "source": [
    "players_that_have_top10 = df.loc[df['top_10'] >= 1, :]\n",
    "players_that_have_top10.head()"
   ]
  },
  {
   "cell_type": "code",
   "execution_count": 7,
   "metadata": {},
   "outputs": [
    {
     "data": {
      "text/html": [
       "<div>\n",
       "<style scoped>\n",
       "    .dataframe tbody tr th:only-of-type {\n",
       "        vertical-align: middle;\n",
       "    }\n",
       "\n",
       "    .dataframe tbody tr th {\n",
       "        vertical-align: top;\n",
       "    }\n",
       "\n",
       "    .dataframe thead th {\n",
       "        text-align: right;\n",
       "    }\n",
       "</style>\n",
       "<table border=\"1\" class=\"dataframe\">\n",
       "  <thead>\n",
       "    <tr style=\"text-align: right;\">\n",
       "      <th></th>\n",
       "      <th>player_name</th>\n",
       "      <th>rounds</th>\n",
       "      <th>fairway_percentage</th>\n",
       "      <th>year</th>\n",
       "      <th>avg_distance</th>\n",
       "      <th>gir</th>\n",
       "      <th>average_putts</th>\n",
       "      <th>average_scrambling</th>\n",
       "      <th>average_score</th>\n",
       "      <th>points</th>\n",
       "      <th>wins</th>\n",
       "      <th>top_10</th>\n",
       "      <th>average_sg_putts</th>\n",
       "      <th>average_sg_total</th>\n",
       "      <th>sg:ott</th>\n",
       "      <th>sg:apr</th>\n",
       "      <th>sg:arg</th>\n",
       "      <th>money</th>\n",
       "    </tr>\n",
       "  </thead>\n",
       "  <tbody>\n",
       "    <tr>\n",
       "      <th>0</th>\n",
       "      <td>Henrik_Stenson</td>\n",
       "      <td>60</td>\n",
       "      <td>75.19</td>\n",
       "      <td>2018</td>\n",
       "      <td>291.5</td>\n",
       "      <td>73.51</td>\n",
       "      <td>29.93</td>\n",
       "      <td>60.67</td>\n",
       "      <td>69.617</td>\n",
       "      <td>868</td>\n",
       "      <td>0</td>\n",
       "      <td>5</td>\n",
       "      <td>-0.207</td>\n",
       "      <td>1.153</td>\n",
       "      <td>0.427</td>\n",
       "      <td>0.960</td>\n",
       "      <td>-0.027</td>\n",
       "      <td>2680487.0</td>\n",
       "    </tr>\n",
       "    <tr>\n",
       "      <th>15</th>\n",
       "      <td>Rafa_Cabrera_Bello</td>\n",
       "      <td>75</td>\n",
       "      <td>67.85</td>\n",
       "      <td>2018</td>\n",
       "      <td>295.1</td>\n",
       "      <td>70.16</td>\n",
       "      <td>29.47</td>\n",
       "      <td>57.98</td>\n",
       "      <td>69.887</td>\n",
       "      <td>784</td>\n",
       "      <td>0</td>\n",
       "      <td>4</td>\n",
       "      <td>0.273</td>\n",
       "      <td>1.112</td>\n",
       "      <td>0.256</td>\n",
       "      <td>0.487</td>\n",
       "      <td>0.096</td>\n",
       "      <td>2449869.0</td>\n",
       "    </tr>\n",
       "    <tr>\n",
       "      <th>32</th>\n",
       "      <td>Justin_Rose</td>\n",
       "      <td>70</td>\n",
       "      <td>66.02</td>\n",
       "      <td>2018</td>\n",
       "      <td>303.5</td>\n",
       "      <td>69.95</td>\n",
       "      <td>28.67</td>\n",
       "      <td>63.03</td>\n",
       "      <td>68.993</td>\n",
       "      <td>1991</td>\n",
       "      <td>2</td>\n",
       "      <td>8</td>\n",
       "      <td>0.424</td>\n",
       "      <td>1.952</td>\n",
       "      <td>0.551</td>\n",
       "      <td>0.526</td>\n",
       "      <td>0.450</td>\n",
       "      <td>8130678.0</td>\n",
       "    </tr>\n",
       "    <tr>\n",
       "      <th>39</th>\n",
       "      <td>Rickie_Fowler</td>\n",
       "      <td>74</td>\n",
       "      <td>65.33</td>\n",
       "      <td>2018</td>\n",
       "      <td>299.8</td>\n",
       "      <td>69.52</td>\n",
       "      <td>28.99</td>\n",
       "      <td>63.05</td>\n",
       "      <td>69.435</td>\n",
       "      <td>1302</td>\n",
       "      <td>0</td>\n",
       "      <td>4</td>\n",
       "      <td>0.296</td>\n",
       "      <td>1.275</td>\n",
       "      <td>0.244</td>\n",
       "      <td>0.494</td>\n",
       "      <td>0.242</td>\n",
       "      <td>4235237.0</td>\n",
       "    </tr>\n",
       "    <tr>\n",
       "      <th>46</th>\n",
       "      <td>Francesco_Molinari</td>\n",
       "      <td>73</td>\n",
       "      <td>65.04</td>\n",
       "      <td>2018</td>\n",
       "      <td>301.0</td>\n",
       "      <td>70.24</td>\n",
       "      <td>29.63</td>\n",
       "      <td>58.67</td>\n",
       "      <td>69.797</td>\n",
       "      <td>1682</td>\n",
       "      <td>2</td>\n",
       "      <td>4</td>\n",
       "      <td>-0.487</td>\n",
       "      <td>1.123</td>\n",
       "      <td>0.690</td>\n",
       "      <td>0.593</td>\n",
       "      <td>0.327</td>\n",
       "      <td>5065842.0</td>\n",
       "    </tr>\n",
       "  </tbody>\n",
       "</table>\n",
       "</div>"
      ],
      "text/plain": [
       "           player_name  rounds  fairway_percentage  year  avg_distance    gir  \\\n",
       "0       Henrik_Stenson      60               75.19  2018         291.5  73.51   \n",
       "15  Rafa_Cabrera_Bello      75               67.85  2018         295.1  70.16   \n",
       "32         Justin_Rose      70               66.02  2018         303.5  69.95   \n",
       "39       Rickie_Fowler      74               65.33  2018         299.8  69.52   \n",
       "46  Francesco_Molinari      73               65.04  2018         301.0  70.24   \n",
       "\n",
       "    average_putts  average_scrambling  average_score  points  wins  top_10  \\\n",
       "0           29.93               60.67         69.617     868     0       5   \n",
       "15          29.47               57.98         69.887     784     0       4   \n",
       "32          28.67               63.03         68.993    1991     2       8   \n",
       "39          28.99               63.05         69.435    1302     0       4   \n",
       "46          29.63               58.67         69.797    1682     2       4   \n",
       "\n",
       "    average_sg_putts  average_sg_total  sg:ott  sg:apr  sg:arg      money  \n",
       "0             -0.207             1.153   0.427   0.960  -0.027  2680487.0  \n",
       "15             0.273             1.112   0.256   0.487   0.096  2449869.0  \n",
       "32             0.424             1.952   0.551   0.526   0.450  8130678.0  \n",
       "39             0.296             1.275   0.244   0.494   0.242  4235237.0  \n",
       "46            -0.487             1.123   0.690   0.593   0.327  5065842.0  "
      ]
     },
     "execution_count": 7,
     "metadata": {},
     "output_type": "execute_result"
    }
   ],
   "source": [
    "players_that_have_sub_par = df.loc[df['average_score'] <= 70, :]\n",
    "players_that_have_sub_par.head()"
   ]
  },
  {
   "cell_type": "code",
   "execution_count": 8,
   "metadata": {},
   "outputs": [
    {
     "data": {
      "text/plain": [
       "count    1.674000e+03\n",
       "mean     1.488682e+06\n",
       "std      1.410333e+06\n",
       "min      2.465000e+04\n",
       "25%      5.656412e+05\n",
       "50%      1.046144e+06\n",
       "75%      1.892478e+06\n",
       "max      1.203046e+07\n",
       "Name: money, dtype: float64"
      ]
     },
     "execution_count": 8,
     "metadata": {},
     "output_type": "execute_result"
    }
   ],
   "source": [
    "df['money'].describe()"
   ]
  },
  {
   "cell_type": "code",
   "execution_count": 9,
   "metadata": {},
   "outputs": [
    {
     "data": {
      "text/plain": [
       "count    1674.000000\n",
       "mean       61.448614\n",
       "std         5.057758\n",
       "min        43.020000\n",
       "25%        57.955000\n",
       "50%        61.435000\n",
       "75%        64.910000\n",
       "max        76.880000\n",
       "Name: fairway_percentage, dtype: float64"
      ]
     },
     "execution_count": 9,
     "metadata": {},
     "output_type": "execute_result"
    }
   ],
   "source": [
    "df['fairway_percentage'].describe()"
   ]
  },
  {
   "cell_type": "code",
   "execution_count": 10,
   "metadata": {},
   "outputs": [
    {
     "data": {
      "text/plain": [
       "count    1674.000000\n",
       "mean      290.786081\n",
       "std         8.908379\n",
       "min       266.400000\n",
       "25%       284.900000\n",
       "50%       290.500000\n",
       "75%       296.375000\n",
       "max       319.700000\n",
       "Name: avg_distance, dtype: float64"
      ]
     },
     "execution_count": 10,
     "metadata": {},
     "output_type": "execute_result"
    }
   ],
   "source": [
    "df['avg_distance'].describe()"
   ]
  },
  {
   "cell_type": "markdown",
   "metadata": {},
   "source": [
    "###### Below I am taking the data from the the .descibe() method to come to the conclussion that it is best to use the meadian as we are looking at more middle of the pack players so while the 75th percentile is only roughly 400,000 dollars more that is about a half a standard deviation so we said the significance was not enough for our group to change to the 75th percentile."
   ]
  },
  {
   "cell_type": "code",
   "execution_count": 11,
   "metadata": {},
   "outputs": [
    {
     "data": {
      "text/plain": [
       "1    837\n",
       "0    837\n",
       "Name: money, dtype: int64"
      ]
     },
     "execution_count": 11,
     "metadata": {},
     "output_type": "execute_result"
    }
   ],
   "source": [
    "fift_percent = df['money'].describe()[5]\n",
    "df['money']=df['money'].apply(lambda x: 1 if x> fift_percent else 0)\n",
    "df['money'].value_counts()"
   ]
  },
  {
   "cell_type": "markdown",
   "metadata": {},
   "source": [
    "# Feature engeneering\n",
    "###### I then go in and make two new columns combining columns. I chose to combine ave_distance and fairway_percentage because we wanted to get the difference between the two as a person that has played golf for years it is just as important to hit the fairway as it is to hit the ball far so we wanted a column that would give us this so we created distance_fairway. We when created another one that is winners which is just giving us the people thathave either won or have not and giving them a 1 or a 0.\n",
    "###### Then I check for any null values in the data"
   ]
  },
  {
   "cell_type": "code",
   "execution_count": 12,
   "metadata": {},
   "outputs": [],
   "source": [
    "df['distance_fairway'] = df['avg_distance'] / df['fairway_percentage']"
   ]
  },
  {
   "cell_type": "code",
   "execution_count": 13,
   "metadata": {},
   "outputs": [
    {
     "data": {
      "text/html": [
       "<div>\n",
       "<style scoped>\n",
       "    .dataframe tbody tr th:only-of-type {\n",
       "        vertical-align: middle;\n",
       "    }\n",
       "\n",
       "    .dataframe tbody tr th {\n",
       "        vertical-align: top;\n",
       "    }\n",
       "\n",
       "    .dataframe thead th {\n",
       "        text-align: right;\n",
       "    }\n",
       "</style>\n",
       "<table border=\"1\" class=\"dataframe\">\n",
       "  <thead>\n",
       "    <tr style=\"text-align: right;\">\n",
       "      <th></th>\n",
       "      <th>player_name</th>\n",
       "      <th>rounds</th>\n",
       "      <th>fairway_percentage</th>\n",
       "      <th>year</th>\n",
       "      <th>avg_distance</th>\n",
       "      <th>gir</th>\n",
       "      <th>average_putts</th>\n",
       "      <th>average_scrambling</th>\n",
       "      <th>average_score</th>\n",
       "      <th>points</th>\n",
       "      <th>wins</th>\n",
       "      <th>top_10</th>\n",
       "      <th>average_sg_putts</th>\n",
       "      <th>average_sg_total</th>\n",
       "      <th>sg:ott</th>\n",
       "      <th>sg:apr</th>\n",
       "      <th>sg:arg</th>\n",
       "      <th>money</th>\n",
       "      <th>distance_fairway</th>\n",
       "      <th>winners</th>\n",
       "    </tr>\n",
       "  </thead>\n",
       "  <tbody>\n",
       "    <tr>\n",
       "      <th>0</th>\n",
       "      <td>Henrik_Stenson</td>\n",
       "      <td>60</td>\n",
       "      <td>75.19</td>\n",
       "      <td>2018</td>\n",
       "      <td>291.5</td>\n",
       "      <td>73.51</td>\n",
       "      <td>29.93</td>\n",
       "      <td>60.67</td>\n",
       "      <td>69.617</td>\n",
       "      <td>868</td>\n",
       "      <td>0</td>\n",
       "      <td>5</td>\n",
       "      <td>-0.207</td>\n",
       "      <td>1.153</td>\n",
       "      <td>0.427</td>\n",
       "      <td>0.960</td>\n",
       "      <td>-0.027</td>\n",
       "      <td>1</td>\n",
       "      <td>3.876845</td>\n",
       "      <td>0</td>\n",
       "    </tr>\n",
       "    <tr>\n",
       "      <th>1</th>\n",
       "      <td>Ryan_Armour</td>\n",
       "      <td>109</td>\n",
       "      <td>73.58</td>\n",
       "      <td>2018</td>\n",
       "      <td>283.5</td>\n",
       "      <td>68.22</td>\n",
       "      <td>29.31</td>\n",
       "      <td>60.13</td>\n",
       "      <td>70.758</td>\n",
       "      <td>1006</td>\n",
       "      <td>1</td>\n",
       "      <td>3</td>\n",
       "      <td>-0.058</td>\n",
       "      <td>0.337</td>\n",
       "      <td>-0.012</td>\n",
       "      <td>0.213</td>\n",
       "      <td>0.194</td>\n",
       "      <td>1</td>\n",
       "      <td>3.852949</td>\n",
       "      <td>1</td>\n",
       "    </tr>\n",
       "    <tr>\n",
       "      <th>2</th>\n",
       "      <td>Chez_Reavie</td>\n",
       "      <td>93</td>\n",
       "      <td>72.24</td>\n",
       "      <td>2018</td>\n",
       "      <td>286.5</td>\n",
       "      <td>68.67</td>\n",
       "      <td>29.12</td>\n",
       "      <td>62.27</td>\n",
       "      <td>70.432</td>\n",
       "      <td>1020</td>\n",
       "      <td>0</td>\n",
       "      <td>3</td>\n",
       "      <td>0.192</td>\n",
       "      <td>0.674</td>\n",
       "      <td>0.183</td>\n",
       "      <td>0.437</td>\n",
       "      <td>-0.137</td>\n",
       "      <td>1</td>\n",
       "      <td>3.965947</td>\n",
       "      <td>0</td>\n",
       "    </tr>\n",
       "    <tr>\n",
       "      <th>3</th>\n",
       "      <td>Ryan_Moore</td>\n",
       "      <td>78</td>\n",
       "      <td>71.94</td>\n",
       "      <td>2018</td>\n",
       "      <td>289.2</td>\n",
       "      <td>68.80</td>\n",
       "      <td>29.17</td>\n",
       "      <td>64.16</td>\n",
       "      <td>70.015</td>\n",
       "      <td>795</td>\n",
       "      <td>0</td>\n",
       "      <td>5</td>\n",
       "      <td>-0.271</td>\n",
       "      <td>0.941</td>\n",
       "      <td>0.406</td>\n",
       "      <td>0.532</td>\n",
       "      <td>0.273</td>\n",
       "      <td>1</td>\n",
       "      <td>4.020017</td>\n",
       "      <td>0</td>\n",
       "    </tr>\n",
       "    <tr>\n",
       "      <th>4</th>\n",
       "      <td>Brian_Stuard</td>\n",
       "      <td>103</td>\n",
       "      <td>71.44</td>\n",
       "      <td>2018</td>\n",
       "      <td>278.9</td>\n",
       "      <td>67.12</td>\n",
       "      <td>29.11</td>\n",
       "      <td>59.23</td>\n",
       "      <td>71.038</td>\n",
       "      <td>421</td>\n",
       "      <td>0</td>\n",
       "      <td>3</td>\n",
       "      <td>0.164</td>\n",
       "      <td>0.062</td>\n",
       "      <td>-0.227</td>\n",
       "      <td>0.099</td>\n",
       "      <td>0.026</td>\n",
       "      <td>1</td>\n",
       "      <td>3.903975</td>\n",
       "      <td>0</td>\n",
       "    </tr>\n",
       "    <tr>\n",
       "      <th>...</th>\n",
       "      <td>...</td>\n",
       "      <td>...</td>\n",
       "      <td>...</td>\n",
       "      <td>...</td>\n",
       "      <td>...</td>\n",
       "      <td>...</td>\n",
       "      <td>...</td>\n",
       "      <td>...</td>\n",
       "      <td>...</td>\n",
       "      <td>...</td>\n",
       "      <td>...</td>\n",
       "      <td>...</td>\n",
       "      <td>...</td>\n",
       "      <td>...</td>\n",
       "      <td>...</td>\n",
       "      <td>...</td>\n",
       "      <td>...</td>\n",
       "      <td>...</td>\n",
       "      <td>...</td>\n",
       "      <td>...</td>\n",
       "    </tr>\n",
       "    <tr>\n",
       "      <th>484</th>\n",
       "      <td>Sung_Kang</td>\n",
       "      <td>89</td>\n",
       "      <td>59.36</td>\n",
       "      <td>2016</td>\n",
       "      <td>292.4</td>\n",
       "      <td>65.26</td>\n",
       "      <td>29.06</td>\n",
       "      <td>59.74</td>\n",
       "      <td>70.856</td>\n",
       "      <td>473</td>\n",
       "      <td>0</td>\n",
       "      <td>2</td>\n",
       "      <td>0.186</td>\n",
       "      <td>0.004</td>\n",
       "      <td>-0.009</td>\n",
       "      <td>-0.121</td>\n",
       "      <td>-0.053</td>\n",
       "      <td>0</td>\n",
       "      <td>4.925876</td>\n",
       "      <td>0</td>\n",
       "    </tr>\n",
       "    <tr>\n",
       "      <th>485</th>\n",
       "      <td>Willy_Wilcox</td>\n",
       "      <td>67</td>\n",
       "      <td>59.34</td>\n",
       "      <td>2016</td>\n",
       "      <td>292.9</td>\n",
       "      <td>63.42</td>\n",
       "      <td>28.74</td>\n",
       "      <td>58.18</td>\n",
       "      <td>71.055</td>\n",
       "      <td>399</td>\n",
       "      <td>0</td>\n",
       "      <td>2</td>\n",
       "      <td>-0.027</td>\n",
       "      <td>-0.089</td>\n",
       "      <td>0.040</td>\n",
       "      <td>0.159</td>\n",
       "      <td>-0.261</td>\n",
       "      <td>0</td>\n",
       "      <td>4.935962</td>\n",
       "      <td>0</td>\n",
       "    </tr>\n",
       "    <tr>\n",
       "      <th>486</th>\n",
       "      <td>J.J._Henry</td>\n",
       "      <td>68</td>\n",
       "      <td>59.33</td>\n",
       "      <td>2016</td>\n",
       "      <td>287.3</td>\n",
       "      <td>67.51</td>\n",
       "      <td>30.45</td>\n",
       "      <td>53.11</td>\n",
       "      <td>72.019</td>\n",
       "      <td>162</td>\n",
       "      <td>0</td>\n",
       "      <td>0</td>\n",
       "      <td>-0.237</td>\n",
       "      <td>-0.711</td>\n",
       "      <td>-0.144</td>\n",
       "      <td>-0.226</td>\n",
       "      <td>-0.104</td>\n",
       "      <td>0</td>\n",
       "      <td>4.842407</td>\n",
       "      <td>0</td>\n",
       "    </tr>\n",
       "    <tr>\n",
       "      <th>487</th>\n",
       "      <td>Harold_Varner_III</td>\n",
       "      <td>92</td>\n",
       "      <td>59.33</td>\n",
       "      <td>2016</td>\n",
       "      <td>302.0</td>\n",
       "      <td>66.24</td>\n",
       "      <td>29.73</td>\n",
       "      <td>56.53</td>\n",
       "      <td>71.045</td>\n",
       "      <td>643</td>\n",
       "      <td>0</td>\n",
       "      <td>4</td>\n",
       "      <td>-0.377</td>\n",
       "      <td>0.101</td>\n",
       "      <td>0.529</td>\n",
       "      <td>0.021</td>\n",
       "      <td>-0.072</td>\n",
       "      <td>1</td>\n",
       "      <td>5.090174</td>\n",
       "      <td>0</td>\n",
       "    </tr>\n",
       "    <tr>\n",
       "      <th>488</th>\n",
       "      <td>Jeff_Overton</td>\n",
       "      <td>69</td>\n",
       "      <td>59.25</td>\n",
       "      <td>2016</td>\n",
       "      <td>285.0</td>\n",
       "      <td>63.85</td>\n",
       "      <td>29.05</td>\n",
       "      <td>63.59</td>\n",
       "      <td>71.466</td>\n",
       "      <td>289</td>\n",
       "      <td>0</td>\n",
       "      <td>1</td>\n",
       "      <td>-0.416</td>\n",
       "      <td>-0.492</td>\n",
       "      <td>-0.054</td>\n",
       "      <td>-0.157</td>\n",
       "      <td>0.134</td>\n",
       "      <td>0</td>\n",
       "      <td>4.810127</td>\n",
       "      <td>0</td>\n",
       "    </tr>\n",
       "  </tbody>\n",
       "</table>\n",
       "<p>488 rows × 20 columns</p>\n",
       "</div>"
      ],
      "text/plain": [
       "           player_name  rounds  fairway_percentage  year  avg_distance    gir  \\\n",
       "0       Henrik_Stenson      60               75.19  2018         291.5  73.51   \n",
       "1          Ryan_Armour     109               73.58  2018         283.5  68.22   \n",
       "2          Chez_Reavie      93               72.24  2018         286.5  68.67   \n",
       "3           Ryan_Moore      78               71.94  2018         289.2  68.80   \n",
       "4         Brian_Stuard     103               71.44  2018         278.9  67.12   \n",
       "..                 ...     ...                 ...   ...           ...    ...   \n",
       "484          Sung_Kang      89               59.36  2016         292.4  65.26   \n",
       "485       Willy_Wilcox      67               59.34  2016         292.9  63.42   \n",
       "486         J.J._Henry      68               59.33  2016         287.3  67.51   \n",
       "487  Harold_Varner_III      92               59.33  2016         302.0  66.24   \n",
       "488       Jeff_Overton      69               59.25  2016         285.0  63.85   \n",
       "\n",
       "     average_putts  average_scrambling  average_score  points  wins  top_10  \\\n",
       "0            29.93               60.67         69.617     868     0       5   \n",
       "1            29.31               60.13         70.758    1006     1       3   \n",
       "2            29.12               62.27         70.432    1020     0       3   \n",
       "3            29.17               64.16         70.015     795     0       5   \n",
       "4            29.11               59.23         71.038     421     0       3   \n",
       "..             ...                 ...            ...     ...   ...     ...   \n",
       "484          29.06               59.74         70.856     473     0       2   \n",
       "485          28.74               58.18         71.055     399     0       2   \n",
       "486          30.45               53.11         72.019     162     0       0   \n",
       "487          29.73               56.53         71.045     643     0       4   \n",
       "488          29.05               63.59         71.466     289     0       1   \n",
       "\n",
       "     average_sg_putts  average_sg_total  sg:ott  sg:apr  sg:arg  money  \\\n",
       "0              -0.207             1.153   0.427   0.960  -0.027      1   \n",
       "1              -0.058             0.337  -0.012   0.213   0.194      1   \n",
       "2               0.192             0.674   0.183   0.437  -0.137      1   \n",
       "3              -0.271             0.941   0.406   0.532   0.273      1   \n",
       "4               0.164             0.062  -0.227   0.099   0.026      1   \n",
       "..                ...               ...     ...     ...     ...    ...   \n",
       "484             0.186             0.004  -0.009  -0.121  -0.053      0   \n",
       "485            -0.027            -0.089   0.040   0.159  -0.261      0   \n",
       "486            -0.237            -0.711  -0.144  -0.226  -0.104      0   \n",
       "487            -0.377             0.101   0.529   0.021  -0.072      1   \n",
       "488            -0.416            -0.492  -0.054  -0.157   0.134      0   \n",
       "\n",
       "     distance_fairway  winners  \n",
       "0            3.876845        0  \n",
       "1            3.852949        1  \n",
       "2            3.965947        0  \n",
       "3            4.020017        0  \n",
       "4            3.903975        0  \n",
       "..                ...      ...  \n",
       "484          4.925876        0  \n",
       "485          4.935962        0  \n",
       "486          4.842407        0  \n",
       "487          5.090174        0  \n",
       "488          4.810127        0  \n",
       "\n",
       "[488 rows x 20 columns]"
      ]
     },
     "execution_count": 13,
     "metadata": {},
     "output_type": "execute_result"
    }
   ],
   "source": [
    "df['winners']=df['wins'].apply(lambda x: 1 if x>0 else 0)\n",
    "df.head(488)"
   ]
  },
  {
   "cell_type": "code",
   "execution_count": 14,
   "metadata": {},
   "outputs": [
    {
     "data": {
      "text/plain": [
       "player_name           0\n",
       "rounds                0\n",
       "fairway_percentage    0\n",
       "year                  0\n",
       "avg_distance          0\n",
       "gir                   0\n",
       "average_putts         0\n",
       "average_scrambling    0\n",
       "average_score         0\n",
       "points                0\n",
       "wins                  0\n",
       "top_10                0\n",
       "average_sg_putts      0\n",
       "average_sg_total      0\n",
       "sg:ott                0\n",
       "sg:apr                0\n",
       "sg:arg                0\n",
       "money                 0\n",
       "distance_fairway      0\n",
       "winners               0\n",
       "dtype: int64"
      ]
     },
     "execution_count": 14,
     "metadata": {},
     "output_type": "execute_result"
    }
   ],
   "source": [
    "df.isna().sum()"
   ]
  },
  {
   "cell_type": "markdown",
   "metadata": {},
   "source": [
    "#  Model Function\n",
    "###### I created a funtion that runs the model you create and runs diffrent test on the predicted values."
   ]
  },
  {
   "cell_type": "code",
   "execution_count": 15,
   "metadata": {},
   "outputs": [],
   "source": [
    "def modeling_function(model, X_train, y_train, X_val, y_val):\n",
    "\n",
    "    # fit model on training data\n",
    "    model.fit(X_train, y_train)\n",
    "\n",
    "    # make predictions on training and validation data\n",
    "    train_preds = model.predict(X_train)\n",
    "    val_preds = model.predict(X_val)\n",
    "\n",
    "    # Print scores\n",
    "    print('Training accuracy score: ', accuracy_score(y_train, train_preds))\n",
    "    print('Validation accuracy score: ', accuracy_score(y_val, val_preds))\n",
    "    print('Training Precision score: ', precision_score(y_train, train_preds))\n",
    "    print('Validation Precision score: ', precision_score(y_val, val_preds))\n",
    "    print('Training recall score: ', recall_score(y_train, train_preds))\n",
    "    print('Validation recall score: ', recall_score(y_val, val_preds))\n",
    "    # return fitted model\n",
    "    return model"
   ]
  },
  {
   "cell_type": "markdown",
   "metadata": {},
   "source": [
    "# Preparation for model function\n",
    "###### In this we will address our features and target variable, create Train-Test Splits,  Instantiate a SimpleImputer, Instantiate StandardScaler. "
   ]
  },
  {
   "cell_type": "code",
   "execution_count": 16,
   "metadata": {},
   "outputs": [],
   "source": [
    "# Target\n",
    "y = df['money']\n",
    "# Features\n",
    "X = df.drop(df[['money','player_name','wins','avg_distance','fairway_percentage','year']], axis=1)"
   ]
  },
  {
   "cell_type": "code",
   "execution_count": 17,
   "metadata": {},
   "outputs": [],
   "source": [
    "# Initial Train-Test Split\n",
    "X_tr, X_test, y_tr, y_test = train_test_split(X, y, test_size=.35, random_state=42,shuffle=True)\n",
    "X_train, X_val, y_train, y_val = train_test_split(X_tr, y_tr, test_size=.35, random_state=42,shuffle=True)"
   ]
  },
  {
   "cell_type": "code",
   "execution_count": 18,
   "metadata": {},
   "outputs": [
    {
     "data": {
      "text/plain": [
       "SimpleImputer(strategy='median')"
      ]
     },
     "execution_count": 18,
     "metadata": {},
     "output_type": "execute_result"
    }
   ],
   "source": [
    "# Instantiate a SimpleImputer\n",
    "imputer = SimpleImputer(strategy='median')\n",
    "# Fit on training data\n",
    "imputer.fit(X_train)"
   ]
  },
  {
   "cell_type": "code",
   "execution_count": 19,
   "metadata": {},
   "outputs": [
    {
     "name": "stdout",
     "output_type": "stream",
     "text": [
      "X_train missing:  0\n",
      "X_val missing:  0\n"
     ]
    }
   ],
   "source": [
    "X_train_imputed = pd.DataFrame(imputer.transform(X_train), columns=X.columns)\n",
    "X_val_imputed = pd.DataFrame(imputer.transform(X_val), columns=X.columns)\n",
    "print(\"X_train missing: \", X_train_imputed.isna().sum().sum())\n",
    "print('X_val missing: ', X_val_imputed.isna().sum().sum())"
   ]
  },
  {
   "cell_type": "code",
   "execution_count": 20,
   "metadata": {},
   "outputs": [],
   "source": [
    "num_cols = list(X.select_dtypes('number').columns)"
   ]
  },
  {
   "cell_type": "code",
   "execution_count": 21,
   "metadata": {},
   "outputs": [],
   "source": [
    "# Instantiate StandardScaler\n",
    "scaler = StandardScaler()"
   ]
  },
  {
   "cell_type": "code",
   "execution_count": 22,
   "metadata": {},
   "outputs": [
    {
     "data": {
      "text/plain": [
       "StandardScaler()"
      ]
     },
     "execution_count": 22,
     "metadata": {},
     "output_type": "execute_result"
    }
   ],
   "source": [
    "# fit on Imputed training data\n",
    "scaler.fit(X_train_imputed[num_cols])"
   ]
  },
  {
   "cell_type": "code",
   "execution_count": 23,
   "metadata": {},
   "outputs": [],
   "source": [
    "# transform training and validation data\n",
    "X_train_scaled = pd.DataFrame(scaler.transform(X_train_imputed[num_cols]), columns=num_cols)\n",
    "X_val_scaled = pd.DataFrame(scaler.transform(X_val_imputed[num_cols]), columns=num_cols)"
   ]
  },
  {
   "cell_type": "markdown",
   "metadata": {},
   "source": [
    "# Instantiate Models\n",
    "###### Below we will create multiple models in order to find the best model for our data based of the scores given to us through the modeling function.  As well as call a confusion matrix in order to see the True Positives, True Negatives, False Positives, and False Negatives.\n",
    "\n",
    "# Baseline model"
   ]
  },
  {
   "cell_type": "code",
   "execution_count": 24,
   "metadata": {},
   "outputs": [],
   "source": [
    "# Instantiate LogisticRegression\n",
    "logreg2 = LogisticRegression()"
   ]
  },
  {
   "cell_type": "code",
   "execution_count": 25,
   "metadata": {},
   "outputs": [
    {
     "data": {
      "text/plain": [
       "LogisticRegression()"
      ]
     },
     "execution_count": 25,
     "metadata": {},
     "output_type": "execute_result"
    }
   ],
   "source": [
    "logreg2.fit(X_train_scaled, y_train)"
   ]
  },
  {
   "cell_type": "code",
   "execution_count": 26,
   "metadata": {},
   "outputs": [
    {
     "name": "stdout",
     "output_type": "stream",
     "text": [
      "Training accuracy score:  0.9193776520509194\n",
      "Validation accuracy score:  0.9396325459317585\n",
      "Training Precision score:  0.9226361031518625\n",
      "Validation Precision score:  0.9402173913043478\n",
      "Training recall score:  0.9147727272727273\n",
      "Validation recall score:  0.9351351351351351\n"
     ]
    }
   ],
   "source": [
    "# call modeling function\n",
    "logreg2 = modeling_function(logreg2, X_train_scaled, y_train, X_val_scaled , y_val)"
   ]
  },
  {
   "cell_type": "code",
   "execution_count": 27,
   "metadata": {},
   "outputs": [
    {
     "data": {
      "text/plain": [
       "<sklearn.metrics._plot.confusion_matrix.ConfusionMatrixDisplay at 0x7fe6a223df40>"
      ]
     },
     "execution_count": 27,
     "metadata": {},
     "output_type": "execute_result"
    },
    {
     "data": {
      "image/png": "[encoded data removed]",
      "text/plain": [
       "<Figure size 432x288 with 2 Axes>"
      ]
     },
     "metadata": {
      "needs_background": "light"
     },
     "output_type": "display_data"
    }
   ],
   "source": [
    "plot_confusion_matrix(logreg2, X_train_scaled, y_train)"
   ]
  },
  {
   "cell_type": "markdown",
   "metadata": {},
   "source": [
    "# Second model\n",
    "###### This is a simple decision tree with a random state of 42 and a max_depth set at 10"
   ]
  },
  {
   "cell_type": "code",
   "execution_count": 28,
   "metadata": {},
   "outputs": [],
   "source": [
    "dt2 = DecisionTreeClassifier(random_state=42, max_depth=10)"
   ]
  },
  {
   "cell_type": "code",
   "execution_count": 29,
   "metadata": {},
   "outputs": [
    {
     "name": "stdout",
     "output_type": "stream",
     "text": [
      "Training accuracy score:  1.0\n",
      "Validation accuracy score:  0.9002624671916011\n",
      "Training Precision score:  1.0\n",
      "Validation Precision score:  0.8808290155440415\n",
      "Training recall score:  1.0\n",
      "Validation recall score:  0.918918918918919\n"
     ]
    }
   ],
   "source": [
    "dt2 = modeling_function(dt2, X_train_scaled, y_train, X_val_scaled, y_val)"
   ]
  },
  {
   "cell_type": "code",
   "execution_count": 30,
   "metadata": {},
   "outputs": [
    {
     "data": {
      "text/plain": [
       "<sklearn.metrics._plot.confusion_matrix.ConfusionMatrixDisplay at 0x7fe6a22bc4c0>"
      ]
     },
     "execution_count": 30,
     "metadata": {},
     "output_type": "execute_result"
    },
    {
     "data": {
      "image/png": "[encoded data removed]",
      "text/plain": [
       "<Figure size 432x288 with 2 Axes>"
      ]
     },
     "metadata": {
      "needs_background": "light"
     },
     "output_type": "display_data"
    }
   ],
   "source": [
    "plot_confusion_matrix(dt2, X_train_scaled, y_train)"
   ]
  },
  {
   "cell_type": "markdown",
   "metadata": {},
   "source": [
    "### The tests that ran there obviously very high and no where as good at the baseling model\n",
    "\n",
    "\n",
    "# Third Model \n",
    "###### This is a Random forest Classifier with a random state of 42 "
   ]
  },
  {
   "cell_type": "code",
   "execution_count": 31,
   "metadata": {},
   "outputs": [],
   "source": [
    "rf = RandomForestClassifier(random_state=42 )"
   ]
  },
  {
   "cell_type": "code",
   "execution_count": 32,
   "metadata": {},
   "outputs": [
    {
     "name": "stdout",
     "output_type": "stream",
     "text": [
      "Training accuracy score:  1.0\n",
      "Validation accuracy score:  0.9501312335958005\n",
      "Training Precision score:  1.0\n",
      "Validation Precision score:  0.9510869565217391\n",
      "Training recall score:  1.0\n",
      "Validation recall score:  0.9459459459459459\n"
     ]
    }
   ],
   "source": [
    "\n",
    "rf = modeling_function(rf, X_train_scaled, y_train, X_val_scaled, y_val)"
   ]
  },
  {
   "cell_type": "code",
   "execution_count": 33,
   "metadata": {},
   "outputs": [
    {
     "data": {
      "text/plain": [
       "<sklearn.metrics._plot.confusion_matrix.ConfusionMatrixDisplay at 0x7fe6a2347f40>"
      ]
     },
     "execution_count": 33,
     "metadata": {},
     "output_type": "execute_result"
    },
    {
     "data": {
      "image/png": "[encoded data removed]",
      "text/plain": [
       "<Figure size 432x288 with 2 Axes>"
      ]
     },
     "metadata": {
      "needs_background": "light"
     },
     "output_type": "display_data"
    }
   ],
   "source": [
    "plot_confusion_matrix(rf, X_train_scaled, y_train)"
   ]
  },
  {
   "cell_type": "markdown",
   "metadata": {},
   "source": [
    "## This was slightly better than the second model but still not good so we continue.\n",
    "\n",
    "# Forth model\n",
    "###### This model is a GridsearchCv on the random forest Model made above, with the paramaters n_estimators ,max_depth, min_samples_leaf with the scoring being accuracy."
   ]
  },
  {
   "cell_type": "code",
   "execution_count": 34,
   "metadata": {},
   "outputs": [],
   "source": [
    "# Create Param Grid \n",
    "param_grid = {'n_estimators': [50, 75, 100],\n",
    "                'max_depth': [1, 3, 5, 7, 10],\n",
    "                'min_samples_leaf': [1, 3, 5, 7]}"
   ]
  },
  {
   "cell_type": "code",
   "execution_count": 35,
   "metadata": {},
   "outputs": [],
   "source": [
    "# Create GridSearchCV\n",
    "rf_gs = GridSearchCV(estimator=rf, param_grid=param_grid, scoring='accuracy')"
   ]
  },
  {
   "cell_type": "code",
   "execution_count": 36,
   "metadata": {},
   "outputs": [
    {
     "data": {
      "text/plain": [
       "GridSearchCV(estimator=RandomForestClassifier(random_state=42),\n",
       "             param_grid={'max_depth': [1, 3, 5, 7, 10],\n",
       "                         'min_samples_leaf': [1, 3, 5, 7],\n",
       "                         'n_estimators': [50, 75, 100]},\n",
       "             scoring='accuracy')"
      ]
     },
     "execution_count": 36,
     "metadata": {},
     "output_type": "execute_result"
    }
   ],
   "source": [
    "rf_gs.fit(X_train_scaled, y_train)"
   ]
  },
  {
   "cell_type": "code",
   "execution_count": 37,
   "metadata": {},
   "outputs": [],
   "source": [
    "good_model = rf_gs.best_estimator_"
   ]
  },
  {
   "cell_type": "code",
   "execution_count": 38,
   "metadata": {},
   "outputs": [
    {
     "data": {
      "text/plain": [
       "{'max_depth': 5, 'min_samples_leaf': 3, 'n_estimators': 75}"
      ]
     },
     "execution_count": 38,
     "metadata": {},
     "output_type": "execute_result"
    }
   ],
   "source": [
    "rf_gs.best_params_"
   ]
  },
  {
   "cell_type": "code",
   "execution_count": 39,
   "metadata": {},
   "outputs": [
    {
     "name": "stdout",
     "output_type": "stream",
     "text": [
      "Training accuracy score:  0.9504950495049505\n",
      "Validation accuracy score:  0.9501312335958005\n",
      "Training Precision score:  0.9515669515669516\n",
      "Validation Precision score:  0.9510869565217391\n",
      "Training recall score:  0.9488636363636364\n",
      "Validation recall score:  0.9459459459459459\n"
     ]
    },
    {
     "data": {
      "text/plain": [
       "RandomForestClassifier(max_depth=5, min_samples_leaf=3, n_estimators=75,\n",
       "                       random_state=42)"
      ]
     },
     "execution_count": 39,
     "metadata": {},
     "output_type": "execute_result"
    }
   ],
   "source": [
    "modeling_function(good_model, X_train_scaled, y_train, X_val_scaled, y_val)"
   ]
  },
  {
   "cell_type": "code",
   "execution_count": 40,
   "metadata": {},
   "outputs": [
    {
     "data": {
      "text/plain": [
       "<sklearn.metrics._plot.confusion_matrix.ConfusionMatrixDisplay at 0x7fe6a262a6a0>"
      ]
     },
     "execution_count": 40,
     "metadata": {},
     "output_type": "execute_result"
    },
    {
     "data": {
      "image/png": "[encoded data removed]",
      "text/plain": [
       "<Figure size 432x288 with 2 Axes>"
      ]
     },
     "metadata": {
      "needs_background": "light"
     },
     "output_type": "display_data"
    }
   ],
   "source": [
    "plot_confusion_matrix(good_model, X_train_scaled, y_train)"
   ]
  },
  {
   "cell_type": "markdown",
   "metadata": {},
   "source": [
    "#### We are getting on the right track with this as this is the best model we have gotten so far, but we continue and try a diffrent model now.\n",
    "\n",
    "# Fifth Model\n",
    "###### This model is and XGBoost Classifier with a Gridsearch added to is with the parameters, gamma, subsample, colsample_bytree, and max_depth."
   ]
  },
  {
   "cell_type": "code",
   "execution_count": 41,
   "metadata": {},
   "outputs": [],
   "source": [
    "xgb = XGBClassifier(random_state=42)"
   ]
  },
  {
   "cell_type": "code",
   "execution_count": 42,
   "metadata": {},
   "outputs": [
    {
     "name": "stdout",
     "output_type": "stream",
     "text": [
      "Training accuracy score:  1.0\n",
      "Validation accuracy score:  0.9291338582677166\n",
      "Training Precision score:  1.0\n",
      "Validation Precision score:  0.9157894736842105\n",
      "Training recall score:  1.0\n",
      "Validation recall score:  0.9405405405405406\n"
     ]
    }
   ],
   "source": [
    "xgb = modeling_function(xgb, X_train_scaled, y_train, X_val_scaled, y_val)"
   ]
  },
  {
   "cell_type": "code",
   "execution_count": 43,
   "metadata": {},
   "outputs": [],
   "source": [
    "param_grid = {'gamma': [0.5, 1, 1.5, 2, 5],\n",
    "        'subsample': [0.6, 0.8, 1.0],\n",
    "        'colsample_bytree': [0.6, 0.8, 1.0],\n",
    "        'max_depth': [3, 4, 5]\n",
    "        }"
   ]
  },
  {
   "cell_type": "code",
   "execution_count": 44,
   "metadata": {},
   "outputs": [],
   "source": [
    "xgb_gs = GridSearchCV(estimator=xgb, param_grid=param_grid, scoring='accuracy')"
   ]
  },
  {
   "cell_type": "code",
   "execution_count": 45,
   "metadata": {},
   "outputs": [
    {
     "data": {
      "text/plain": [
       "GridSearchCV(estimator=XGBClassifier(base_score=0.5, booster='gbtree',\n",
       "                                     colsample_bylevel=1, colsample_bynode=1,\n",
       "                                     colsample_bytree=1, gamma=0, gpu_id=-1,\n",
       "                                     importance_type='gain',\n",
       "                                     interaction_constraints='',\n",
       "                                     learning_rate=0.300000012,\n",
       "                                     max_delta_step=0, max_depth=6,\n",
       "                                     min_child_weight=1, missing=nan,\n",
       "                                     monotone_constraints='()',\n",
       "                                     n_estimators=100, n_jobs=0,\n",
       "                                     num_parallel_tree=1, random_state=42,\n",
       "                                     reg_alpha=0, reg_lambda=1,\n",
       "                                     scale_pos_weight=1, subsample=1,\n",
       "                                     tree_method='exact', validate_parameters=1,\n",
       "                                     verbosity=None),\n",
       "             param_grid={'colsample_bytree': [0.6, 0.8, 1.0],\n",
       "                         'gamma': [0.5, 1, 1.5, 2, 5], 'max_depth': [3, 4, 5],\n",
       "                         'subsample': [0.6, 0.8, 1.0]},\n",
       "             scoring='accuracy')"
      ]
     },
     "execution_count": 45,
     "metadata": {},
     "output_type": "execute_result"
    }
   ],
   "source": [
    "xgb_gs.fit(X_train_scaled, y_train)"
   ]
  },
  {
   "cell_type": "code",
   "execution_count": 46,
   "metadata": {},
   "outputs": [],
   "source": [
    "best_model = xgb_gs.best_estimator_"
   ]
  },
  {
   "cell_type": "code",
   "execution_count": 47,
   "metadata": {},
   "outputs": [
    {
     "data": {
      "text/plain": [
       "{'colsample_bytree': 1.0, 'gamma': 5, 'max_depth': 3, 'subsample': 1.0}"
      ]
     },
     "execution_count": 47,
     "metadata": {},
     "output_type": "execute_result"
    }
   ],
   "source": [
    "xgb_gs.best_params_"
   ]
  },
  {
   "cell_type": "code",
   "execution_count": 48,
   "metadata": {},
   "outputs": [
    {
     "name": "stdout",
     "output_type": "stream",
     "text": [
      "Training accuracy score:  0.9519094766619519\n",
      "Validation accuracy score:  0.9448818897637795\n",
      "Training Precision score:  0.9542857142857143\n",
      "Validation Precision score:  0.9361702127659575\n",
      "Training recall score:  0.9488636363636364\n",
      "Validation recall score:  0.9513513513513514\n"
     ]
    },
    {
     "data": {
      "text/plain": [
       "XGBClassifier(base_score=0.5, booster='gbtree', colsample_bylevel=1,\n",
       "              colsample_bynode=1, colsample_bytree=1.0, gamma=5, gpu_id=-1,\n",
       "              importance_type='gain', interaction_constraints='',\n",
       "              learning_rate=0.300000012, max_delta_step=0, max_depth=3,\n",
       "              min_child_weight=1, missing=nan, monotone_constraints='()',\n",
       "              n_estimators=100, n_jobs=0, num_parallel_tree=1, random_state=42,\n",
       "              reg_alpha=0, reg_lambda=1, scale_pos_weight=1, subsample=1.0,\n",
       "              tree_method='exact', validate_parameters=1, verbosity=None)"
      ]
     },
     "execution_count": 48,
     "metadata": {},
     "output_type": "execute_result"
    }
   ],
   "source": [
    "modeling_function(best_model, X_train_scaled, y_train, X_val_scaled, y_val)"
   ]
  },
  {
   "cell_type": "code",
   "execution_count": 49,
   "metadata": {},
   "outputs": [
    {
     "data": {
      "text/plain": [
       "<sklearn.metrics._plot.confusion_matrix.ConfusionMatrixDisplay at 0x7fe6a22e39d0>"
      ]
     },
     "execution_count": 49,
     "metadata": {},
     "output_type": "execute_result"
    },
    {
     "data": {
      "image/png": "[encoded data removed]",
      "text/plain": [
       "<Figure size 432x288 with 2 Axes>"
      ]
     },
     "metadata": {
      "needs_background": "light"
     },
     "output_type": "display_data"
    }
   ],
   "source": [
    "plot_confusion_matrix(best_model, X_train_scaled, y_train)"
   ]
  },
  {
   "cell_type": "markdown",
   "metadata": {},
   "source": [
    "# With our final model completed with test scores of : \n",
    "###### Training accuracy score:  0.951 ,Validation accuracy score:  0.944\n",
    "###### Training Precision score:  0.952 , Validation Precision score:  0.936\n",
    "###### Training recall score:  0.948 , Validation recall score:  0.951\n",
    "\n",
    "\n",
    "### This was to be my final model for money so the next thing needed to do is to pass the X_test data through it to get the scores.\n",
    "\n",
    "##### But before we pass it into the best model we need to do all the work we did for the X_train and X_val data."
   ]
  },
  {
   "cell_type": "code",
   "execution_count": 50,
   "metadata": {},
   "outputs": [],
   "source": [
    "X_test_imputed = pd.DataFrame(imputer.transform(X_test), columns=X.columns)"
   ]
  },
  {
   "cell_type": "code",
   "execution_count": 51,
   "metadata": {},
   "outputs": [],
   "source": [
    "X_test_scaled = pd.DataFrame(scaler.transform(X_test_imputed[num_cols]), columns=num_cols)"
   ]
  },
  {
   "cell_type": "code",
   "execution_count": 52,
   "metadata": {},
   "outputs": [],
   "source": [
    "test_preds = best_model.predict(X_test_scaled)"
   ]
  },
  {
   "cell_type": "code",
   "execution_count": 53,
   "metadata": {},
   "outputs": [
    {
     "name": "stdout",
     "output_type": "stream",
     "text": [
      "Test accuracy score:  0.9129692832764505\n",
      "Test Precision score:  0.9278350515463918\n",
      "Test recall score:  0.9\n"
     ]
    }
   ],
   "source": [
    "    print('Test accuracy score: ', accuracy_score(y_test, test_preds))\n",
    "    print('Test Precision score: ', precision_score(y_test, test_preds))\n",
    "    print('Test recall score: ', recall_score(y_test, test_preds))  "
   ]
  },
  {
   "cell_type": "markdown",
   "metadata": {},
   "source": [
    "# Final functions \n",
    "#### These functions will be used so I can join my teammates models to mine is our efforts to sponser an upand coming golfer."
   ]
  },
  {
   "cell_type": "code",
   "execution_count": 54,
   "metadata": {},
   "outputs": [],
   "source": [
    "def Name_id(name, year):\n",
    "    row=df.loc[(df['player_name']==name) & (df['year']==year)]\n",
    "    return row"
   ]
  },
  {
   "cell_type": "code",
   "execution_count": 55,
   "metadata": {},
   "outputs": [],
   "source": [
    "def select_features(name, year):\n",
    "    name_id = Name_id(name, year)\n",
    "    dropped=name_id.drop(['money','player_name','wins','avg_distance','fairway_percentage','year'], axis=1)\n",
    "    target= name_id['money']\n",
    "    pred = best_model.predict(dropped)[0]\n",
    "    return pred"
   ]
  },
  {
   "cell_type": "code",
   "execution_count": 56,
   "metadata": {},
   "outputs": [
    {
     "data": {
      "text/plain": [
       "1"
      ]
     },
     "execution_count": 56,
     "metadata": {},
     "output_type": "execute_result"
    }
   ],
   "source": [
    "select_features(name=\"Justin_Thomas\", year = 2017)"
   ]
  },
  {
   "cell_type": "markdown",
   "metadata": {},
   "source": [
    "# Creating visualizations"
   ]
  },
  {
   "cell_type": "code",
   "execution_count": 57,
   "metadata": {},
   "outputs": [
    {
     "data": {
      "text/plain": [
       "[<matplotlib.lines.Line2D at 0x7fe6a2b1f550>]"
      ]
     },
     "execution_count": 57,
     "metadata": {},
     "output_type": "execute_result"
    },
    {
     "data": {
      "image/png": "[encoded data removed]",
      "text/plain": [
       "<Figure size 432x288 with 1 Axes>"
      ]
     },
     "metadata": {
      "needs_background": "light"
     },
     "output_type": "display_data"
    }
   ],
   "source": [
    "plt.scatter(test_preds, y_test, color=\"teal\")\n",
    "plt.plot(test_preds, test_preds, color=\"maroon\")"
   ]
  },
  {
   "cell_type": "code",
   "execution_count": null,
   "metadata": {},
   "outputs": [],
   "source": []
  }
 ],
 "metadata": {
  "kernelspec": {
   "display_name": "learn-env",
   "language": "python",
   "name": "learn-env"
  },
  "language_info": {
   "codemirror_mode": {
    "name": "ipython",
    "version": 3
   },
   "file_extension": ".py",
   "mimetype": "text/x-python",
   "name": "python",
   "nbconvert_exporter": "python",
   "pygments_lexer": "ipython3",
   "version": "3.8.5"
  }
 },
 "nbformat": 4,
 "nbformat_minor": 4
}

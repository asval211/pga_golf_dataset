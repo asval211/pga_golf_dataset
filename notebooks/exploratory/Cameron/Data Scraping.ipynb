{
 "cells": [
  {
   "cell_type": "code",
   "execution_count": 1,
   "metadata": {},
   "outputs": [],
   "source": [
    "#Imports\n",
    "import requests # Request module\n",
    "import pandas as pd # Data Wrangling\n",
    "import numpy as np # Data Wrangling\n",
    "from bs4 import BeautifulSoup #Web sraping module"
   ]
  },
  {
   "cell_type": "code",
   "execution_count": 2,
   "metadata": {},
   "outputs": [],
   "source": [
    "def get_headers(soup):\n",
    "    '''This function get's the column names to use for the data frame.'''\n",
    "    headers = []\n",
    "    \n",
    "    #Get rounds header\n",
    "    rounds = soup.find_all(class_=\"rounds hidden-small hidden-medium\")[0].get_text()\n",
    "    headers.append(rounds)\n",
    "    \n",
    "    #Get other headers\n",
    "    stat_headers = soup.find_all(class_=\"col-stat hidden-small hidden-medium\")\n",
    "    for header in stat_headers:\n",
    "        headers.append(header.get_text())\n",
    "    \n",
    "    return headers"
   ]
  },
  {
   "cell_type": "code",
   "execution_count": 3,
   "metadata": {},
   "outputs": [],
   "source": [
    "def get_players(soup):\n",
    "    '''This function takes the beautiful soup created and uses it to gather player names from the specified stats page.'''\n",
    "    \n",
    "    player_list = []\n",
    "    \n",
    "    #Get player as html tags\n",
    "    players = soup.select('td a')[1:] #Use 1 beacuse first line of all tables is not useful.\n",
    "    #Loop through list\n",
    "    for player in players:\n",
    "        player_list.append(player.get_text())\n",
    "    \n",
    "    return player_list\n"
   ]
  },
  {
   "cell_type": "code",
   "execution_count": 4,
   "metadata": {},
   "outputs": [],
   "source": [
    "def get_stats(soup, categories):\n",
    "    '''This function takes the soup created before and the number of categories needed to generate this'''\n",
    "    \n",
    "    #Finds all tags with class specified and puts into a list\n",
    "    stats = soup.find_all(class_=\"hidden-small hidden-medium\")\n",
    "    \n",
    "    #Initialize stats list\n",
    "    stat_list = []\n",
    "    \n",
    "    #Loop through \n",
    "    for i in range(0, len(stats)-categories+1, categories):\n",
    "        temp_list = []\n",
    "        for j in range(categories):\n",
    "            temp_list.append(stats[i + j].get_text())\n",
    "        stat_list.append(temp_list)\n",
    "            \n",
    "    return stat_list"
   ]
  },
  {
   "cell_type": "code",
   "execution_count": 5,
   "metadata": {},
   "outputs": [],
   "source": [
    "def stats_dict(players, stats):\n",
    "        '''This function takes two lists, players and stats, \n",
    "        and creates a dictionary with the player being the key \n",
    "        and the stats as the vales (as a list)'''\n",
    "    \n",
    "        #initialize player dictionary\n",
    "        player_dict = {}\n",
    "    \n",
    "        #Loop through player list\n",
    "        for i, player in enumerate(players):\n",
    "            player_dict[player] = stats[i]\n",
    "    \n",
    "        return player_dict"
   ]
  },
  {
   "cell_type": "code",
   "execution_count": 6,
   "metadata": {},
   "outputs": [],
   "source": [
    "def make_dataframe(url, categories):\n",
    "        \n",
    "    ##Create soup object from url.\n",
    "    response = requests.get(url)\n",
    "    text = response.text\n",
    "    soup = BeautifulSoup(text, 'lxml')\n",
    "    \n",
    "    #1. Get Headers\n",
    "    headers = get_headers(soup)\n",
    "    \n",
    "    #2. Get Players\n",
    "    players = get_players(soup)\n",
    "    \n",
    "    #3. Get Stats\n",
    "    stats = get_stats(soup, categories)\n",
    "    \n",
    "    #4. Make stats dictionary.\n",
    "    stats_dictionary = stats_dict(players, stats)\n",
    "    \n",
    "    #Make dataframe\n",
    "    frame = pd.DataFrame(stats_dictionary, index = headers).T\n",
    "    \n",
    "    #Reset index\n",
    "    frame = frame.reset_index()\n",
    "    \n",
    "    #For each Dataframe, change index column to 'NAME'\n",
    "    frame = frame.rename(index = str, columns = {'index': 'NAME'})\n",
    "    return frame\n"
   ]
  },
  {
   "cell_type": "code",
   "execution_count": 8,
   "metadata": {},
   "outputs": [],
   "source": [
    "years = [str(i) for i in range(2021,2022)]"
   ]
  },
  {
   "cell_type": "code",
   "execution_count": 21,
   "metadata": {},
   "outputs": [
    {
     "name": "stdout",
     "output_type": "stream",
     "text": [
      "2021\n"
     ]
    },
    {
     "ename": "KeyError",
     "evalue": "\"None of [Index(['PLAYER NAME', 'POINTS'], dtype='object')] are in the [columns]\"",
     "output_type": "error",
     "traceback": [
      "\u001b[0;31m---------------------------------------------------------------------------\u001b[0m",
      "\u001b[0;31mKeyError\u001b[0m                                  Traceback (most recent call last)",
      "\u001b[0;32m<ipython-input-21-c1d4d8ece7b6>\u001b[0m in \u001b[0;36m<module>\u001b[0;34m\u001b[0m\n\u001b[1;32m      2\u001b[0m     \u001b[0mprint\u001b[0m\u001b[0;34m(\u001b[0m\u001b[0myear\u001b[0m\u001b[0;34m)\u001b[0m\u001b[0;34m\u001b[0m\u001b[0;34m\u001b[0m\u001b[0m\n\u001b[1;32m      3\u001b[0m     \u001b[0;31m#Fedex cup points\u001b[0m\u001b[0;34m\u001b[0m\u001b[0;34m\u001b[0m\u001b[0;34m\u001b[0m\u001b[0m\n\u001b[0;32m----> 4\u001b[0;31m     \u001b[0mfcp\u001b[0m \u001b[0;34m=\u001b[0m \u001b[0mmake_dataframe\u001b[0m\u001b[0;34m(\u001b[0m\u001b[0;34m\"https://www.pgatour.com/stats/stat.02671.{}.html\"\u001b[0m\u001b[0;34m.\u001b[0m\u001b[0mformat\u001b[0m\u001b[0;34m(\u001b[0m\u001b[0myear\u001b[0m\u001b[0;34m)\u001b[0m\u001b[0;34m,\u001b[0m \u001b[0;36m5\u001b[0m\u001b[0;34m)\u001b[0m\u001b[0;34m[\u001b[0m\u001b[0;34m[\u001b[0m\u001b[0;34m'PLAYER NAME'\u001b[0m\u001b[0;34m,\u001b[0m \u001b[0;34m'POINTS'\u001b[0m\u001b[0;34m]\u001b[0m\u001b[0;34m]\u001b[0m\u001b[0;34m\u001b[0m\u001b[0;34m\u001b[0m\u001b[0m\n\u001b[0m\u001b[1;32m      5\u001b[0m     \u001b[0;31m#Top 10's and wins\u001b[0m\u001b[0;34m\u001b[0m\u001b[0;34m\u001b[0m\u001b[0;34m\u001b[0m\u001b[0m\n\u001b[1;32m      6\u001b[0m     \u001b[0mtop10\u001b[0m \u001b[0;34m=\u001b[0m \u001b[0mmake_dataframe\u001b[0m\u001b[0;34m(\u001b[0m\u001b[0;34m\"https://www.pgatour.com/stats/stat.138.{}.html\"\u001b[0m\u001b[0;34m.\u001b[0m\u001b[0mformat\u001b[0m\u001b[0;34m(\u001b[0m\u001b[0myear\u001b[0m\u001b[0;34m)\u001b[0m\u001b[0;34m,\u001b[0m \u001b[0;36m5\u001b[0m\u001b[0;34m)\u001b[0m\u001b[0;34m[\u001b[0m\u001b[0;34m[\u001b[0m\u001b[0;34m'NAME'\u001b[0m\u001b[0;34m,\u001b[0m \u001b[0;34m'TOP 10'\u001b[0m\u001b[0;34m,\u001b[0m \u001b[0;34m'1ST'\u001b[0m\u001b[0;34m]\u001b[0m\u001b[0;34m]\u001b[0m\u001b[0;34m\u001b[0m\u001b[0;34m\u001b[0m\u001b[0m\n",
      "\u001b[0;32m/opt/anaconda3/lib/python3.8/site-packages/pandas/core/frame.py\u001b[0m in \u001b[0;36m__getitem__\u001b[0;34m(self, key)\u001b[0m\n\u001b[1;32m   2906\u001b[0m             \u001b[0;32mif\u001b[0m \u001b[0mis_iterator\u001b[0m\u001b[0;34m(\u001b[0m\u001b[0mkey\u001b[0m\u001b[0;34m)\u001b[0m\u001b[0;34m:\u001b[0m\u001b[0;34m\u001b[0m\u001b[0;34m\u001b[0m\u001b[0m\n\u001b[1;32m   2907\u001b[0m                 \u001b[0mkey\u001b[0m \u001b[0;34m=\u001b[0m \u001b[0mlist\u001b[0m\u001b[0;34m(\u001b[0m\u001b[0mkey\u001b[0m\u001b[0;34m)\u001b[0m\u001b[0;34m\u001b[0m\u001b[0;34m\u001b[0m\u001b[0m\n\u001b[0;32m-> 2908\u001b[0;31m             \u001b[0mindexer\u001b[0m \u001b[0;34m=\u001b[0m \u001b[0mself\u001b[0m\u001b[0;34m.\u001b[0m\u001b[0mloc\u001b[0m\u001b[0;34m.\u001b[0m\u001b[0m_get_listlike_indexer\u001b[0m\u001b[0;34m(\u001b[0m\u001b[0mkey\u001b[0m\u001b[0;34m,\u001b[0m \u001b[0maxis\u001b[0m\u001b[0;34m=\u001b[0m\u001b[0;36m1\u001b[0m\u001b[0;34m,\u001b[0m \u001b[0mraise_missing\u001b[0m\u001b[0;34m=\u001b[0m\u001b[0;32mTrue\u001b[0m\u001b[0;34m)\u001b[0m\u001b[0;34m[\u001b[0m\u001b[0;36m1\u001b[0m\u001b[0;34m]\u001b[0m\u001b[0;34m\u001b[0m\u001b[0;34m\u001b[0m\u001b[0m\n\u001b[0m\u001b[1;32m   2909\u001b[0m \u001b[0;34m\u001b[0m\u001b[0m\n\u001b[1;32m   2910\u001b[0m         \u001b[0;31m# take() does not accept boolean indexers\u001b[0m\u001b[0;34m\u001b[0m\u001b[0;34m\u001b[0m\u001b[0;34m\u001b[0m\u001b[0m\n",
      "\u001b[0;32m/opt/anaconda3/lib/python3.8/site-packages/pandas/core/indexing.py\u001b[0m in \u001b[0;36m_get_listlike_indexer\u001b[0;34m(self, key, axis, raise_missing)\u001b[0m\n\u001b[1;32m   1252\u001b[0m             \u001b[0mkeyarr\u001b[0m\u001b[0;34m,\u001b[0m \u001b[0mindexer\u001b[0m\u001b[0;34m,\u001b[0m \u001b[0mnew_indexer\u001b[0m \u001b[0;34m=\u001b[0m \u001b[0max\u001b[0m\u001b[0;34m.\u001b[0m\u001b[0m_reindex_non_unique\u001b[0m\u001b[0;34m(\u001b[0m\u001b[0mkeyarr\u001b[0m\u001b[0;34m)\u001b[0m\u001b[0;34m\u001b[0m\u001b[0;34m\u001b[0m\u001b[0m\n\u001b[1;32m   1253\u001b[0m \u001b[0;34m\u001b[0m\u001b[0m\n\u001b[0;32m-> 1254\u001b[0;31m         \u001b[0mself\u001b[0m\u001b[0;34m.\u001b[0m\u001b[0m_validate_read_indexer\u001b[0m\u001b[0;34m(\u001b[0m\u001b[0mkeyarr\u001b[0m\u001b[0;34m,\u001b[0m \u001b[0mindexer\u001b[0m\u001b[0;34m,\u001b[0m \u001b[0maxis\u001b[0m\u001b[0;34m,\u001b[0m \u001b[0mraise_missing\u001b[0m\u001b[0;34m=\u001b[0m\u001b[0mraise_missing\u001b[0m\u001b[0;34m)\u001b[0m\u001b[0;34m\u001b[0m\u001b[0;34m\u001b[0m\u001b[0m\n\u001b[0m\u001b[1;32m   1255\u001b[0m         \u001b[0;32mreturn\u001b[0m \u001b[0mkeyarr\u001b[0m\u001b[0;34m,\u001b[0m \u001b[0mindexer\u001b[0m\u001b[0;34m\u001b[0m\u001b[0;34m\u001b[0m\u001b[0m\n\u001b[1;32m   1256\u001b[0m \u001b[0;34m\u001b[0m\u001b[0m\n",
      "\u001b[0;32m/opt/anaconda3/lib/python3.8/site-packages/pandas/core/indexing.py\u001b[0m in \u001b[0;36m_validate_read_indexer\u001b[0;34m(self, key, indexer, axis, raise_missing)\u001b[0m\n\u001b[1;32m   1296\u001b[0m             \u001b[0;32mif\u001b[0m \u001b[0mmissing\u001b[0m \u001b[0;34m==\u001b[0m \u001b[0mlen\u001b[0m\u001b[0;34m(\u001b[0m\u001b[0mindexer\u001b[0m\u001b[0;34m)\u001b[0m\u001b[0;34m:\u001b[0m\u001b[0;34m\u001b[0m\u001b[0;34m\u001b[0m\u001b[0m\n\u001b[1;32m   1297\u001b[0m                 \u001b[0maxis_name\u001b[0m \u001b[0;34m=\u001b[0m \u001b[0mself\u001b[0m\u001b[0;34m.\u001b[0m\u001b[0mobj\u001b[0m\u001b[0;34m.\u001b[0m\u001b[0m_get_axis_name\u001b[0m\u001b[0;34m(\u001b[0m\u001b[0maxis\u001b[0m\u001b[0;34m)\u001b[0m\u001b[0;34m\u001b[0m\u001b[0;34m\u001b[0m\u001b[0m\n\u001b[0;32m-> 1298\u001b[0;31m                 \u001b[0;32mraise\u001b[0m \u001b[0mKeyError\u001b[0m\u001b[0;34m(\u001b[0m\u001b[0;34mf\"None of [{key}] are in the [{axis_name}]\"\u001b[0m\u001b[0;34m)\u001b[0m\u001b[0;34m\u001b[0m\u001b[0;34m\u001b[0m\u001b[0m\n\u001b[0m\u001b[1;32m   1299\u001b[0m \u001b[0;34m\u001b[0m\u001b[0m\n\u001b[1;32m   1300\u001b[0m             \u001b[0;31m# We (temporarily) allow for some missing keys with .loc, except in\u001b[0m\u001b[0;34m\u001b[0m\u001b[0;34m\u001b[0m\u001b[0;34m\u001b[0m\u001b[0m\n",
      "\u001b[0;31mKeyError\u001b[0m: \"None of [Index(['PLAYER NAME', 'POINTS'], dtype='object')] are in the [columns]\""
     ]
    }
   ],
   "source": [
    "for year in years:\n",
    "    print(year)\n",
    "    #Fedex cup points\n",
    "    fcp = make_dataframe(\"https://www.pgatour.com/stats/stat.02671.{}.html\".format(year), 5)[['PLAYER NAME', 'POINTS']]\n",
    "    #Top 10's and wins\n",
    "    top10 = make_dataframe(\"https://www.pgatour.com/stats/stat.138.{}.html\".format(year), 5)[['NAME', 'TOP 10', '1ST']]\n",
    "\n",
    "    #Scoring statistics, keep rounds from this page as it most accurately reflects total rounds player completed in season.\n",
    "    scoring = make_dataframe(\"https://www.pgatour.com/stats/stat.120.{}.html\".format(year), 5)[['NAME', 'ROUNDS', 'AVG']]\n",
    "    scoring = scoring.rename(columns={'AVG':'SCORING'})\n",
    "\n",
    "    #Driving Distance\n",
    "    drivedistance = make_dataframe(\"https://www.pgatour.com/stats/stat.101.{}.html\".format(year), 4)[['NAME', 'AVG.']]\n",
    "    #Rename Columns\n",
    "    drivedistance = drivedistance.rename(columns = {'AVG.':'DRIVE_DISTANCE'})\n",
    "\n",
    "    #Driving Accuracy\n",
    "    driveacc = make_dataframe(\"https://www.pgatour.com/stats/stat.102.{}.html\".format(year), 4)[['NAME', '%']]\n",
    "    #Change column name from % to FWY %\n",
    "    driveacc = driveacc.rename(columns = {'%': \"FWY_%\"})\n",
    "    \n",
    "    #Greens in Regulation.\n",
    "    gir = make_dataframe(\"https://www.pgatour.com/stats/stat.103.{}.html\".format(year), 5)[['NAME', '%']]\n",
    "    #Change column name from % to GIR %\n",
    "    gir = gir.rename(columns = {'%': \"GIR_%\"})\n",
    "\n",
    "    #Strokes gained putting\n",
    "    sg_putting = make_dataframe(\"https://www.pgatour.com/stats/stat.02564.{}.html\".format(year), 4)[['NAME', 'AVERAGE']]\n",
    "    #Change name of average column\n",
    "    sg_putting = sg_putting.rename(columns = {'AVERAGE': 'SG_P'})\n",
    "\n",
    "    #Strokes gained tee to green\n",
    "    sg_teetogreen = make_dataframe(\"https://www.pgatour.com/stats/stat.02674.{}.html\".format(year), 6)[['NAME', 'AVERAGE']]\n",
    "    #Change name of average column\n",
    "    sg_teetogreen = sg_teetogreen.rename(columns = {'AVERAGE' : 'SG_TTG'})\n",
    "\n",
    "    #sg total\n",
    "    sg_total = make_dataframe(\"https://www.pgatour.com/stats/stat.02675.{}.html\".format(year), 6)[['NAME', 'AVERAGE']]\n",
    "    sg_total = sg_total.rename(columns = {'AVERAGE':'SG_T'})\n",
    "    \n",
    "    #Get Dataframes into list.\n",
    "    data_frames = [drivedistance, driveacc, gir, sg_putting, sg_teetogreen, sg_total]\n",
    "    \n",
    "    #Merge all Dataframes together\n",
    "    df_one = pd.DataFrame()\n",
    "    df_one = scoring\n",
    "    for df in data_frames:\n",
    "        df_one = pd.merge(df_one, df, on='NAME')\n",
    "        \n",
    "        \n",
    "    #merge fex ex cup points\n",
    "    df_one = pd.merge(df_one, fcp, how='outer', on='NAME')\n",
    "    #Merge top 10's\n",
    "    df_one = pd.merge(df_one, top10, how='outer', on='NAME')\n",
    "    \n",
    "    #Only get people who's scoring average isn't null.\n",
    "    df_one = df_one.loc[df_one['SCORING'].isnull() == False]  \n",
    "    \n",
    "    #Add year column\n",
    "    df_one['Year'] = year\n",
    "    \n",
    "    #Concat dataframe to overall dataframe\n",
    "    \n",
    "    if year == '2010':\n",
    "        df_total = pd.DataFrame()\n",
    "        df_total = pd.concat([df_total, df_one], axis=0)\n",
    "    else:\n",
    "        df_total = pd.concat([df_total, df_one], axis=0)"
   ]
  },
  {
   "cell_type": "code",
   "execution_count": 18,
   "metadata": {},
   "outputs": [
    {
     "ename": "NameError",
     "evalue": "name 'df_total' is not defined",
     "output_type": "error",
     "traceback": [
      "\u001b[0;31m---------------------------------------------------------------------------\u001b[0m",
      "\u001b[0;31mNameError\u001b[0m                                 Traceback (most recent call last)",
      "\u001b[0;32m<ipython-input-18-3cb190f21d47>\u001b[0m in \u001b[0;36m<module>\u001b[0;34m\u001b[0m\n\u001b[0;32m----> 1\u001b[0;31m \u001b[0mdf_total\u001b[0m\u001b[0;34m.\u001b[0m\u001b[0mhead\u001b[0m\u001b[0;34m(\u001b[0m\u001b[0;34m)\u001b[0m\u001b[0;34m\u001b[0m\u001b[0;34m\u001b[0m\u001b[0m\n\u001b[0m",
      "\u001b[0;31mNameError\u001b[0m: name 'df_total' is not defined"
     ]
    }
   ],
   "source": [
    "df_total.head()\n"
   ]
  },
  {
   "cell_type": "code",
   "execution_count": 10,
   "metadata": {},
   "outputs": [],
   "source": [
    "#Load sqlite package\n",
    "import sqlite3 as db\n",
    "#Create connect object with example db. A new file will be created.\n",
    "conn = db.connect('pgatour_raw.db')\n",
    "\n",
    "#Create cursor to perform actions on db.\n",
    "c = conn.cursor()"
   ]
  },
  {
   "cell_type": "code",
   "execution_count": 11,
   "metadata": {},
   "outputs": [
    {
     "ename": "NameError",
     "evalue": "name 'df_total' is not defined",
     "output_type": "error",
     "traceback": [
      "\u001b[0;31m---------------------------------------------------------------------------\u001b[0m",
      "\u001b[0;31mNameError\u001b[0m                                 Traceback (most recent call last)",
      "\u001b[0;32m<ipython-input-11-60ba3b4ee2ba>\u001b[0m in \u001b[0;36m<module>\u001b[0;34m\u001b[0m\n\u001b[0;32m----> 1\u001b[0;31m \u001b[0mdf_total\u001b[0m\u001b[0;34m.\u001b[0m\u001b[0mto_sql\u001b[0m\u001b[0;34m(\u001b[0m\u001b[0;34m\"pgatour_stats_raw\"\u001b[0m\u001b[0;34m,\u001b[0m \u001b[0mconn\u001b[0m\u001b[0;34m,\u001b[0m \u001b[0mif_exists\u001b[0m\u001b[0;34m=\u001b[0m\u001b[0;34m'replace'\u001b[0m\u001b[0;34m)\u001b[0m\u001b[0;34m\u001b[0m\u001b[0;34m\u001b[0m\u001b[0m\n\u001b[0m",
      "\u001b[0;31mNameError\u001b[0m: name 'df_total' is not defined"
     ]
    }
   ],
   "source": [
    "df_total.to_sql(\"pgatour_stats_raw\", conn, if_exists='replace')"
   ]
  },
  {
   "cell_type": "code",
   "execution_count": null,
   "metadata": {},
   "outputs": [],
   "source": [
    "conn.close()"
   ]
  }
 ],
 "metadata": {
  "kernelspec": {
   "display_name": "Python 3",
   "language": "python",
   "name": "python3"
  },
  "language_info": {
   "codemirror_mode": {
    "name": "ipython",
    "version": 3
   },
   "file_extension": ".py",
   "mimetype": "text/x-python",
   "name": "python",
   "nbconvert_exporter": "python",
   "pygments_lexer": "ipython3",
   "version": "3.8.5"
  }
 },
 "nbformat": 4,
 "nbformat_minor": 4
}

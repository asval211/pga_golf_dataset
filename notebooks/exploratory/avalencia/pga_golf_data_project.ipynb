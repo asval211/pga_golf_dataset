{
 "cells": [
  {
   "cell_type": "markdown",
   "metadata": {},
   "source": [
    "## Import "
   ]
  },
  {
   "cell_type": "code",
   "execution_count": 1,
   "metadata": {},
   "outputs": [],
   "source": [
    "import pandas as pd\n",
    "import numpy as np\n",
    "import matplotlib.pyplot as plt"
   ]
  },
  {
   "cell_type": "markdown",
   "metadata": {},
   "source": [
    "## Pull the DataFrame "
   ]
  },
  {
   "cell_type": "code",
   "execution_count": 2,
   "metadata": {},
   "outputs": [
    {
     "data": {
      "text/html": [
       "<div>\n",
       "<style scoped>\n",
       "    .dataframe tbody tr th:only-of-type {\n",
       "        vertical-align: middle;\n",
       "    }\n",
       "\n",
       "    .dataframe tbody tr th {\n",
       "        vertical-align: top;\n",
       "    }\n",
       "\n",
       "    .dataframe thead th {\n",
       "        text-align: right;\n",
       "    }\n",
       "</style>\n",
       "<table border=\"1\" class=\"dataframe\">\n",
       "  <thead>\n",
       "    <tr style=\"text-align: right;\">\n",
       "      <th></th>\n",
       "      <th>Player Name</th>\n",
       "      <th>Rounds</th>\n",
       "      <th>Fairway Percentage</th>\n",
       "      <th>Year</th>\n",
       "      <th>Avg Distance</th>\n",
       "      <th>gir</th>\n",
       "      <th>Average Putts</th>\n",
       "      <th>Average Scrambling</th>\n",
       "      <th>Average Score</th>\n",
       "      <th>Points</th>\n",
       "      <th>Wins</th>\n",
       "      <th>Top 10</th>\n",
       "      <th>Average SG Putts</th>\n",
       "      <th>Average SG Total</th>\n",
       "      <th>SG:OTT</th>\n",
       "      <th>SG:APR</th>\n",
       "      <th>SG:ARG</th>\n",
       "      <th>Money</th>\n",
       "    </tr>\n",
       "  </thead>\n",
       "  <tbody>\n",
       "    <tr>\n",
       "      <th>0</th>\n",
       "      <td>Henrik Stenson</td>\n",
       "      <td>60.0</td>\n",
       "      <td>75.19</td>\n",
       "      <td>2018</td>\n",
       "      <td>291.5</td>\n",
       "      <td>73.51</td>\n",
       "      <td>29.93</td>\n",
       "      <td>60.67</td>\n",
       "      <td>69.617</td>\n",
       "      <td>868</td>\n",
       "      <td>NaN</td>\n",
       "      <td>5.0</td>\n",
       "      <td>-0.207</td>\n",
       "      <td>1.153</td>\n",
       "      <td>0.427</td>\n",
       "      <td>0.960</td>\n",
       "      <td>-0.027</td>\n",
       "      <td>$2,680,487</td>\n",
       "    </tr>\n",
       "    <tr>\n",
       "      <th>1</th>\n",
       "      <td>Ryan Armour</td>\n",
       "      <td>109.0</td>\n",
       "      <td>73.58</td>\n",
       "      <td>2018</td>\n",
       "      <td>283.5</td>\n",
       "      <td>68.22</td>\n",
       "      <td>29.31</td>\n",
       "      <td>60.13</td>\n",
       "      <td>70.758</td>\n",
       "      <td>1,006</td>\n",
       "      <td>1.0</td>\n",
       "      <td>3.0</td>\n",
       "      <td>-0.058</td>\n",
       "      <td>0.337</td>\n",
       "      <td>-0.012</td>\n",
       "      <td>0.213</td>\n",
       "      <td>0.194</td>\n",
       "      <td>$2,485,203</td>\n",
       "    </tr>\n",
       "    <tr>\n",
       "      <th>2</th>\n",
       "      <td>Chez Reavie</td>\n",
       "      <td>93.0</td>\n",
       "      <td>72.24</td>\n",
       "      <td>2018</td>\n",
       "      <td>286.5</td>\n",
       "      <td>68.67</td>\n",
       "      <td>29.12</td>\n",
       "      <td>62.27</td>\n",
       "      <td>70.432</td>\n",
       "      <td>1,020</td>\n",
       "      <td>NaN</td>\n",
       "      <td>3.0</td>\n",
       "      <td>0.192</td>\n",
       "      <td>0.674</td>\n",
       "      <td>0.183</td>\n",
       "      <td>0.437</td>\n",
       "      <td>-0.137</td>\n",
       "      <td>$2,700,018</td>\n",
       "    </tr>\n",
       "    <tr>\n",
       "      <th>3</th>\n",
       "      <td>Ryan Moore</td>\n",
       "      <td>78.0</td>\n",
       "      <td>71.94</td>\n",
       "      <td>2018</td>\n",
       "      <td>289.2</td>\n",
       "      <td>68.80</td>\n",
       "      <td>29.17</td>\n",
       "      <td>64.16</td>\n",
       "      <td>70.015</td>\n",
       "      <td>795</td>\n",
       "      <td>NaN</td>\n",
       "      <td>5.0</td>\n",
       "      <td>-0.271</td>\n",
       "      <td>0.941</td>\n",
       "      <td>0.406</td>\n",
       "      <td>0.532</td>\n",
       "      <td>0.273</td>\n",
       "      <td>$1,986,608</td>\n",
       "    </tr>\n",
       "    <tr>\n",
       "      <th>4</th>\n",
       "      <td>Brian Stuard</td>\n",
       "      <td>103.0</td>\n",
       "      <td>71.44</td>\n",
       "      <td>2018</td>\n",
       "      <td>278.9</td>\n",
       "      <td>67.12</td>\n",
       "      <td>29.11</td>\n",
       "      <td>59.23</td>\n",
       "      <td>71.038</td>\n",
       "      <td>421</td>\n",
       "      <td>NaN</td>\n",
       "      <td>3.0</td>\n",
       "      <td>0.164</td>\n",
       "      <td>0.062</td>\n",
       "      <td>-0.227</td>\n",
       "      <td>0.099</td>\n",
       "      <td>0.026</td>\n",
       "      <td>$1,089,763</td>\n",
       "    </tr>\n",
       "  </tbody>\n",
       "</table>\n",
       "</div>"
      ],
      "text/plain": [
       "      Player Name  Rounds  Fairway Percentage  Year  Avg Distance    gir  \\\n",
       "0  Henrik Stenson    60.0               75.19  2018         291.5  73.51   \n",
       "1     Ryan Armour   109.0               73.58  2018         283.5  68.22   \n",
       "2     Chez Reavie    93.0               72.24  2018         286.5  68.67   \n",
       "3      Ryan Moore    78.0               71.94  2018         289.2  68.80   \n",
       "4    Brian Stuard   103.0               71.44  2018         278.9  67.12   \n",
       "\n",
       "   Average Putts  Average Scrambling  Average Score Points  Wins  Top 10  \\\n",
       "0          29.93               60.67         69.617    868   NaN     5.0   \n",
       "1          29.31               60.13         70.758  1,006   1.0     3.0   \n",
       "2          29.12               62.27         70.432  1,020   NaN     3.0   \n",
       "3          29.17               64.16         70.015    795   NaN     5.0   \n",
       "4          29.11               59.23         71.038    421   NaN     3.0   \n",
       "\n",
       "   Average SG Putts  Average SG Total  SG:OTT  SG:APR  SG:ARG       Money  \n",
       "0            -0.207             1.153   0.427   0.960  -0.027  $2,680,487  \n",
       "1            -0.058             0.337  -0.012   0.213   0.194  $2,485,203  \n",
       "2             0.192             0.674   0.183   0.437  -0.137  $2,700,018  \n",
       "3            -0.271             0.941   0.406   0.532   0.273  $1,986,608  \n",
       "4             0.164             0.062  -0.227   0.099   0.026  $1,089,763  "
      ]
     },
     "execution_count": 2,
     "metadata": {},
     "output_type": "execute_result"
    }
   ],
   "source": [
    "df = pd.read_csv('data/pgaTourData.csv')\n",
    "df.head()"
   ]
  },
  {
   "cell_type": "markdown",
   "metadata": {},
   "source": [
    "## Description of the Data\n",
    "\n",
    "- **Player Name**: Name of the golfer\n",
    "- **Rounds**: The number of games that a player played\n",
    "- **Fairway Percentage**: The percentage of time a tee shot lands on the fairway\n",
    "- **Year**: The year in which the statistic was collected\n",
    "- **Avg Distance**: The average distance of the tee-shot\n",
    "- **gir**: (Green in Regulation) is met if any part of the ball is touching the putting surface while the number of strokes taken is at least two fewer than par\n",
    "- **Average Putts**: The average number of strokes taken on the green\n",
    "- **Average Scrambling**: Scrambling is when a player misses the green in regulation, but still makes par or better on a hole\n",
    "- **Average Score**: Average Score is the average of all the scores a player has played in that year\n",
    "- **Points**: The number of FedExCup points a player earned in that year. These points can be earned by competing in tournaments.\n",
    "- **Wins**: The number of competition a player has won in that year\n",
    "- **Top 10**: The number of competitions where a player has placed in the Top 10\n",
    "- **Average SG Putts**: Strokes gained: putting measures how many strokes a player gains (or loses) on the greens.\n",
    "- **Average SG Total**: The Off-the-tee + approach-the-green + around-the-green + putting statistics combined\n",
    "- **SG:OTT**: Strokes gained: off-the-tee measures player performance off the tee on all par-4s and par-5s.\n",
    "- **SG:APR**: Strokes gained: approach-the-green measures player performance on approach shots. Approach shots include all shots that are not from the tee on par-4 and par-5 holes and are not included in strokes gained: around-the-green and strokes gained: putting. Approach shots include tee shots on par-3s.\n",
    "- **SG:ARG**: Strokes gained: around-the-green measures player performance on any shot within 30 yards of the edge of the green. This statistic does not include any shots taken on the putting green.\n",
    "- **Money**: The amount of prize money a player has earned from tournaments."
   ]
  },
  {
   "cell_type": "code",
   "execution_count": 3,
   "metadata": {},
   "outputs": [
    {
     "name": "stdout",
     "output_type": "stream",
     "text": [
      "<class 'pandas.core.frame.DataFrame'>\n",
      "RangeIndex: 2312 entries, 0 to 2311\n",
      "Data columns (total 18 columns):\n",
      " #   Column              Non-Null Count  Dtype  \n",
      "---  ------              --------------  -----  \n",
      " 0   Player Name         2312 non-null   object \n",
      " 1   Rounds              1678 non-null   float64\n",
      " 2   Fairway Percentage  1678 non-null   float64\n",
      " 3   Year                2312 non-null   int64  \n",
      " 4   Avg Distance        1678 non-null   float64\n",
      " 5   gir                 1678 non-null   float64\n",
      " 6   Average Putts       1678 non-null   float64\n",
      " 7   Average Scrambling  1678 non-null   float64\n",
      " 8   Average Score       1678 non-null   float64\n",
      " 9   Points              2296 non-null   object \n",
      " 10  Wins                293 non-null    float64\n",
      " 11  Top 10              1458 non-null   float64\n",
      " 12  Average SG Putts    1678 non-null   float64\n",
      " 13  Average SG Total    1678 non-null   float64\n",
      " 14  SG:OTT              1678 non-null   float64\n",
      " 15  SG:APR              1678 non-null   float64\n",
      " 16  SG:ARG              1678 non-null   float64\n",
      " 17  Money               2300 non-null   object \n",
      "dtypes: float64(14), int64(1), object(3)\n",
      "memory usage: 325.2+ KB\n"
     ]
    }
   ],
   "source": [
    "# View the data info\n",
    "df.info()"
   ]
  },
  {
   "cell_type": "code",
   "execution_count": 4,
   "metadata": {},
   "outputs": [
    {
     "data": {
      "text/plain": [
       "Player Name              0\n",
       "Rounds                 634\n",
       "Fairway Percentage     634\n",
       "Year                     0\n",
       "Avg Distance           634\n",
       "gir                    634\n",
       "Average Putts          634\n",
       "Average Scrambling     634\n",
       "Average Score          634\n",
       "Points                  16\n",
       "Wins                  2019\n",
       "Top 10                 854\n",
       "Average SG Putts       634\n",
       "Average SG Total       634\n",
       "SG:OTT                 634\n",
       "SG:APR                 634\n",
       "SG:ARG                 634\n",
       "Money                   12\n",
       "dtype: int64"
      ]
     },
     "execution_count": 4,
     "metadata": {},
     "output_type": "execute_result"
    }
   ],
   "source": [
    "# Find any null values in the dataset\n",
    "df.isna().sum()"
   ]
  },
  {
   "cell_type": "code",
   "execution_count": 5,
   "metadata": {
    "scrolled": false
   },
   "outputs": [
    {
     "data": {
      "text/html": [
       "<div>\n",
       "<style scoped>\n",
       "    .dataframe tbody tr th:only-of-type {\n",
       "        vertical-align: middle;\n",
       "    }\n",
       "\n",
       "    .dataframe tbody tr th {\n",
       "        vertical-align: top;\n",
       "    }\n",
       "\n",
       "    .dataframe thead th {\n",
       "        text-align: right;\n",
       "    }\n",
       "</style>\n",
       "<table border=\"1\" class=\"dataframe\">\n",
       "  <thead>\n",
       "    <tr style=\"text-align: right;\">\n",
       "      <th></th>\n",
       "      <th>Player Name</th>\n",
       "      <th>Rounds</th>\n",
       "      <th>Fairway Percentage</th>\n",
       "      <th>Year</th>\n",
       "      <th>Avg Distance</th>\n",
       "      <th>gir</th>\n",
       "      <th>Average Putts</th>\n",
       "      <th>Average Scrambling</th>\n",
       "      <th>Average Score</th>\n",
       "      <th>Points</th>\n",
       "      <th>Wins</th>\n",
       "      <th>Top 10</th>\n",
       "      <th>Average SG Putts</th>\n",
       "      <th>Average SG Total</th>\n",
       "      <th>SG:OTT</th>\n",
       "      <th>SG:APR</th>\n",
       "      <th>SG:ARG</th>\n",
       "      <th>Money</th>\n",
       "    </tr>\n",
       "  </thead>\n",
       "  <tbody>\n",
       "    <tr>\n",
       "      <th>0</th>\n",
       "      <td>Henrik Stenson</td>\n",
       "      <td>60.0</td>\n",
       "      <td>75.19</td>\n",
       "      <td>2018</td>\n",
       "      <td>291.5</td>\n",
       "      <td>73.51</td>\n",
       "      <td>29.93</td>\n",
       "      <td>60.67</td>\n",
       "      <td>69.617</td>\n",
       "      <td>868</td>\n",
       "      <td>NaN</td>\n",
       "      <td>5.0</td>\n",
       "      <td>-0.207</td>\n",
       "      <td>1.153</td>\n",
       "      <td>0.427</td>\n",
       "      <td>0.960</td>\n",
       "      <td>-0.027</td>\n",
       "      <td>2680487.0</td>\n",
       "    </tr>\n",
       "    <tr>\n",
       "      <th>1</th>\n",
       "      <td>Ryan Armour</td>\n",
       "      <td>109.0</td>\n",
       "      <td>73.58</td>\n",
       "      <td>2018</td>\n",
       "      <td>283.5</td>\n",
       "      <td>68.22</td>\n",
       "      <td>29.31</td>\n",
       "      <td>60.13</td>\n",
       "      <td>70.758</td>\n",
       "      <td>1,006</td>\n",
       "      <td>1.0</td>\n",
       "      <td>3.0</td>\n",
       "      <td>-0.058</td>\n",
       "      <td>0.337</td>\n",
       "      <td>-0.012</td>\n",
       "      <td>0.213</td>\n",
       "      <td>0.194</td>\n",
       "      <td>2485203.0</td>\n",
       "    </tr>\n",
       "    <tr>\n",
       "      <th>2</th>\n",
       "      <td>Chez Reavie</td>\n",
       "      <td>93.0</td>\n",
       "      <td>72.24</td>\n",
       "      <td>2018</td>\n",
       "      <td>286.5</td>\n",
       "      <td>68.67</td>\n",
       "      <td>29.12</td>\n",
       "      <td>62.27</td>\n",
       "      <td>70.432</td>\n",
       "      <td>1,020</td>\n",
       "      <td>NaN</td>\n",
       "      <td>3.0</td>\n",
       "      <td>0.192</td>\n",
       "      <td>0.674</td>\n",
       "      <td>0.183</td>\n",
       "      <td>0.437</td>\n",
       "      <td>-0.137</td>\n",
       "      <td>2700018.0</td>\n",
       "    </tr>\n",
       "    <tr>\n",
       "      <th>3</th>\n",
       "      <td>Ryan Moore</td>\n",
       "      <td>78.0</td>\n",
       "      <td>71.94</td>\n",
       "      <td>2018</td>\n",
       "      <td>289.2</td>\n",
       "      <td>68.80</td>\n",
       "      <td>29.17</td>\n",
       "      <td>64.16</td>\n",
       "      <td>70.015</td>\n",
       "      <td>795</td>\n",
       "      <td>NaN</td>\n",
       "      <td>5.0</td>\n",
       "      <td>-0.271</td>\n",
       "      <td>0.941</td>\n",
       "      <td>0.406</td>\n",
       "      <td>0.532</td>\n",
       "      <td>0.273</td>\n",
       "      <td>1986608.0</td>\n",
       "    </tr>\n",
       "    <tr>\n",
       "      <th>4</th>\n",
       "      <td>Brian Stuard</td>\n",
       "      <td>103.0</td>\n",
       "      <td>71.44</td>\n",
       "      <td>2018</td>\n",
       "      <td>278.9</td>\n",
       "      <td>67.12</td>\n",
       "      <td>29.11</td>\n",
       "      <td>59.23</td>\n",
       "      <td>71.038</td>\n",
       "      <td>421</td>\n",
       "      <td>NaN</td>\n",
       "      <td>3.0</td>\n",
       "      <td>0.164</td>\n",
       "      <td>0.062</td>\n",
       "      <td>-0.227</td>\n",
       "      <td>0.099</td>\n",
       "      <td>0.026</td>\n",
       "      <td>1089763.0</td>\n",
       "    </tr>\n",
       "    <tr>\n",
       "      <th>...</th>\n",
       "      <td>...</td>\n",
       "      <td>...</td>\n",
       "      <td>...</td>\n",
       "      <td>...</td>\n",
       "      <td>...</td>\n",
       "      <td>...</td>\n",
       "      <td>...</td>\n",
       "      <td>...</td>\n",
       "      <td>...</td>\n",
       "      <td>...</td>\n",
       "      <td>...</td>\n",
       "      <td>...</td>\n",
       "      <td>...</td>\n",
       "      <td>...</td>\n",
       "      <td>...</td>\n",
       "      <td>...</td>\n",
       "      <td>...</td>\n",
       "      <td>...</td>\n",
       "    </tr>\n",
       "    <tr>\n",
       "      <th>2307</th>\n",
       "      <td>Carl Paulson</td>\n",
       "      <td>NaN</td>\n",
       "      <td>NaN</td>\n",
       "      <td>2012</td>\n",
       "      <td>NaN</td>\n",
       "      <td>NaN</td>\n",
       "      <td>NaN</td>\n",
       "      <td>NaN</td>\n",
       "      <td>NaN</td>\n",
       "      <td>NaN</td>\n",
       "      <td>NaN</td>\n",
       "      <td>NaN</td>\n",
       "      <td>NaN</td>\n",
       "      <td>NaN</td>\n",
       "      <td>NaN</td>\n",
       "      <td>NaN</td>\n",
       "      <td>NaN</td>\n",
       "      <td>16943.0</td>\n",
       "    </tr>\n",
       "    <tr>\n",
       "      <th>2308</th>\n",
       "      <td>Peter Tomasulo</td>\n",
       "      <td>NaN</td>\n",
       "      <td>NaN</td>\n",
       "      <td>2012</td>\n",
       "      <td>NaN</td>\n",
       "      <td>NaN</td>\n",
       "      <td>NaN</td>\n",
       "      <td>NaN</td>\n",
       "      <td>NaN</td>\n",
       "      <td>NaN</td>\n",
       "      <td>NaN</td>\n",
       "      <td>NaN</td>\n",
       "      <td>NaN</td>\n",
       "      <td>NaN</td>\n",
       "      <td>NaN</td>\n",
       "      <td>NaN</td>\n",
       "      <td>NaN</td>\n",
       "      <td>12827.0</td>\n",
       "    </tr>\n",
       "    <tr>\n",
       "      <th>2309</th>\n",
       "      <td>Marc Turnesa</td>\n",
       "      <td>NaN</td>\n",
       "      <td>NaN</td>\n",
       "      <td>2010</td>\n",
       "      <td>NaN</td>\n",
       "      <td>NaN</td>\n",
       "      <td>NaN</td>\n",
       "      <td>NaN</td>\n",
       "      <td>NaN</td>\n",
       "      <td>NaN</td>\n",
       "      <td>NaN</td>\n",
       "      <td>NaN</td>\n",
       "      <td>NaN</td>\n",
       "      <td>NaN</td>\n",
       "      <td>NaN</td>\n",
       "      <td>NaN</td>\n",
       "      <td>NaN</td>\n",
       "      <td>10159.0</td>\n",
       "    </tr>\n",
       "    <tr>\n",
       "      <th>2310</th>\n",
       "      <td>Jesper Parnevik</td>\n",
       "      <td>NaN</td>\n",
       "      <td>NaN</td>\n",
       "      <td>2010</td>\n",
       "      <td>NaN</td>\n",
       "      <td>NaN</td>\n",
       "      <td>NaN</td>\n",
       "      <td>NaN</td>\n",
       "      <td>NaN</td>\n",
       "      <td>NaN</td>\n",
       "      <td>NaN</td>\n",
       "      <td>NaN</td>\n",
       "      <td>NaN</td>\n",
       "      <td>NaN</td>\n",
       "      <td>NaN</td>\n",
       "      <td>NaN</td>\n",
       "      <td>NaN</td>\n",
       "      <td>9165.0</td>\n",
       "    </tr>\n",
       "    <tr>\n",
       "      <th>2311</th>\n",
       "      <td>Jim Gallagher, Jr.</td>\n",
       "      <td>NaN</td>\n",
       "      <td>NaN</td>\n",
       "      <td>2010</td>\n",
       "      <td>NaN</td>\n",
       "      <td>NaN</td>\n",
       "      <td>NaN</td>\n",
       "      <td>NaN</td>\n",
       "      <td>NaN</td>\n",
       "      <td>NaN</td>\n",
       "      <td>NaN</td>\n",
       "      <td>NaN</td>\n",
       "      <td>NaN</td>\n",
       "      <td>NaN</td>\n",
       "      <td>NaN</td>\n",
       "      <td>NaN</td>\n",
       "      <td>NaN</td>\n",
       "      <td>6552.0</td>\n",
       "    </tr>\n",
       "  </tbody>\n",
       "</table>\n",
       "<p>2312 rows × 18 columns</p>\n",
       "</div>"
      ],
      "text/plain": [
       "             Player Name  Rounds  Fairway Percentage  Year  Avg Distance  \\\n",
       "0         Henrik Stenson    60.0               75.19  2018         291.5   \n",
       "1            Ryan Armour   109.0               73.58  2018         283.5   \n",
       "2            Chez Reavie    93.0               72.24  2018         286.5   \n",
       "3             Ryan Moore    78.0               71.94  2018         289.2   \n",
       "4           Brian Stuard   103.0               71.44  2018         278.9   \n",
       "...                  ...     ...                 ...   ...           ...   \n",
       "2307        Carl Paulson     NaN                 NaN  2012           NaN   \n",
       "2308      Peter Tomasulo     NaN                 NaN  2012           NaN   \n",
       "2309        Marc Turnesa     NaN                 NaN  2010           NaN   \n",
       "2310     Jesper Parnevik     NaN                 NaN  2010           NaN   \n",
       "2311  Jim Gallagher, Jr.     NaN                 NaN  2010           NaN   \n",
       "\n",
       "        gir  Average Putts  Average Scrambling  Average Score Points  Wins  \\\n",
       "0     73.51          29.93               60.67         69.617    868   NaN   \n",
       "1     68.22          29.31               60.13         70.758  1,006   1.0   \n",
       "2     68.67          29.12               62.27         70.432  1,020   NaN   \n",
       "3     68.80          29.17               64.16         70.015    795   NaN   \n",
       "4     67.12          29.11               59.23         71.038    421   NaN   \n",
       "...     ...            ...                 ...            ...    ...   ...   \n",
       "2307    NaN            NaN                 NaN            NaN    NaN   NaN   \n",
       "2308    NaN            NaN                 NaN            NaN    NaN   NaN   \n",
       "2309    NaN            NaN                 NaN            NaN    NaN   NaN   \n",
       "2310    NaN            NaN                 NaN            NaN    NaN   NaN   \n",
       "2311    NaN            NaN                 NaN            NaN    NaN   NaN   \n",
       "\n",
       "      Top 10  Average SG Putts  Average SG Total  SG:OTT  SG:APR  SG:ARG  \\\n",
       "0        5.0            -0.207             1.153   0.427   0.960  -0.027   \n",
       "1        3.0            -0.058             0.337  -0.012   0.213   0.194   \n",
       "2        3.0             0.192             0.674   0.183   0.437  -0.137   \n",
       "3        5.0            -0.271             0.941   0.406   0.532   0.273   \n",
       "4        3.0             0.164             0.062  -0.227   0.099   0.026   \n",
       "...      ...               ...               ...     ...     ...     ...   \n",
       "2307     NaN               NaN               NaN     NaN     NaN     NaN   \n",
       "2308     NaN               NaN               NaN     NaN     NaN     NaN   \n",
       "2309     NaN               NaN               NaN     NaN     NaN     NaN   \n",
       "2310     NaN               NaN               NaN     NaN     NaN     NaN   \n",
       "2311     NaN               NaN               NaN     NaN     NaN     NaN   \n",
       "\n",
       "          Money  \n",
       "0     2680487.0  \n",
       "1     2485203.0  \n",
       "2     2700018.0  \n",
       "3     1986608.0  \n",
       "4     1089763.0  \n",
       "...         ...  \n",
       "2307    16943.0  \n",
       "2308    12827.0  \n",
       "2309    10159.0  \n",
       "2310     9165.0  \n",
       "2311     6552.0  \n",
       "\n",
       "[2312 rows x 18 columns]"
      ]
     },
     "execution_count": 5,
     "metadata": {},
     "output_type": "execute_result"
    }
   ],
   "source": [
    "# Remove all commas and $ from 'Money' column and then assign to float dtype\n",
    "df['Money'] = df['Money'].str.replace(',', '').str.replace('$', '').astype(float)\n",
    "df"
   ]
  },
  {
   "cell_type": "code",
   "execution_count": 6,
   "metadata": {},
   "outputs": [
    {
     "data": {
      "text/html": [
       "<div>\n",
       "<style scoped>\n",
       "    .dataframe tbody tr th:only-of-type {\n",
       "        vertical-align: middle;\n",
       "    }\n",
       "\n",
       "    .dataframe tbody tr th {\n",
       "        vertical-align: top;\n",
       "    }\n",
       "\n",
       "    .dataframe thead th {\n",
       "        text-align: right;\n",
       "    }\n",
       "</style>\n",
       "<table border=\"1\" class=\"dataframe\">\n",
       "  <thead>\n",
       "    <tr style=\"text-align: right;\">\n",
       "      <th></th>\n",
       "      <th>Player Name</th>\n",
       "      <th>Rounds</th>\n",
       "      <th>Fairway Percentage</th>\n",
       "      <th>Year</th>\n",
       "      <th>Avg Distance</th>\n",
       "      <th>gir</th>\n",
       "      <th>Average Putts</th>\n",
       "      <th>Average Scrambling</th>\n",
       "      <th>Average Score</th>\n",
       "      <th>Points</th>\n",
       "      <th>Wins</th>\n",
       "      <th>Top 10</th>\n",
       "      <th>Average SG Putts</th>\n",
       "      <th>Average SG Total</th>\n",
       "      <th>SG:OTT</th>\n",
       "      <th>SG:APR</th>\n",
       "      <th>SG:ARG</th>\n",
       "      <th>Money</th>\n",
       "    </tr>\n",
       "  </thead>\n",
       "  <tbody>\n",
       "    <tr>\n",
       "      <th>0</th>\n",
       "      <td>Henrik Stenson</td>\n",
       "      <td>60.0</td>\n",
       "      <td>75.19</td>\n",
       "      <td>2018</td>\n",
       "      <td>291.5</td>\n",
       "      <td>73.51</td>\n",
       "      <td>29.93</td>\n",
       "      <td>60.67</td>\n",
       "      <td>69.617</td>\n",
       "      <td>868</td>\n",
       "      <td>NaN</td>\n",
       "      <td>5</td>\n",
       "      <td>-0.207</td>\n",
       "      <td>1.153</td>\n",
       "      <td>0.427</td>\n",
       "      <td>0.960</td>\n",
       "      <td>-0.027</td>\n",
       "      <td>2680487.0</td>\n",
       "    </tr>\n",
       "    <tr>\n",
       "      <th>1</th>\n",
       "      <td>Ryan Armour</td>\n",
       "      <td>109.0</td>\n",
       "      <td>73.58</td>\n",
       "      <td>2018</td>\n",
       "      <td>283.5</td>\n",
       "      <td>68.22</td>\n",
       "      <td>29.31</td>\n",
       "      <td>60.13</td>\n",
       "      <td>70.758</td>\n",
       "      <td>1,006</td>\n",
       "      <td>1.0</td>\n",
       "      <td>3</td>\n",
       "      <td>-0.058</td>\n",
       "      <td>0.337</td>\n",
       "      <td>-0.012</td>\n",
       "      <td>0.213</td>\n",
       "      <td>0.194</td>\n",
       "      <td>2485203.0</td>\n",
       "    </tr>\n",
       "    <tr>\n",
       "      <th>2</th>\n",
       "      <td>Chez Reavie</td>\n",
       "      <td>93.0</td>\n",
       "      <td>72.24</td>\n",
       "      <td>2018</td>\n",
       "      <td>286.5</td>\n",
       "      <td>68.67</td>\n",
       "      <td>29.12</td>\n",
       "      <td>62.27</td>\n",
       "      <td>70.432</td>\n",
       "      <td>1,020</td>\n",
       "      <td>NaN</td>\n",
       "      <td>3</td>\n",
       "      <td>0.192</td>\n",
       "      <td>0.674</td>\n",
       "      <td>0.183</td>\n",
       "      <td>0.437</td>\n",
       "      <td>-0.137</td>\n",
       "      <td>2700018.0</td>\n",
       "    </tr>\n",
       "    <tr>\n",
       "      <th>3</th>\n",
       "      <td>Ryan Moore</td>\n",
       "      <td>78.0</td>\n",
       "      <td>71.94</td>\n",
       "      <td>2018</td>\n",
       "      <td>289.2</td>\n",
       "      <td>68.80</td>\n",
       "      <td>29.17</td>\n",
       "      <td>64.16</td>\n",
       "      <td>70.015</td>\n",
       "      <td>795</td>\n",
       "      <td>NaN</td>\n",
       "      <td>5</td>\n",
       "      <td>-0.271</td>\n",
       "      <td>0.941</td>\n",
       "      <td>0.406</td>\n",
       "      <td>0.532</td>\n",
       "      <td>0.273</td>\n",
       "      <td>1986608.0</td>\n",
       "    </tr>\n",
       "    <tr>\n",
       "      <th>4</th>\n",
       "      <td>Brian Stuard</td>\n",
       "      <td>103.0</td>\n",
       "      <td>71.44</td>\n",
       "      <td>2018</td>\n",
       "      <td>278.9</td>\n",
       "      <td>67.12</td>\n",
       "      <td>29.11</td>\n",
       "      <td>59.23</td>\n",
       "      <td>71.038</td>\n",
       "      <td>421</td>\n",
       "      <td>NaN</td>\n",
       "      <td>3</td>\n",
       "      <td>0.164</td>\n",
       "      <td>0.062</td>\n",
       "      <td>-0.227</td>\n",
       "      <td>0.099</td>\n",
       "      <td>0.026</td>\n",
       "      <td>1089763.0</td>\n",
       "    </tr>\n",
       "    <tr>\n",
       "      <th>...</th>\n",
       "      <td>...</td>\n",
       "      <td>...</td>\n",
       "      <td>...</td>\n",
       "      <td>...</td>\n",
       "      <td>...</td>\n",
       "      <td>...</td>\n",
       "      <td>...</td>\n",
       "      <td>...</td>\n",
       "      <td>...</td>\n",
       "      <td>...</td>\n",
       "      <td>...</td>\n",
       "      <td>...</td>\n",
       "      <td>...</td>\n",
       "      <td>...</td>\n",
       "      <td>...</td>\n",
       "      <td>...</td>\n",
       "      <td>...</td>\n",
       "      <td>...</td>\n",
       "    </tr>\n",
       "    <tr>\n",
       "      <th>2307</th>\n",
       "      <td>Carl Paulson</td>\n",
       "      <td>NaN</td>\n",
       "      <td>NaN</td>\n",
       "      <td>2012</td>\n",
       "      <td>NaN</td>\n",
       "      <td>NaN</td>\n",
       "      <td>NaN</td>\n",
       "      <td>NaN</td>\n",
       "      <td>NaN</td>\n",
       "      <td>NaN</td>\n",
       "      <td>NaN</td>\n",
       "      <td>0</td>\n",
       "      <td>NaN</td>\n",
       "      <td>NaN</td>\n",
       "      <td>NaN</td>\n",
       "      <td>NaN</td>\n",
       "      <td>NaN</td>\n",
       "      <td>16943.0</td>\n",
       "    </tr>\n",
       "    <tr>\n",
       "      <th>2308</th>\n",
       "      <td>Peter Tomasulo</td>\n",
       "      <td>NaN</td>\n",
       "      <td>NaN</td>\n",
       "      <td>2012</td>\n",
       "      <td>NaN</td>\n",
       "      <td>NaN</td>\n",
       "      <td>NaN</td>\n",
       "      <td>NaN</td>\n",
       "      <td>NaN</td>\n",
       "      <td>NaN</td>\n",
       "      <td>NaN</td>\n",
       "      <td>0</td>\n",
       "      <td>NaN</td>\n",
       "      <td>NaN</td>\n",
       "      <td>NaN</td>\n",
       "      <td>NaN</td>\n",
       "      <td>NaN</td>\n",
       "      <td>12827.0</td>\n",
       "    </tr>\n",
       "    <tr>\n",
       "      <th>2309</th>\n",
       "      <td>Marc Turnesa</td>\n",
       "      <td>NaN</td>\n",
       "      <td>NaN</td>\n",
       "      <td>2010</td>\n",
       "      <td>NaN</td>\n",
       "      <td>NaN</td>\n",
       "      <td>NaN</td>\n",
       "      <td>NaN</td>\n",
       "      <td>NaN</td>\n",
       "      <td>NaN</td>\n",
       "      <td>NaN</td>\n",
       "      <td>0</td>\n",
       "      <td>NaN</td>\n",
       "      <td>NaN</td>\n",
       "      <td>NaN</td>\n",
       "      <td>NaN</td>\n",
       "      <td>NaN</td>\n",
       "      <td>10159.0</td>\n",
       "    </tr>\n",
       "    <tr>\n",
       "      <th>2310</th>\n",
       "      <td>Jesper Parnevik</td>\n",
       "      <td>NaN</td>\n",
       "      <td>NaN</td>\n",
       "      <td>2010</td>\n",
       "      <td>NaN</td>\n",
       "      <td>NaN</td>\n",
       "      <td>NaN</td>\n",
       "      <td>NaN</td>\n",
       "      <td>NaN</td>\n",
       "      <td>NaN</td>\n",
       "      <td>NaN</td>\n",
       "      <td>0</td>\n",
       "      <td>NaN</td>\n",
       "      <td>NaN</td>\n",
       "      <td>NaN</td>\n",
       "      <td>NaN</td>\n",
       "      <td>NaN</td>\n",
       "      <td>9165.0</td>\n",
       "    </tr>\n",
       "    <tr>\n",
       "      <th>2311</th>\n",
       "      <td>Jim Gallagher, Jr.</td>\n",
       "      <td>NaN</td>\n",
       "      <td>NaN</td>\n",
       "      <td>2010</td>\n",
       "      <td>NaN</td>\n",
       "      <td>NaN</td>\n",
       "      <td>NaN</td>\n",
       "      <td>NaN</td>\n",
       "      <td>NaN</td>\n",
       "      <td>NaN</td>\n",
       "      <td>NaN</td>\n",
       "      <td>0</td>\n",
       "      <td>NaN</td>\n",
       "      <td>NaN</td>\n",
       "      <td>NaN</td>\n",
       "      <td>NaN</td>\n",
       "      <td>NaN</td>\n",
       "      <td>6552.0</td>\n",
       "    </tr>\n",
       "  </tbody>\n",
       "</table>\n",
       "<p>2312 rows × 18 columns</p>\n",
       "</div>"
      ],
      "text/plain": [
       "             Player Name  Rounds  Fairway Percentage  Year  Avg Distance  \\\n",
       "0         Henrik Stenson    60.0               75.19  2018         291.5   \n",
       "1            Ryan Armour   109.0               73.58  2018         283.5   \n",
       "2            Chez Reavie    93.0               72.24  2018         286.5   \n",
       "3             Ryan Moore    78.0               71.94  2018         289.2   \n",
       "4           Brian Stuard   103.0               71.44  2018         278.9   \n",
       "...                  ...     ...                 ...   ...           ...   \n",
       "2307        Carl Paulson     NaN                 NaN  2012           NaN   \n",
       "2308      Peter Tomasulo     NaN                 NaN  2012           NaN   \n",
       "2309        Marc Turnesa     NaN                 NaN  2010           NaN   \n",
       "2310     Jesper Parnevik     NaN                 NaN  2010           NaN   \n",
       "2311  Jim Gallagher, Jr.     NaN                 NaN  2010           NaN   \n",
       "\n",
       "        gir  Average Putts  Average Scrambling  Average Score Points  Wins  \\\n",
       "0     73.51          29.93               60.67         69.617    868   NaN   \n",
       "1     68.22          29.31               60.13         70.758  1,006   1.0   \n",
       "2     68.67          29.12               62.27         70.432  1,020   NaN   \n",
       "3     68.80          29.17               64.16         70.015    795   NaN   \n",
       "4     67.12          29.11               59.23         71.038    421   NaN   \n",
       "...     ...            ...                 ...            ...    ...   ...   \n",
       "2307    NaN            NaN                 NaN            NaN    NaN   NaN   \n",
       "2308    NaN            NaN                 NaN            NaN    NaN   NaN   \n",
       "2309    NaN            NaN                 NaN            NaN    NaN   NaN   \n",
       "2310    NaN            NaN                 NaN            NaN    NaN   NaN   \n",
       "2311    NaN            NaN                 NaN            NaN    NaN   NaN   \n",
       "\n",
       "      Top 10  Average SG Putts  Average SG Total  SG:OTT  SG:APR  SG:ARG  \\\n",
       "0          5            -0.207             1.153   0.427   0.960  -0.027   \n",
       "1          3            -0.058             0.337  -0.012   0.213   0.194   \n",
       "2          3             0.192             0.674   0.183   0.437  -0.137   \n",
       "3          5            -0.271             0.941   0.406   0.532   0.273   \n",
       "4          3             0.164             0.062  -0.227   0.099   0.026   \n",
       "...      ...               ...               ...     ...     ...     ...   \n",
       "2307       0               NaN               NaN     NaN     NaN     NaN   \n",
       "2308       0               NaN               NaN     NaN     NaN     NaN   \n",
       "2309       0               NaN               NaN     NaN     NaN     NaN   \n",
       "2310       0               NaN               NaN     NaN     NaN     NaN   \n",
       "2311       0               NaN               NaN     NaN     NaN     NaN   \n",
       "\n",
       "          Money  \n",
       "0     2680487.0  \n",
       "1     2485203.0  \n",
       "2     2700018.0  \n",
       "3     1986608.0  \n",
       "4     1089763.0  \n",
       "...         ...  \n",
       "2307    16943.0  \n",
       "2308    12827.0  \n",
       "2309    10159.0  \n",
       "2310     9165.0  \n",
       "2311     6552.0  \n",
       "\n",
       "[2312 rows x 18 columns]"
      ]
     },
     "execution_count": 6,
     "metadata": {},
     "output_type": "execute_result"
    }
   ],
   "source": [
    "# Replace NaN with 0 in Top 10\n",
    "df['Top 10'].fillna(0, inplace=True)\n",
    "df['Top 10'] = df['Top 10'].astype(int)\n",
    "df"
   ]
  },
  {
   "cell_type": "code",
   "execution_count": 7,
   "metadata": {},
   "outputs": [
    {
     "data": {
      "text/html": [
       "<div>\n",
       "<style scoped>\n",
       "    .dataframe tbody tr th:only-of-type {\n",
       "        vertical-align: middle;\n",
       "    }\n",
       "\n",
       "    .dataframe tbody tr th {\n",
       "        vertical-align: top;\n",
       "    }\n",
       "\n",
       "    .dataframe thead th {\n",
       "        text-align: right;\n",
       "    }\n",
       "</style>\n",
       "<table border=\"1\" class=\"dataframe\">\n",
       "  <thead>\n",
       "    <tr style=\"text-align: right;\">\n",
       "      <th></th>\n",
       "      <th>Player Name</th>\n",
       "      <th>Rounds</th>\n",
       "      <th>Fairway Percentage</th>\n",
       "      <th>Year</th>\n",
       "      <th>Avg Distance</th>\n",
       "      <th>gir</th>\n",
       "      <th>Average Putts</th>\n",
       "      <th>Average Scrambling</th>\n",
       "      <th>Average Score</th>\n",
       "      <th>Points</th>\n",
       "      <th>Wins</th>\n",
       "      <th>Top 10</th>\n",
       "      <th>Average SG Putts</th>\n",
       "      <th>Average SG Total</th>\n",
       "      <th>SG:OTT</th>\n",
       "      <th>SG:APR</th>\n",
       "      <th>SG:ARG</th>\n",
       "      <th>Money</th>\n",
       "    </tr>\n",
       "  </thead>\n",
       "  <tbody>\n",
       "    <tr>\n",
       "      <th>0</th>\n",
       "      <td>Henrik Stenson</td>\n",
       "      <td>60.0</td>\n",
       "      <td>75.19</td>\n",
       "      <td>2018</td>\n",
       "      <td>291.5</td>\n",
       "      <td>73.51</td>\n",
       "      <td>29.93</td>\n",
       "      <td>60.67</td>\n",
       "      <td>69.617</td>\n",
       "      <td>868</td>\n",
       "      <td>0</td>\n",
       "      <td>5</td>\n",
       "      <td>-0.207</td>\n",
       "      <td>1.153</td>\n",
       "      <td>0.427</td>\n",
       "      <td>0.960</td>\n",
       "      <td>-0.027</td>\n",
       "      <td>2680487.0</td>\n",
       "    </tr>\n",
       "    <tr>\n",
       "      <th>1</th>\n",
       "      <td>Ryan Armour</td>\n",
       "      <td>109.0</td>\n",
       "      <td>73.58</td>\n",
       "      <td>2018</td>\n",
       "      <td>283.5</td>\n",
       "      <td>68.22</td>\n",
       "      <td>29.31</td>\n",
       "      <td>60.13</td>\n",
       "      <td>70.758</td>\n",
       "      <td>1,006</td>\n",
       "      <td>1</td>\n",
       "      <td>3</td>\n",
       "      <td>-0.058</td>\n",
       "      <td>0.337</td>\n",
       "      <td>-0.012</td>\n",
       "      <td>0.213</td>\n",
       "      <td>0.194</td>\n",
       "      <td>2485203.0</td>\n",
       "    </tr>\n",
       "    <tr>\n",
       "      <th>2</th>\n",
       "      <td>Chez Reavie</td>\n",
       "      <td>93.0</td>\n",
       "      <td>72.24</td>\n",
       "      <td>2018</td>\n",
       "      <td>286.5</td>\n",
       "      <td>68.67</td>\n",
       "      <td>29.12</td>\n",
       "      <td>62.27</td>\n",
       "      <td>70.432</td>\n",
       "      <td>1,020</td>\n",
       "      <td>0</td>\n",
       "      <td>3</td>\n",
       "      <td>0.192</td>\n",
       "      <td>0.674</td>\n",
       "      <td>0.183</td>\n",
       "      <td>0.437</td>\n",
       "      <td>-0.137</td>\n",
       "      <td>2700018.0</td>\n",
       "    </tr>\n",
       "    <tr>\n",
       "      <th>3</th>\n",
       "      <td>Ryan Moore</td>\n",
       "      <td>78.0</td>\n",
       "      <td>71.94</td>\n",
       "      <td>2018</td>\n",
       "      <td>289.2</td>\n",
       "      <td>68.80</td>\n",
       "      <td>29.17</td>\n",
       "      <td>64.16</td>\n",
       "      <td>70.015</td>\n",
       "      <td>795</td>\n",
       "      <td>0</td>\n",
       "      <td>5</td>\n",
       "      <td>-0.271</td>\n",
       "      <td>0.941</td>\n",
       "      <td>0.406</td>\n",
       "      <td>0.532</td>\n",
       "      <td>0.273</td>\n",
       "      <td>1986608.0</td>\n",
       "    </tr>\n",
       "    <tr>\n",
       "      <th>4</th>\n",
       "      <td>Brian Stuard</td>\n",
       "      <td>103.0</td>\n",
       "      <td>71.44</td>\n",
       "      <td>2018</td>\n",
       "      <td>278.9</td>\n",
       "      <td>67.12</td>\n",
       "      <td>29.11</td>\n",
       "      <td>59.23</td>\n",
       "      <td>71.038</td>\n",
       "      <td>421</td>\n",
       "      <td>0</td>\n",
       "      <td>3</td>\n",
       "      <td>0.164</td>\n",
       "      <td>0.062</td>\n",
       "      <td>-0.227</td>\n",
       "      <td>0.099</td>\n",
       "      <td>0.026</td>\n",
       "      <td>1089763.0</td>\n",
       "    </tr>\n",
       "    <tr>\n",
       "      <th>...</th>\n",
       "      <td>...</td>\n",
       "      <td>...</td>\n",
       "      <td>...</td>\n",
       "      <td>...</td>\n",
       "      <td>...</td>\n",
       "      <td>...</td>\n",
       "      <td>...</td>\n",
       "      <td>...</td>\n",
       "      <td>...</td>\n",
       "      <td>...</td>\n",
       "      <td>...</td>\n",
       "      <td>...</td>\n",
       "      <td>...</td>\n",
       "      <td>...</td>\n",
       "      <td>...</td>\n",
       "      <td>...</td>\n",
       "      <td>...</td>\n",
       "      <td>...</td>\n",
       "    </tr>\n",
       "    <tr>\n",
       "      <th>2307</th>\n",
       "      <td>Carl Paulson</td>\n",
       "      <td>NaN</td>\n",
       "      <td>NaN</td>\n",
       "      <td>2012</td>\n",
       "      <td>NaN</td>\n",
       "      <td>NaN</td>\n",
       "      <td>NaN</td>\n",
       "      <td>NaN</td>\n",
       "      <td>NaN</td>\n",
       "      <td>NaN</td>\n",
       "      <td>0</td>\n",
       "      <td>0</td>\n",
       "      <td>NaN</td>\n",
       "      <td>NaN</td>\n",
       "      <td>NaN</td>\n",
       "      <td>NaN</td>\n",
       "      <td>NaN</td>\n",
       "      <td>16943.0</td>\n",
       "    </tr>\n",
       "    <tr>\n",
       "      <th>2308</th>\n",
       "      <td>Peter Tomasulo</td>\n",
       "      <td>NaN</td>\n",
       "      <td>NaN</td>\n",
       "      <td>2012</td>\n",
       "      <td>NaN</td>\n",
       "      <td>NaN</td>\n",
       "      <td>NaN</td>\n",
       "      <td>NaN</td>\n",
       "      <td>NaN</td>\n",
       "      <td>NaN</td>\n",
       "      <td>0</td>\n",
       "      <td>0</td>\n",
       "      <td>NaN</td>\n",
       "      <td>NaN</td>\n",
       "      <td>NaN</td>\n",
       "      <td>NaN</td>\n",
       "      <td>NaN</td>\n",
       "      <td>12827.0</td>\n",
       "    </tr>\n",
       "    <tr>\n",
       "      <th>2309</th>\n",
       "      <td>Marc Turnesa</td>\n",
       "      <td>NaN</td>\n",
       "      <td>NaN</td>\n",
       "      <td>2010</td>\n",
       "      <td>NaN</td>\n",
       "      <td>NaN</td>\n",
       "      <td>NaN</td>\n",
       "      <td>NaN</td>\n",
       "      <td>NaN</td>\n",
       "      <td>NaN</td>\n",
       "      <td>0</td>\n",
       "      <td>0</td>\n",
       "      <td>NaN</td>\n",
       "      <td>NaN</td>\n",
       "      <td>NaN</td>\n",
       "      <td>NaN</td>\n",
       "      <td>NaN</td>\n",
       "      <td>10159.0</td>\n",
       "    </tr>\n",
       "    <tr>\n",
       "      <th>2310</th>\n",
       "      <td>Jesper Parnevik</td>\n",
       "      <td>NaN</td>\n",
       "      <td>NaN</td>\n",
       "      <td>2010</td>\n",
       "      <td>NaN</td>\n",
       "      <td>NaN</td>\n",
       "      <td>NaN</td>\n",
       "      <td>NaN</td>\n",
       "      <td>NaN</td>\n",
       "      <td>NaN</td>\n",
       "      <td>0</td>\n",
       "      <td>0</td>\n",
       "      <td>NaN</td>\n",
       "      <td>NaN</td>\n",
       "      <td>NaN</td>\n",
       "      <td>NaN</td>\n",
       "      <td>NaN</td>\n",
       "      <td>9165.0</td>\n",
       "    </tr>\n",
       "    <tr>\n",
       "      <th>2311</th>\n",
       "      <td>Jim Gallagher, Jr.</td>\n",
       "      <td>NaN</td>\n",
       "      <td>NaN</td>\n",
       "      <td>2010</td>\n",
       "      <td>NaN</td>\n",
       "      <td>NaN</td>\n",
       "      <td>NaN</td>\n",
       "      <td>NaN</td>\n",
       "      <td>NaN</td>\n",
       "      <td>NaN</td>\n",
       "      <td>0</td>\n",
       "      <td>0</td>\n",
       "      <td>NaN</td>\n",
       "      <td>NaN</td>\n",
       "      <td>NaN</td>\n",
       "      <td>NaN</td>\n",
       "      <td>NaN</td>\n",
       "      <td>6552.0</td>\n",
       "    </tr>\n",
       "  </tbody>\n",
       "</table>\n",
       "<p>2312 rows × 18 columns</p>\n",
       "</div>"
      ],
      "text/plain": [
       "             Player Name  Rounds  Fairway Percentage  Year  Avg Distance  \\\n",
       "0         Henrik Stenson    60.0               75.19  2018         291.5   \n",
       "1            Ryan Armour   109.0               73.58  2018         283.5   \n",
       "2            Chez Reavie    93.0               72.24  2018         286.5   \n",
       "3             Ryan Moore    78.0               71.94  2018         289.2   \n",
       "4           Brian Stuard   103.0               71.44  2018         278.9   \n",
       "...                  ...     ...                 ...   ...           ...   \n",
       "2307        Carl Paulson     NaN                 NaN  2012           NaN   \n",
       "2308      Peter Tomasulo     NaN                 NaN  2012           NaN   \n",
       "2309        Marc Turnesa     NaN                 NaN  2010           NaN   \n",
       "2310     Jesper Parnevik     NaN                 NaN  2010           NaN   \n",
       "2311  Jim Gallagher, Jr.     NaN                 NaN  2010           NaN   \n",
       "\n",
       "        gir  Average Putts  Average Scrambling  Average Score Points  Wins  \\\n",
       "0     73.51          29.93               60.67         69.617    868     0   \n",
       "1     68.22          29.31               60.13         70.758  1,006     1   \n",
       "2     68.67          29.12               62.27         70.432  1,020     0   \n",
       "3     68.80          29.17               64.16         70.015    795     0   \n",
       "4     67.12          29.11               59.23         71.038    421     0   \n",
       "...     ...            ...                 ...            ...    ...   ...   \n",
       "2307    NaN            NaN                 NaN            NaN    NaN     0   \n",
       "2308    NaN            NaN                 NaN            NaN    NaN     0   \n",
       "2309    NaN            NaN                 NaN            NaN    NaN     0   \n",
       "2310    NaN            NaN                 NaN            NaN    NaN     0   \n",
       "2311    NaN            NaN                 NaN            NaN    NaN     0   \n",
       "\n",
       "      Top 10  Average SG Putts  Average SG Total  SG:OTT  SG:APR  SG:ARG  \\\n",
       "0          5            -0.207             1.153   0.427   0.960  -0.027   \n",
       "1          3            -0.058             0.337  -0.012   0.213   0.194   \n",
       "2          3             0.192             0.674   0.183   0.437  -0.137   \n",
       "3          5            -0.271             0.941   0.406   0.532   0.273   \n",
       "4          3             0.164             0.062  -0.227   0.099   0.026   \n",
       "...      ...               ...               ...     ...     ...     ...   \n",
       "2307       0               NaN               NaN     NaN     NaN     NaN   \n",
       "2308       0               NaN               NaN     NaN     NaN     NaN   \n",
       "2309       0               NaN               NaN     NaN     NaN     NaN   \n",
       "2310       0               NaN               NaN     NaN     NaN     NaN   \n",
       "2311       0               NaN               NaN     NaN     NaN     NaN   \n",
       "\n",
       "          Money  \n",
       "0     2680487.0  \n",
       "1     2485203.0  \n",
       "2     2700018.0  \n",
       "3     1986608.0  \n",
       "4     1089763.0  \n",
       "...         ...  \n",
       "2307    16943.0  \n",
       "2308    12827.0  \n",
       "2309    10159.0  \n",
       "2310     9165.0  \n",
       "2311     6552.0  \n",
       "\n",
       "[2312 rows x 18 columns]"
      ]
     },
     "execution_count": 7,
     "metadata": {},
     "output_type": "execute_result"
    }
   ],
   "source": [
    "# Replace NaN with 0 in # of wins\n",
    "df['Wins'].fillna(0, inplace=True)\n",
    "df['Wins'] = df['Wins'].astype(int)\n",
    "df"
   ]
  },
  {
   "cell_type": "code",
   "execution_count": 8,
   "metadata": {},
   "outputs": [
    {
     "data": {
      "text/html": [
       "<div>\n",
       "<style scoped>\n",
       "    .dataframe tbody tr th:only-of-type {\n",
       "        vertical-align: middle;\n",
       "    }\n",
       "\n",
       "    .dataframe tbody tr th {\n",
       "        vertical-align: top;\n",
       "    }\n",
       "\n",
       "    .dataframe thead th {\n",
       "        text-align: right;\n",
       "    }\n",
       "</style>\n",
       "<table border=\"1\" class=\"dataframe\">\n",
       "  <thead>\n",
       "    <tr style=\"text-align: right;\">\n",
       "      <th></th>\n",
       "      <th>Player Name</th>\n",
       "      <th>Rounds</th>\n",
       "      <th>Fairway Percentage</th>\n",
       "      <th>Year</th>\n",
       "      <th>Avg Distance</th>\n",
       "      <th>gir</th>\n",
       "      <th>Average Putts</th>\n",
       "      <th>Average Scrambling</th>\n",
       "      <th>Average Score</th>\n",
       "      <th>Points</th>\n",
       "      <th>Wins</th>\n",
       "      <th>Top 10</th>\n",
       "      <th>Average SG Putts</th>\n",
       "      <th>Average SG Total</th>\n",
       "      <th>SG:OTT</th>\n",
       "      <th>SG:APR</th>\n",
       "      <th>SG:ARG</th>\n",
       "      <th>Money</th>\n",
       "    </tr>\n",
       "  </thead>\n",
       "  <tbody>\n",
       "    <tr>\n",
       "      <th>0</th>\n",
       "      <td>Henrik Stenson</td>\n",
       "      <td>60</td>\n",
       "      <td>75.19</td>\n",
       "      <td>2018</td>\n",
       "      <td>291.5</td>\n",
       "      <td>73.51</td>\n",
       "      <td>29.93</td>\n",
       "      <td>60.67</td>\n",
       "      <td>69.617</td>\n",
       "      <td>868</td>\n",
       "      <td>0</td>\n",
       "      <td>5</td>\n",
       "      <td>-0.207</td>\n",
       "      <td>1.153</td>\n",
       "      <td>0.427</td>\n",
       "      <td>0.960</td>\n",
       "      <td>-0.027</td>\n",
       "      <td>2680487.0</td>\n",
       "    </tr>\n",
       "    <tr>\n",
       "      <th>1</th>\n",
       "      <td>Ryan Armour</td>\n",
       "      <td>109</td>\n",
       "      <td>73.58</td>\n",
       "      <td>2018</td>\n",
       "      <td>283.5</td>\n",
       "      <td>68.22</td>\n",
       "      <td>29.31</td>\n",
       "      <td>60.13</td>\n",
       "      <td>70.758</td>\n",
       "      <td>1,006</td>\n",
       "      <td>1</td>\n",
       "      <td>3</td>\n",
       "      <td>-0.058</td>\n",
       "      <td>0.337</td>\n",
       "      <td>-0.012</td>\n",
       "      <td>0.213</td>\n",
       "      <td>0.194</td>\n",
       "      <td>2485203.0</td>\n",
       "    </tr>\n",
       "    <tr>\n",
       "      <th>2</th>\n",
       "      <td>Chez Reavie</td>\n",
       "      <td>93</td>\n",
       "      <td>72.24</td>\n",
       "      <td>2018</td>\n",
       "      <td>286.5</td>\n",
       "      <td>68.67</td>\n",
       "      <td>29.12</td>\n",
       "      <td>62.27</td>\n",
       "      <td>70.432</td>\n",
       "      <td>1,020</td>\n",
       "      <td>0</td>\n",
       "      <td>3</td>\n",
       "      <td>0.192</td>\n",
       "      <td>0.674</td>\n",
       "      <td>0.183</td>\n",
       "      <td>0.437</td>\n",
       "      <td>-0.137</td>\n",
       "      <td>2700018.0</td>\n",
       "    </tr>\n",
       "    <tr>\n",
       "      <th>3</th>\n",
       "      <td>Ryan Moore</td>\n",
       "      <td>78</td>\n",
       "      <td>71.94</td>\n",
       "      <td>2018</td>\n",
       "      <td>289.2</td>\n",
       "      <td>68.80</td>\n",
       "      <td>29.17</td>\n",
       "      <td>64.16</td>\n",
       "      <td>70.015</td>\n",
       "      <td>795</td>\n",
       "      <td>0</td>\n",
       "      <td>5</td>\n",
       "      <td>-0.271</td>\n",
       "      <td>0.941</td>\n",
       "      <td>0.406</td>\n",
       "      <td>0.532</td>\n",
       "      <td>0.273</td>\n",
       "      <td>1986608.0</td>\n",
       "    </tr>\n",
       "    <tr>\n",
       "      <th>4</th>\n",
       "      <td>Brian Stuard</td>\n",
       "      <td>103</td>\n",
       "      <td>71.44</td>\n",
       "      <td>2018</td>\n",
       "      <td>278.9</td>\n",
       "      <td>67.12</td>\n",
       "      <td>29.11</td>\n",
       "      <td>59.23</td>\n",
       "      <td>71.038</td>\n",
       "      <td>421</td>\n",
       "      <td>0</td>\n",
       "      <td>3</td>\n",
       "      <td>0.164</td>\n",
       "      <td>0.062</td>\n",
       "      <td>-0.227</td>\n",
       "      <td>0.099</td>\n",
       "      <td>0.026</td>\n",
       "      <td>1089763.0</td>\n",
       "    </tr>\n",
       "    <tr>\n",
       "      <th>...</th>\n",
       "      <td>...</td>\n",
       "      <td>...</td>\n",
       "      <td>...</td>\n",
       "      <td>...</td>\n",
       "      <td>...</td>\n",
       "      <td>...</td>\n",
       "      <td>...</td>\n",
       "      <td>...</td>\n",
       "      <td>...</td>\n",
       "      <td>...</td>\n",
       "      <td>...</td>\n",
       "      <td>...</td>\n",
       "      <td>...</td>\n",
       "      <td>...</td>\n",
       "      <td>...</td>\n",
       "      <td>...</td>\n",
       "      <td>...</td>\n",
       "      <td>...</td>\n",
       "    </tr>\n",
       "    <tr>\n",
       "      <th>1673</th>\n",
       "      <td>Phil Mickelson</td>\n",
       "      <td>76</td>\n",
       "      <td>52.66</td>\n",
       "      <td>2010</td>\n",
       "      <td>299.1</td>\n",
       "      <td>65.13</td>\n",
       "      <td>28.79</td>\n",
       "      <td>61.84</td>\n",
       "      <td>69.966</td>\n",
       "      <td>1,629</td>\n",
       "      <td>1</td>\n",
       "      <td>5</td>\n",
       "      <td>-0.147</td>\n",
       "      <td>1.001</td>\n",
       "      <td>0.185</td>\n",
       "      <td>0.738</td>\n",
       "      <td>0.228</td>\n",
       "      <td>3821733.0</td>\n",
       "    </tr>\n",
       "    <tr>\n",
       "      <th>1674</th>\n",
       "      <td>John Daly</td>\n",
       "      <td>63</td>\n",
       "      <td>52.21</td>\n",
       "      <td>2010</td>\n",
       "      <td>305.7</td>\n",
       "      <td>65.66</td>\n",
       "      <td>29.78</td>\n",
       "      <td>53.53</td>\n",
       "      <td>71.697</td>\n",
       "      <td>97</td>\n",
       "      <td>0</td>\n",
       "      <td>0</td>\n",
       "      <td>-0.653</td>\n",
       "      <td>-0.989</td>\n",
       "      <td>0.336</td>\n",
       "      <td>-0.374</td>\n",
       "      <td>-0.298</td>\n",
       "      <td>158587.0</td>\n",
       "    </tr>\n",
       "    <tr>\n",
       "      <th>1675</th>\n",
       "      <td>Jimmy Walker</td>\n",
       "      <td>82</td>\n",
       "      <td>51.29</td>\n",
       "      <td>2010</td>\n",
       "      <td>292.9</td>\n",
       "      <td>65.88</td>\n",
       "      <td>29.14</td>\n",
       "      <td>58.46</td>\n",
       "      <td>70.953</td>\n",
       "      <td>554</td>\n",
       "      <td>0</td>\n",
       "      <td>2</td>\n",
       "      <td>0.252</td>\n",
       "      <td>0.093</td>\n",
       "      <td>-0.538</td>\n",
       "      <td>0.336</td>\n",
       "      <td>0.047</td>\n",
       "      <td>937987.0</td>\n",
       "    </tr>\n",
       "    <tr>\n",
       "      <th>1676</th>\n",
       "      <td>Daniel Chopra</td>\n",
       "      <td>74</td>\n",
       "      <td>51.27</td>\n",
       "      <td>2010</td>\n",
       "      <td>295.9</td>\n",
       "      <td>61.64</td>\n",
       "      <td>28.88</td>\n",
       "      <td>56.16</td>\n",
       "      <td>72.194</td>\n",
       "      <td>142</td>\n",
       "      <td>0</td>\n",
       "      <td>0</td>\n",
       "      <td>0.361</td>\n",
       "      <td>-1.096</td>\n",
       "      <td>-0.307</td>\n",
       "      <td>-1.070</td>\n",
       "      <td>-0.084</td>\n",
       "      <td>311405.0</td>\n",
       "    </tr>\n",
       "    <tr>\n",
       "      <th>1677</th>\n",
       "      <td>Martin Flores</td>\n",
       "      <td>75</td>\n",
       "      <td>50.15</td>\n",
       "      <td>2010</td>\n",
       "      <td>300.7</td>\n",
       "      <td>64.79</td>\n",
       "      <td>29.41</td>\n",
       "      <td>54.00</td>\n",
       "      <td>71.882</td>\n",
       "      <td>137</td>\n",
       "      <td>0</td>\n",
       "      <td>1</td>\n",
       "      <td>-0.106</td>\n",
       "      <td>-0.883</td>\n",
       "      <td>-0.223</td>\n",
       "      <td>-0.553</td>\n",
       "      <td>-0.001</td>\n",
       "      <td>318673.0</td>\n",
       "    </tr>\n",
       "  </tbody>\n",
       "</table>\n",
       "<p>1674 rows × 18 columns</p>\n",
       "</div>"
      ],
      "text/plain": [
       "         Player Name  Rounds  Fairway Percentage  Year  Avg Distance    gir  \\\n",
       "0     Henrik Stenson      60               75.19  2018         291.5  73.51   \n",
       "1        Ryan Armour     109               73.58  2018         283.5  68.22   \n",
       "2        Chez Reavie      93               72.24  2018         286.5  68.67   \n",
       "3         Ryan Moore      78               71.94  2018         289.2  68.80   \n",
       "4       Brian Stuard     103               71.44  2018         278.9  67.12   \n",
       "...              ...     ...                 ...   ...           ...    ...   \n",
       "1673  Phil Mickelson      76               52.66  2010         299.1  65.13   \n",
       "1674       John Daly      63               52.21  2010         305.7  65.66   \n",
       "1675    Jimmy Walker      82               51.29  2010         292.9  65.88   \n",
       "1676   Daniel Chopra      74               51.27  2010         295.9  61.64   \n",
       "1677   Martin Flores      75               50.15  2010         300.7  64.79   \n",
       "\n",
       "      Average Putts  Average Scrambling  Average Score Points  Wins  Top 10  \\\n",
       "0             29.93               60.67         69.617    868     0       5   \n",
       "1             29.31               60.13         70.758  1,006     1       3   \n",
       "2             29.12               62.27         70.432  1,020     0       3   \n",
       "3             29.17               64.16         70.015    795     0       5   \n",
       "4             29.11               59.23         71.038    421     0       3   \n",
       "...             ...                 ...            ...    ...   ...     ...   \n",
       "1673          28.79               61.84         69.966  1,629     1       5   \n",
       "1674          29.78               53.53         71.697     97     0       0   \n",
       "1675          29.14               58.46         70.953    554     0       2   \n",
       "1676          28.88               56.16         72.194    142     0       0   \n",
       "1677          29.41               54.00         71.882    137     0       1   \n",
       "\n",
       "      Average SG Putts  Average SG Total  SG:OTT  SG:APR  SG:ARG      Money  \n",
       "0               -0.207             1.153   0.427   0.960  -0.027  2680487.0  \n",
       "1               -0.058             0.337  -0.012   0.213   0.194  2485203.0  \n",
       "2                0.192             0.674   0.183   0.437  -0.137  2700018.0  \n",
       "3               -0.271             0.941   0.406   0.532   0.273  1986608.0  \n",
       "4                0.164             0.062  -0.227   0.099   0.026  1089763.0  \n",
       "...                ...               ...     ...     ...     ...        ...  \n",
       "1673            -0.147             1.001   0.185   0.738   0.228  3821733.0  \n",
       "1674            -0.653            -0.989   0.336  -0.374  -0.298   158587.0  \n",
       "1675             0.252             0.093  -0.538   0.336   0.047   937987.0  \n",
       "1676             0.361            -1.096  -0.307  -1.070  -0.084   311405.0  \n",
       "1677            -0.106            -0.883  -0.223  -0.553  -0.001   318673.0  \n",
       "\n",
       "[1674 rows x 18 columns]"
      ]
     },
     "execution_count": 8,
     "metadata": {},
     "output_type": "execute_result"
    }
   ],
   "source": [
    "# Drop NaN values\n",
    "df.dropna(axis = 0, inplace=True)\n",
    "\n",
    "# Change Rounds to int\n",
    "df['Rounds'] = df['Rounds'].astype(int)\n",
    "df"
   ]
  },
  {
   "cell_type": "code",
   "execution_count": 9,
   "metadata": {},
   "outputs": [
    {
     "data": {
      "text/html": [
       "<div>\n",
       "<style scoped>\n",
       "    .dataframe tbody tr th:only-of-type {\n",
       "        vertical-align: middle;\n",
       "    }\n",
       "\n",
       "    .dataframe tbody tr th {\n",
       "        vertical-align: top;\n",
       "    }\n",
       "\n",
       "    .dataframe thead th {\n",
       "        text-align: right;\n",
       "    }\n",
       "</style>\n",
       "<table border=\"1\" class=\"dataframe\">\n",
       "  <thead>\n",
       "    <tr style=\"text-align: right;\">\n",
       "      <th></th>\n",
       "      <th>Player Name</th>\n",
       "      <th>Rounds</th>\n",
       "      <th>Fairway Percentage</th>\n",
       "      <th>Year</th>\n",
       "      <th>Avg Distance</th>\n",
       "      <th>gir</th>\n",
       "      <th>Average Putts</th>\n",
       "      <th>Average Scrambling</th>\n",
       "      <th>Average Score</th>\n",
       "      <th>Points</th>\n",
       "      <th>Wins</th>\n",
       "      <th>Top 10</th>\n",
       "      <th>Average SG Putts</th>\n",
       "      <th>Average SG Total</th>\n",
       "      <th>SG:OTT</th>\n",
       "      <th>SG:APR</th>\n",
       "      <th>SG:ARG</th>\n",
       "      <th>Money</th>\n",
       "    </tr>\n",
       "  </thead>\n",
       "  <tbody>\n",
       "    <tr>\n",
       "      <th>0</th>\n",
       "      <td>Henrik Stenson</td>\n",
       "      <td>60</td>\n",
       "      <td>75.19</td>\n",
       "      <td>2018</td>\n",
       "      <td>291.5</td>\n",
       "      <td>73.51</td>\n",
       "      <td>29.93</td>\n",
       "      <td>60.67</td>\n",
       "      <td>69.617</td>\n",
       "      <td>868</td>\n",
       "      <td>0</td>\n",
       "      <td>5</td>\n",
       "      <td>-0.207</td>\n",
       "      <td>1.153</td>\n",
       "      <td>0.427</td>\n",
       "      <td>0.960</td>\n",
       "      <td>-0.027</td>\n",
       "      <td>2680487.0</td>\n",
       "    </tr>\n",
       "    <tr>\n",
       "      <th>1</th>\n",
       "      <td>Ryan Armour</td>\n",
       "      <td>109</td>\n",
       "      <td>73.58</td>\n",
       "      <td>2018</td>\n",
       "      <td>283.5</td>\n",
       "      <td>68.22</td>\n",
       "      <td>29.31</td>\n",
       "      <td>60.13</td>\n",
       "      <td>70.758</td>\n",
       "      <td>1006</td>\n",
       "      <td>1</td>\n",
       "      <td>3</td>\n",
       "      <td>-0.058</td>\n",
       "      <td>0.337</td>\n",
       "      <td>-0.012</td>\n",
       "      <td>0.213</td>\n",
       "      <td>0.194</td>\n",
       "      <td>2485203.0</td>\n",
       "    </tr>\n",
       "    <tr>\n",
       "      <th>2</th>\n",
       "      <td>Chez Reavie</td>\n",
       "      <td>93</td>\n",
       "      <td>72.24</td>\n",
       "      <td>2018</td>\n",
       "      <td>286.5</td>\n",
       "      <td>68.67</td>\n",
       "      <td>29.12</td>\n",
       "      <td>62.27</td>\n",
       "      <td>70.432</td>\n",
       "      <td>1020</td>\n",
       "      <td>0</td>\n",
       "      <td>3</td>\n",
       "      <td>0.192</td>\n",
       "      <td>0.674</td>\n",
       "      <td>0.183</td>\n",
       "      <td>0.437</td>\n",
       "      <td>-0.137</td>\n",
       "      <td>2700018.0</td>\n",
       "    </tr>\n",
       "    <tr>\n",
       "      <th>3</th>\n",
       "      <td>Ryan Moore</td>\n",
       "      <td>78</td>\n",
       "      <td>71.94</td>\n",
       "      <td>2018</td>\n",
       "      <td>289.2</td>\n",
       "      <td>68.80</td>\n",
       "      <td>29.17</td>\n",
       "      <td>64.16</td>\n",
       "      <td>70.015</td>\n",
       "      <td>795</td>\n",
       "      <td>0</td>\n",
       "      <td>5</td>\n",
       "      <td>-0.271</td>\n",
       "      <td>0.941</td>\n",
       "      <td>0.406</td>\n",
       "      <td>0.532</td>\n",
       "      <td>0.273</td>\n",
       "      <td>1986608.0</td>\n",
       "    </tr>\n",
       "    <tr>\n",
       "      <th>4</th>\n",
       "      <td>Brian Stuard</td>\n",
       "      <td>103</td>\n",
       "      <td>71.44</td>\n",
       "      <td>2018</td>\n",
       "      <td>278.9</td>\n",
       "      <td>67.12</td>\n",
       "      <td>29.11</td>\n",
       "      <td>59.23</td>\n",
       "      <td>71.038</td>\n",
       "      <td>421</td>\n",
       "      <td>0</td>\n",
       "      <td>3</td>\n",
       "      <td>0.164</td>\n",
       "      <td>0.062</td>\n",
       "      <td>-0.227</td>\n",
       "      <td>0.099</td>\n",
       "      <td>0.026</td>\n",
       "      <td>1089763.0</td>\n",
       "    </tr>\n",
       "    <tr>\n",
       "      <th>...</th>\n",
       "      <td>...</td>\n",
       "      <td>...</td>\n",
       "      <td>...</td>\n",
       "      <td>...</td>\n",
       "      <td>...</td>\n",
       "      <td>...</td>\n",
       "      <td>...</td>\n",
       "      <td>...</td>\n",
       "      <td>...</td>\n",
       "      <td>...</td>\n",
       "      <td>...</td>\n",
       "      <td>...</td>\n",
       "      <td>...</td>\n",
       "      <td>...</td>\n",
       "      <td>...</td>\n",
       "      <td>...</td>\n",
       "      <td>...</td>\n",
       "      <td>...</td>\n",
       "    </tr>\n",
       "    <tr>\n",
       "      <th>1673</th>\n",
       "      <td>Phil Mickelson</td>\n",
       "      <td>76</td>\n",
       "      <td>52.66</td>\n",
       "      <td>2010</td>\n",
       "      <td>299.1</td>\n",
       "      <td>65.13</td>\n",
       "      <td>28.79</td>\n",
       "      <td>61.84</td>\n",
       "      <td>69.966</td>\n",
       "      <td>1629</td>\n",
       "      <td>1</td>\n",
       "      <td>5</td>\n",
       "      <td>-0.147</td>\n",
       "      <td>1.001</td>\n",
       "      <td>0.185</td>\n",
       "      <td>0.738</td>\n",
       "      <td>0.228</td>\n",
       "      <td>3821733.0</td>\n",
       "    </tr>\n",
       "    <tr>\n",
       "      <th>1674</th>\n",
       "      <td>John Daly</td>\n",
       "      <td>63</td>\n",
       "      <td>52.21</td>\n",
       "      <td>2010</td>\n",
       "      <td>305.7</td>\n",
       "      <td>65.66</td>\n",
       "      <td>29.78</td>\n",
       "      <td>53.53</td>\n",
       "      <td>71.697</td>\n",
       "      <td>97</td>\n",
       "      <td>0</td>\n",
       "      <td>0</td>\n",
       "      <td>-0.653</td>\n",
       "      <td>-0.989</td>\n",
       "      <td>0.336</td>\n",
       "      <td>-0.374</td>\n",
       "      <td>-0.298</td>\n",
       "      <td>158587.0</td>\n",
       "    </tr>\n",
       "    <tr>\n",
       "      <th>1675</th>\n",
       "      <td>Jimmy Walker</td>\n",
       "      <td>82</td>\n",
       "      <td>51.29</td>\n",
       "      <td>2010</td>\n",
       "      <td>292.9</td>\n",
       "      <td>65.88</td>\n",
       "      <td>29.14</td>\n",
       "      <td>58.46</td>\n",
       "      <td>70.953</td>\n",
       "      <td>554</td>\n",
       "      <td>0</td>\n",
       "      <td>2</td>\n",
       "      <td>0.252</td>\n",
       "      <td>0.093</td>\n",
       "      <td>-0.538</td>\n",
       "      <td>0.336</td>\n",
       "      <td>0.047</td>\n",
       "      <td>937987.0</td>\n",
       "    </tr>\n",
       "    <tr>\n",
       "      <th>1676</th>\n",
       "      <td>Daniel Chopra</td>\n",
       "      <td>74</td>\n",
       "      <td>51.27</td>\n",
       "      <td>2010</td>\n",
       "      <td>295.9</td>\n",
       "      <td>61.64</td>\n",
       "      <td>28.88</td>\n",
       "      <td>56.16</td>\n",
       "      <td>72.194</td>\n",
       "      <td>142</td>\n",
       "      <td>0</td>\n",
       "      <td>0</td>\n",
       "      <td>0.361</td>\n",
       "      <td>-1.096</td>\n",
       "      <td>-0.307</td>\n",
       "      <td>-1.070</td>\n",
       "      <td>-0.084</td>\n",
       "      <td>311405.0</td>\n",
       "    </tr>\n",
       "    <tr>\n",
       "      <th>1677</th>\n",
       "      <td>Martin Flores</td>\n",
       "      <td>75</td>\n",
       "      <td>50.15</td>\n",
       "      <td>2010</td>\n",
       "      <td>300.7</td>\n",
       "      <td>64.79</td>\n",
       "      <td>29.41</td>\n",
       "      <td>54.00</td>\n",
       "      <td>71.882</td>\n",
       "      <td>137</td>\n",
       "      <td>0</td>\n",
       "      <td>1</td>\n",
       "      <td>-0.106</td>\n",
       "      <td>-0.883</td>\n",
       "      <td>-0.223</td>\n",
       "      <td>-0.553</td>\n",
       "      <td>-0.001</td>\n",
       "      <td>318673.0</td>\n",
       "    </tr>\n",
       "  </tbody>\n",
       "</table>\n",
       "<p>1674 rows × 18 columns</p>\n",
       "</div>"
      ],
      "text/plain": [
       "         Player Name  Rounds  Fairway Percentage  Year  Avg Distance    gir  \\\n",
       "0     Henrik Stenson      60               75.19  2018         291.5  73.51   \n",
       "1        Ryan Armour     109               73.58  2018         283.5  68.22   \n",
       "2        Chez Reavie      93               72.24  2018         286.5  68.67   \n",
       "3         Ryan Moore      78               71.94  2018         289.2  68.80   \n",
       "4       Brian Stuard     103               71.44  2018         278.9  67.12   \n",
       "...              ...     ...                 ...   ...           ...    ...   \n",
       "1673  Phil Mickelson      76               52.66  2010         299.1  65.13   \n",
       "1674       John Daly      63               52.21  2010         305.7  65.66   \n",
       "1675    Jimmy Walker      82               51.29  2010         292.9  65.88   \n",
       "1676   Daniel Chopra      74               51.27  2010         295.9  61.64   \n",
       "1677   Martin Flores      75               50.15  2010         300.7  64.79   \n",
       "\n",
       "      Average Putts  Average Scrambling  Average Score  Points  Wins  Top 10  \\\n",
       "0             29.93               60.67         69.617     868     0       5   \n",
       "1             29.31               60.13         70.758    1006     1       3   \n",
       "2             29.12               62.27         70.432    1020     0       3   \n",
       "3             29.17               64.16         70.015     795     0       5   \n",
       "4             29.11               59.23         71.038     421     0       3   \n",
       "...             ...                 ...            ...     ...   ...     ...   \n",
       "1673          28.79               61.84         69.966    1629     1       5   \n",
       "1674          29.78               53.53         71.697      97     0       0   \n",
       "1675          29.14               58.46         70.953     554     0       2   \n",
       "1676          28.88               56.16         72.194     142     0       0   \n",
       "1677          29.41               54.00         71.882     137     0       1   \n",
       "\n",
       "      Average SG Putts  Average SG Total  SG:OTT  SG:APR  SG:ARG      Money  \n",
       "0               -0.207             1.153   0.427   0.960  -0.027  2680487.0  \n",
       "1               -0.058             0.337  -0.012   0.213   0.194  2485203.0  \n",
       "2                0.192             0.674   0.183   0.437  -0.137  2700018.0  \n",
       "3               -0.271             0.941   0.406   0.532   0.273  1986608.0  \n",
       "4                0.164             0.062  -0.227   0.099   0.026  1089763.0  \n",
       "...                ...               ...     ...     ...     ...        ...  \n",
       "1673            -0.147             1.001   0.185   0.738   0.228  3821733.0  \n",
       "1674            -0.653            -0.989   0.336  -0.374  -0.298   158587.0  \n",
       "1675             0.252             0.093  -0.538   0.336   0.047   937987.0  \n",
       "1676             0.361            -1.096  -0.307  -1.070  -0.084   311405.0  \n",
       "1677            -0.106            -0.883  -0.223  -0.553  -0.001   318673.0  \n",
       "\n",
       "[1674 rows x 18 columns]"
      ]
     },
     "execution_count": 9,
     "metadata": {},
     "output_type": "execute_result"
    }
   ],
   "source": [
    "# Change Points to int\n",
    "df['Points'] = df['Points'].apply(lambda x: x.replace(',',''))\n",
    "df['Points'] = df['Points'].astype(int)\n",
    "df"
   ]
  },
  {
   "cell_type": "code",
   "execution_count": 10,
   "metadata": {
    "scrolled": false
   },
   "outputs": [
    {
     "data": {
      "text/html": [
       "<div>\n",
       "<style scoped>\n",
       "    .dataframe tbody tr th:only-of-type {\n",
       "        vertical-align: middle;\n",
       "    }\n",
       "\n",
       "    .dataframe tbody tr th {\n",
       "        vertical-align: top;\n",
       "    }\n",
       "\n",
       "    .dataframe thead th {\n",
       "        text-align: right;\n",
       "    }\n",
       "</style>\n",
       "<table border=\"1\" class=\"dataframe\">\n",
       "  <thead>\n",
       "    <tr style=\"text-align: right;\">\n",
       "      <th></th>\n",
       "      <th>player_name</th>\n",
       "      <th>rounds</th>\n",
       "      <th>fairway_percentage</th>\n",
       "      <th>year</th>\n",
       "      <th>avg_distance</th>\n",
       "      <th>gir</th>\n",
       "      <th>average_putts</th>\n",
       "      <th>average_scrambling</th>\n",
       "      <th>average_score</th>\n",
       "      <th>points</th>\n",
       "      <th>wins</th>\n",
       "      <th>top_10</th>\n",
       "      <th>average_sg_putts</th>\n",
       "      <th>average_sg_total</th>\n",
       "      <th>sg:ott</th>\n",
       "      <th>sg:apr</th>\n",
       "      <th>sg:arg</th>\n",
       "      <th>money</th>\n",
       "    </tr>\n",
       "  </thead>\n",
       "  <tbody>\n",
       "    <tr>\n",
       "      <th>0</th>\n",
       "      <td>Henrik_Stenson</td>\n",
       "      <td>60</td>\n",
       "      <td>75.19</td>\n",
       "      <td>2018</td>\n",
       "      <td>291.5</td>\n",
       "      <td>73.51</td>\n",
       "      <td>29.93</td>\n",
       "      <td>60.67</td>\n",
       "      <td>69.617</td>\n",
       "      <td>868</td>\n",
       "      <td>0</td>\n",
       "      <td>5</td>\n",
       "      <td>-0.207</td>\n",
       "      <td>1.153</td>\n",
       "      <td>0.427</td>\n",
       "      <td>0.960</td>\n",
       "      <td>-0.027</td>\n",
       "      <td>2680487.0</td>\n",
       "    </tr>\n",
       "    <tr>\n",
       "      <th>1</th>\n",
       "      <td>Ryan_Armour</td>\n",
       "      <td>109</td>\n",
       "      <td>73.58</td>\n",
       "      <td>2018</td>\n",
       "      <td>283.5</td>\n",
       "      <td>68.22</td>\n",
       "      <td>29.31</td>\n",
       "      <td>60.13</td>\n",
       "      <td>70.758</td>\n",
       "      <td>1006</td>\n",
       "      <td>1</td>\n",
       "      <td>3</td>\n",
       "      <td>-0.058</td>\n",
       "      <td>0.337</td>\n",
       "      <td>-0.012</td>\n",
       "      <td>0.213</td>\n",
       "      <td>0.194</td>\n",
       "      <td>2485203.0</td>\n",
       "    </tr>\n",
       "    <tr>\n",
       "      <th>2</th>\n",
       "      <td>Chez_Reavie</td>\n",
       "      <td>93</td>\n",
       "      <td>72.24</td>\n",
       "      <td>2018</td>\n",
       "      <td>286.5</td>\n",
       "      <td>68.67</td>\n",
       "      <td>29.12</td>\n",
       "      <td>62.27</td>\n",
       "      <td>70.432</td>\n",
       "      <td>1020</td>\n",
       "      <td>0</td>\n",
       "      <td>3</td>\n",
       "      <td>0.192</td>\n",
       "      <td>0.674</td>\n",
       "      <td>0.183</td>\n",
       "      <td>0.437</td>\n",
       "      <td>-0.137</td>\n",
       "      <td>2700018.0</td>\n",
       "    </tr>\n",
       "    <tr>\n",
       "      <th>3</th>\n",
       "      <td>Ryan_Moore</td>\n",
       "      <td>78</td>\n",
       "      <td>71.94</td>\n",
       "      <td>2018</td>\n",
       "      <td>289.2</td>\n",
       "      <td>68.80</td>\n",
       "      <td>29.17</td>\n",
       "      <td>64.16</td>\n",
       "      <td>70.015</td>\n",
       "      <td>795</td>\n",
       "      <td>0</td>\n",
       "      <td>5</td>\n",
       "      <td>-0.271</td>\n",
       "      <td>0.941</td>\n",
       "      <td>0.406</td>\n",
       "      <td>0.532</td>\n",
       "      <td>0.273</td>\n",
       "      <td>1986608.0</td>\n",
       "    </tr>\n",
       "    <tr>\n",
       "      <th>4</th>\n",
       "      <td>Brian_Stuard</td>\n",
       "      <td>103</td>\n",
       "      <td>71.44</td>\n",
       "      <td>2018</td>\n",
       "      <td>278.9</td>\n",
       "      <td>67.12</td>\n",
       "      <td>29.11</td>\n",
       "      <td>59.23</td>\n",
       "      <td>71.038</td>\n",
       "      <td>421</td>\n",
       "      <td>0</td>\n",
       "      <td>3</td>\n",
       "      <td>0.164</td>\n",
       "      <td>0.062</td>\n",
       "      <td>-0.227</td>\n",
       "      <td>0.099</td>\n",
       "      <td>0.026</td>\n",
       "      <td>1089763.0</td>\n",
       "    </tr>\n",
       "    <tr>\n",
       "      <th>...</th>\n",
       "      <td>...</td>\n",
       "      <td>...</td>\n",
       "      <td>...</td>\n",
       "      <td>...</td>\n",
       "      <td>...</td>\n",
       "      <td>...</td>\n",
       "      <td>...</td>\n",
       "      <td>...</td>\n",
       "      <td>...</td>\n",
       "      <td>...</td>\n",
       "      <td>...</td>\n",
       "      <td>...</td>\n",
       "      <td>...</td>\n",
       "      <td>...</td>\n",
       "      <td>...</td>\n",
       "      <td>...</td>\n",
       "      <td>...</td>\n",
       "      <td>...</td>\n",
       "    </tr>\n",
       "    <tr>\n",
       "      <th>1673</th>\n",
       "      <td>Phil_Mickelson</td>\n",
       "      <td>76</td>\n",
       "      <td>52.66</td>\n",
       "      <td>2010</td>\n",
       "      <td>299.1</td>\n",
       "      <td>65.13</td>\n",
       "      <td>28.79</td>\n",
       "      <td>61.84</td>\n",
       "      <td>69.966</td>\n",
       "      <td>1629</td>\n",
       "      <td>1</td>\n",
       "      <td>5</td>\n",
       "      <td>-0.147</td>\n",
       "      <td>1.001</td>\n",
       "      <td>0.185</td>\n",
       "      <td>0.738</td>\n",
       "      <td>0.228</td>\n",
       "      <td>3821733.0</td>\n",
       "    </tr>\n",
       "    <tr>\n",
       "      <th>1674</th>\n",
       "      <td>John_Daly</td>\n",
       "      <td>63</td>\n",
       "      <td>52.21</td>\n",
       "      <td>2010</td>\n",
       "      <td>305.7</td>\n",
       "      <td>65.66</td>\n",
       "      <td>29.78</td>\n",
       "      <td>53.53</td>\n",
       "      <td>71.697</td>\n",
       "      <td>97</td>\n",
       "      <td>0</td>\n",
       "      <td>0</td>\n",
       "      <td>-0.653</td>\n",
       "      <td>-0.989</td>\n",
       "      <td>0.336</td>\n",
       "      <td>-0.374</td>\n",
       "      <td>-0.298</td>\n",
       "      <td>158587.0</td>\n",
       "    </tr>\n",
       "    <tr>\n",
       "      <th>1675</th>\n",
       "      <td>Jimmy_Walker</td>\n",
       "      <td>82</td>\n",
       "      <td>51.29</td>\n",
       "      <td>2010</td>\n",
       "      <td>292.9</td>\n",
       "      <td>65.88</td>\n",
       "      <td>29.14</td>\n",
       "      <td>58.46</td>\n",
       "      <td>70.953</td>\n",
       "      <td>554</td>\n",
       "      <td>0</td>\n",
       "      <td>2</td>\n",
       "      <td>0.252</td>\n",
       "      <td>0.093</td>\n",
       "      <td>-0.538</td>\n",
       "      <td>0.336</td>\n",
       "      <td>0.047</td>\n",
       "      <td>937987.0</td>\n",
       "    </tr>\n",
       "    <tr>\n",
       "      <th>1676</th>\n",
       "      <td>Daniel_Chopra</td>\n",
       "      <td>74</td>\n",
       "      <td>51.27</td>\n",
       "      <td>2010</td>\n",
       "      <td>295.9</td>\n",
       "      <td>61.64</td>\n",
       "      <td>28.88</td>\n",
       "      <td>56.16</td>\n",
       "      <td>72.194</td>\n",
       "      <td>142</td>\n",
       "      <td>0</td>\n",
       "      <td>0</td>\n",
       "      <td>0.361</td>\n",
       "      <td>-1.096</td>\n",
       "      <td>-0.307</td>\n",
       "      <td>-1.070</td>\n",
       "      <td>-0.084</td>\n",
       "      <td>311405.0</td>\n",
       "    </tr>\n",
       "    <tr>\n",
       "      <th>1677</th>\n",
       "      <td>Martin_Flores</td>\n",
       "      <td>75</td>\n",
       "      <td>50.15</td>\n",
       "      <td>2010</td>\n",
       "      <td>300.7</td>\n",
       "      <td>64.79</td>\n",
       "      <td>29.41</td>\n",
       "      <td>54.00</td>\n",
       "      <td>71.882</td>\n",
       "      <td>137</td>\n",
       "      <td>0</td>\n",
       "      <td>1</td>\n",
       "      <td>-0.106</td>\n",
       "      <td>-0.883</td>\n",
       "      <td>-0.223</td>\n",
       "      <td>-0.553</td>\n",
       "      <td>-0.001</td>\n",
       "      <td>318673.0</td>\n",
       "    </tr>\n",
       "  </tbody>\n",
       "</table>\n",
       "<p>1674 rows × 18 columns</p>\n",
       "</div>"
      ],
      "text/plain": [
       "         player_name  rounds  fairway_percentage  year  avg_distance    gir  \\\n",
       "0     Henrik_Stenson      60               75.19  2018         291.5  73.51   \n",
       "1        Ryan_Armour     109               73.58  2018         283.5  68.22   \n",
       "2        Chez_Reavie      93               72.24  2018         286.5  68.67   \n",
       "3         Ryan_Moore      78               71.94  2018         289.2  68.80   \n",
       "4       Brian_Stuard     103               71.44  2018         278.9  67.12   \n",
       "...              ...     ...                 ...   ...           ...    ...   \n",
       "1673  Phil_Mickelson      76               52.66  2010         299.1  65.13   \n",
       "1674       John_Daly      63               52.21  2010         305.7  65.66   \n",
       "1675    Jimmy_Walker      82               51.29  2010         292.9  65.88   \n",
       "1676   Daniel_Chopra      74               51.27  2010         295.9  61.64   \n",
       "1677   Martin_Flores      75               50.15  2010         300.7  64.79   \n",
       "\n",
       "      average_putts  average_scrambling  average_score  points  wins  top_10  \\\n",
       "0             29.93               60.67         69.617     868     0       5   \n",
       "1             29.31               60.13         70.758    1006     1       3   \n",
       "2             29.12               62.27         70.432    1020     0       3   \n",
       "3             29.17               64.16         70.015     795     0       5   \n",
       "4             29.11               59.23         71.038     421     0       3   \n",
       "...             ...                 ...            ...     ...   ...     ...   \n",
       "1673          28.79               61.84         69.966    1629     1       5   \n",
       "1674          29.78               53.53         71.697      97     0       0   \n",
       "1675          29.14               58.46         70.953     554     0       2   \n",
       "1676          28.88               56.16         72.194     142     0       0   \n",
       "1677          29.41               54.00         71.882     137     0       1   \n",
       "\n",
       "      average_sg_putts  average_sg_total  sg:ott  sg:apr  sg:arg      money  \n",
       "0               -0.207             1.153   0.427   0.960  -0.027  2680487.0  \n",
       "1               -0.058             0.337  -0.012   0.213   0.194  2485203.0  \n",
       "2                0.192             0.674   0.183   0.437  -0.137  2700018.0  \n",
       "3               -0.271             0.941   0.406   0.532   0.273  1986608.0  \n",
       "4                0.164             0.062  -0.227   0.099   0.026  1089763.0  \n",
       "...                ...               ...     ...     ...     ...        ...  \n",
       "1673            -0.147             1.001   0.185   0.738   0.228  3821733.0  \n",
       "1674            -0.653            -0.989   0.336  -0.374  -0.298   158587.0  \n",
       "1675             0.252             0.093  -0.538   0.336   0.047   937987.0  \n",
       "1676             0.361            -1.096  -0.307  -1.070  -0.084   311405.0  \n",
       "1677            -0.106            -0.883  -0.223  -0.553  -0.001   318673.0  \n",
       "\n",
       "[1674 rows x 18 columns]"
      ]
     },
     "execution_count": 10,
     "metadata": {},
     "output_type": "execute_result"
    }
   ],
   "source": [
    "# Insert underscores to column names where needed and lowercase all columns\n",
    "df.columns=df.columns.str.replace(' ', '_').str.lower()\n",
    "\n",
    "# Insert underscores to all players under the 'player_name' column.\n",
    "df[\"player_name\"] = df[\"player_name\"].str.replace(' ', '_')\n",
    "df"
   ]
  },
  {
   "cell_type": "code",
   "execution_count": 11,
   "metadata": {},
   "outputs": [
    {
     "data": {
      "text/plain": [
       "<AxesSubplot:>"
      ]
     },
     "execution_count": 11,
     "metadata": {},
     "output_type": "execute_result"
    },
    {
     "data": {
      "image/png": "[encoded data removed]",
      "text/plain": [
       "<Figure size 432x288 with 2 Axes>"
      ]
     },
     "metadata": {
      "needs_background": "light"
     },
     "output_type": "display_data"
    }
   ],
   "source": [
    "# Import Seaborn and look at correlations for dataset\n",
    "import seaborn as sns\n",
    "corr = df.corr()\n",
    "sns.heatmap(corr)"
   ]
  },
  {
   "cell_type": "code",
   "execution_count": 12,
   "metadata": {
    "scrolled": false
   },
   "outputs": [
    {
     "data": {
      "text/html": [
       "<div>\n",
       "<style scoped>\n",
       "    .dataframe tbody tr th:only-of-type {\n",
       "        vertical-align: middle;\n",
       "    }\n",
       "\n",
       "    .dataframe tbody tr th {\n",
       "        vertical-align: top;\n",
       "    }\n",
       "\n",
       "    .dataframe thead th {\n",
       "        text-align: right;\n",
       "    }\n",
       "</style>\n",
       "<table border=\"1\" class=\"dataframe\">\n",
       "  <thead>\n",
       "    <tr style=\"text-align: right;\">\n",
       "      <th></th>\n",
       "      <th>player_name</th>\n",
       "      <th>rounds</th>\n",
       "      <th>fairway_percentage</th>\n",
       "      <th>year</th>\n",
       "      <th>avg_distance</th>\n",
       "      <th>gir</th>\n",
       "      <th>average_putts</th>\n",
       "      <th>average_scrambling</th>\n",
       "      <th>average_score</th>\n",
       "      <th>points</th>\n",
       "      <th>wins</th>\n",
       "      <th>top_10</th>\n",
       "      <th>average_sg_putts</th>\n",
       "      <th>average_sg_total</th>\n",
       "      <th>sg:ott</th>\n",
       "      <th>sg:apr</th>\n",
       "      <th>sg:arg</th>\n",
       "      <th>money</th>\n",
       "      <th>winners</th>\n",
       "    </tr>\n",
       "  </thead>\n",
       "  <tbody>\n",
       "    <tr>\n",
       "      <th>0</th>\n",
       "      <td>Henrik_Stenson</td>\n",
       "      <td>60</td>\n",
       "      <td>75.19</td>\n",
       "      <td>2018</td>\n",
       "      <td>291.5</td>\n",
       "      <td>73.51</td>\n",
       "      <td>29.93</td>\n",
       "      <td>60.67</td>\n",
       "      <td>69.617</td>\n",
       "      <td>868</td>\n",
       "      <td>0</td>\n",
       "      <td>5</td>\n",
       "      <td>-0.207</td>\n",
       "      <td>1.153</td>\n",
       "      <td>0.427</td>\n",
       "      <td>0.960</td>\n",
       "      <td>-0.027</td>\n",
       "      <td>2680487.0</td>\n",
       "      <td>0</td>\n",
       "    </tr>\n",
       "    <tr>\n",
       "      <th>1</th>\n",
       "      <td>Ryan_Armour</td>\n",
       "      <td>109</td>\n",
       "      <td>73.58</td>\n",
       "      <td>2018</td>\n",
       "      <td>283.5</td>\n",
       "      <td>68.22</td>\n",
       "      <td>29.31</td>\n",
       "      <td>60.13</td>\n",
       "      <td>70.758</td>\n",
       "      <td>1006</td>\n",
       "      <td>1</td>\n",
       "      <td>3</td>\n",
       "      <td>-0.058</td>\n",
       "      <td>0.337</td>\n",
       "      <td>-0.012</td>\n",
       "      <td>0.213</td>\n",
       "      <td>0.194</td>\n",
       "      <td>2485203.0</td>\n",
       "      <td>1</td>\n",
       "    </tr>\n",
       "    <tr>\n",
       "      <th>2</th>\n",
       "      <td>Chez_Reavie</td>\n",
       "      <td>93</td>\n",
       "      <td>72.24</td>\n",
       "      <td>2018</td>\n",
       "      <td>286.5</td>\n",
       "      <td>68.67</td>\n",
       "      <td>29.12</td>\n",
       "      <td>62.27</td>\n",
       "      <td>70.432</td>\n",
       "      <td>1020</td>\n",
       "      <td>0</td>\n",
       "      <td>3</td>\n",
       "      <td>0.192</td>\n",
       "      <td>0.674</td>\n",
       "      <td>0.183</td>\n",
       "      <td>0.437</td>\n",
       "      <td>-0.137</td>\n",
       "      <td>2700018.0</td>\n",
       "      <td>0</td>\n",
       "    </tr>\n",
       "    <tr>\n",
       "      <th>3</th>\n",
       "      <td>Ryan_Moore</td>\n",
       "      <td>78</td>\n",
       "      <td>71.94</td>\n",
       "      <td>2018</td>\n",
       "      <td>289.2</td>\n",
       "      <td>68.80</td>\n",
       "      <td>29.17</td>\n",
       "      <td>64.16</td>\n",
       "      <td>70.015</td>\n",
       "      <td>795</td>\n",
       "      <td>0</td>\n",
       "      <td>5</td>\n",
       "      <td>-0.271</td>\n",
       "      <td>0.941</td>\n",
       "      <td>0.406</td>\n",
       "      <td>0.532</td>\n",
       "      <td>0.273</td>\n",
       "      <td>1986608.0</td>\n",
       "      <td>0</td>\n",
       "    </tr>\n",
       "    <tr>\n",
       "      <th>4</th>\n",
       "      <td>Brian_Stuard</td>\n",
       "      <td>103</td>\n",
       "      <td>71.44</td>\n",
       "      <td>2018</td>\n",
       "      <td>278.9</td>\n",
       "      <td>67.12</td>\n",
       "      <td>29.11</td>\n",
       "      <td>59.23</td>\n",
       "      <td>71.038</td>\n",
       "      <td>421</td>\n",
       "      <td>0</td>\n",
       "      <td>3</td>\n",
       "      <td>0.164</td>\n",
       "      <td>0.062</td>\n",
       "      <td>-0.227</td>\n",
       "      <td>0.099</td>\n",
       "      <td>0.026</td>\n",
       "      <td>1089763.0</td>\n",
       "      <td>0</td>\n",
       "    </tr>\n",
       "    <tr>\n",
       "      <th>...</th>\n",
       "      <td>...</td>\n",
       "      <td>...</td>\n",
       "      <td>...</td>\n",
       "      <td>...</td>\n",
       "      <td>...</td>\n",
       "      <td>...</td>\n",
       "      <td>...</td>\n",
       "      <td>...</td>\n",
       "      <td>...</td>\n",
       "      <td>...</td>\n",
       "      <td>...</td>\n",
       "      <td>...</td>\n",
       "      <td>...</td>\n",
       "      <td>...</td>\n",
       "      <td>...</td>\n",
       "      <td>...</td>\n",
       "      <td>...</td>\n",
       "      <td>...</td>\n",
       "      <td>...</td>\n",
       "    </tr>\n",
       "    <tr>\n",
       "      <th>1673</th>\n",
       "      <td>Phil_Mickelson</td>\n",
       "      <td>76</td>\n",
       "      <td>52.66</td>\n",
       "      <td>2010</td>\n",
       "      <td>299.1</td>\n",
       "      <td>65.13</td>\n",
       "      <td>28.79</td>\n",
       "      <td>61.84</td>\n",
       "      <td>69.966</td>\n",
       "      <td>1629</td>\n",
       "      <td>1</td>\n",
       "      <td>5</td>\n",
       "      <td>-0.147</td>\n",
       "      <td>1.001</td>\n",
       "      <td>0.185</td>\n",
       "      <td>0.738</td>\n",
       "      <td>0.228</td>\n",
       "      <td>3821733.0</td>\n",
       "      <td>1</td>\n",
       "    </tr>\n",
       "    <tr>\n",
       "      <th>1674</th>\n",
       "      <td>John_Daly</td>\n",
       "      <td>63</td>\n",
       "      <td>52.21</td>\n",
       "      <td>2010</td>\n",
       "      <td>305.7</td>\n",
       "      <td>65.66</td>\n",
       "      <td>29.78</td>\n",
       "      <td>53.53</td>\n",
       "      <td>71.697</td>\n",
       "      <td>97</td>\n",
       "      <td>0</td>\n",
       "      <td>0</td>\n",
       "      <td>-0.653</td>\n",
       "      <td>-0.989</td>\n",
       "      <td>0.336</td>\n",
       "      <td>-0.374</td>\n",
       "      <td>-0.298</td>\n",
       "      <td>158587.0</td>\n",
       "      <td>0</td>\n",
       "    </tr>\n",
       "    <tr>\n",
       "      <th>1675</th>\n",
       "      <td>Jimmy_Walker</td>\n",
       "      <td>82</td>\n",
       "      <td>51.29</td>\n",
       "      <td>2010</td>\n",
       "      <td>292.9</td>\n",
       "      <td>65.88</td>\n",
       "      <td>29.14</td>\n",
       "      <td>58.46</td>\n",
       "      <td>70.953</td>\n",
       "      <td>554</td>\n",
       "      <td>0</td>\n",
       "      <td>2</td>\n",
       "      <td>0.252</td>\n",
       "      <td>0.093</td>\n",
       "      <td>-0.538</td>\n",
       "      <td>0.336</td>\n",
       "      <td>0.047</td>\n",
       "      <td>937987.0</td>\n",
       "      <td>0</td>\n",
       "    </tr>\n",
       "    <tr>\n",
       "      <th>1676</th>\n",
       "      <td>Daniel_Chopra</td>\n",
       "      <td>74</td>\n",
       "      <td>51.27</td>\n",
       "      <td>2010</td>\n",
       "      <td>295.9</td>\n",
       "      <td>61.64</td>\n",
       "      <td>28.88</td>\n",
       "      <td>56.16</td>\n",
       "      <td>72.194</td>\n",
       "      <td>142</td>\n",
       "      <td>0</td>\n",
       "      <td>0</td>\n",
       "      <td>0.361</td>\n",
       "      <td>-1.096</td>\n",
       "      <td>-0.307</td>\n",
       "      <td>-1.070</td>\n",
       "      <td>-0.084</td>\n",
       "      <td>311405.0</td>\n",
       "      <td>0</td>\n",
       "    </tr>\n",
       "    <tr>\n",
       "      <th>1677</th>\n",
       "      <td>Martin_Flores</td>\n",
       "      <td>75</td>\n",
       "      <td>50.15</td>\n",
       "      <td>2010</td>\n",
       "      <td>300.7</td>\n",
       "      <td>64.79</td>\n",
       "      <td>29.41</td>\n",
       "      <td>54.00</td>\n",
       "      <td>71.882</td>\n",
       "      <td>137</td>\n",
       "      <td>0</td>\n",
       "      <td>1</td>\n",
       "      <td>-0.106</td>\n",
       "      <td>-0.883</td>\n",
       "      <td>-0.223</td>\n",
       "      <td>-0.553</td>\n",
       "      <td>-0.001</td>\n",
       "      <td>318673.0</td>\n",
       "      <td>0</td>\n",
       "    </tr>\n",
       "  </tbody>\n",
       "</table>\n",
       "<p>1674 rows × 19 columns</p>\n",
       "</div>"
      ],
      "text/plain": [
       "         player_name  rounds  fairway_percentage  year  avg_distance    gir  \\\n",
       "0     Henrik_Stenson      60               75.19  2018         291.5  73.51   \n",
       "1        Ryan_Armour     109               73.58  2018         283.5  68.22   \n",
       "2        Chez_Reavie      93               72.24  2018         286.5  68.67   \n",
       "3         Ryan_Moore      78               71.94  2018         289.2  68.80   \n",
       "4       Brian_Stuard     103               71.44  2018         278.9  67.12   \n",
       "...              ...     ...                 ...   ...           ...    ...   \n",
       "1673  Phil_Mickelson      76               52.66  2010         299.1  65.13   \n",
       "1674       John_Daly      63               52.21  2010         305.7  65.66   \n",
       "1675    Jimmy_Walker      82               51.29  2010         292.9  65.88   \n",
       "1676   Daniel_Chopra      74               51.27  2010         295.9  61.64   \n",
       "1677   Martin_Flores      75               50.15  2010         300.7  64.79   \n",
       "\n",
       "      average_putts  average_scrambling  average_score  points  wins  top_10  \\\n",
       "0             29.93               60.67         69.617     868     0       5   \n",
       "1             29.31               60.13         70.758    1006     1       3   \n",
       "2             29.12               62.27         70.432    1020     0       3   \n",
       "3             29.17               64.16         70.015     795     0       5   \n",
       "4             29.11               59.23         71.038     421     0       3   \n",
       "...             ...                 ...            ...     ...   ...     ...   \n",
       "1673          28.79               61.84         69.966    1629     1       5   \n",
       "1674          29.78               53.53         71.697      97     0       0   \n",
       "1675          29.14               58.46         70.953     554     0       2   \n",
       "1676          28.88               56.16         72.194     142     0       0   \n",
       "1677          29.41               54.00         71.882     137     0       1   \n",
       "\n",
       "      average_sg_putts  average_sg_total  sg:ott  sg:apr  sg:arg      money  \\\n",
       "0               -0.207             1.153   0.427   0.960  -0.027  2680487.0   \n",
       "1               -0.058             0.337  -0.012   0.213   0.194  2485203.0   \n",
       "2                0.192             0.674   0.183   0.437  -0.137  2700018.0   \n",
       "3               -0.271             0.941   0.406   0.532   0.273  1986608.0   \n",
       "4                0.164             0.062  -0.227   0.099   0.026  1089763.0   \n",
       "...                ...               ...     ...     ...     ...        ...   \n",
       "1673            -0.147             1.001   0.185   0.738   0.228  3821733.0   \n",
       "1674            -0.653            -0.989   0.336  -0.374  -0.298   158587.0   \n",
       "1675             0.252             0.093  -0.538   0.336   0.047   937987.0   \n",
       "1676             0.361            -1.096  -0.307  -1.070  -0.084   311405.0   \n",
       "1677            -0.106            -0.883  -0.223  -0.553  -0.001   318673.0   \n",
       "\n",
       "      winners  \n",
       "0           0  \n",
       "1           1  \n",
       "2           0  \n",
       "3           0  \n",
       "4           0  \n",
       "...       ...  \n",
       "1673        1  \n",
       "1674        0  \n",
       "1675        0  \n",
       "1676        0  \n",
       "1677        0  \n",
       "\n",
       "[1674 rows x 19 columns]"
      ]
     },
     "execution_count": 12,
     "metadata": {},
     "output_type": "execute_result"
    }
   ],
   "source": [
    "# Create 'winners' column - anyone with wins gets a 1; anyone without wins gets a 0.\n",
    "df['winners'] = df['wins'].apply(lambda x: 1 if x > 0 else 0)\n",
    "df"
   ]
  },
  {
   "cell_type": "code",
   "execution_count": 13,
   "metadata": {
    "scrolled": true
   },
   "outputs": [
    {
     "data": {
      "text/plain": [
       "winners               1.000000\n",
       "wins                  0.887289\n",
       "points                0.655472\n",
       "money                 0.609677\n",
       "top_10                0.423576\n",
       "average_sg_total      0.329481\n",
       "sg:apr                0.218768\n",
       "sg:ott                0.210853\n",
       "avg_distance          0.175860\n",
       "rounds                0.134702\n",
       "average_sg_putts      0.123551\n",
       "sg:arg                0.106644\n",
       "average_scrambling    0.091628\n",
       "gir                   0.082389\n",
       "year                  0.031866\n",
       "fairway_percentage    0.034002\n",
       "average_putts         0.147468\n",
       "average_score         0.337001\n",
       "Name: winners, dtype: float64"
      ]
     },
     "execution_count": 13,
     "metadata": {},
     "output_type": "execute_result"
    }
   ],
   "source": [
    "# Strongest correlation with 'winners'\n",
    "df.corr()['winners'].sort_values(ascending=False).abs()"
   ]
  },
  {
   "cell_type": "markdown",
   "metadata": {},
   "source": [
    "## Bar Plots, Strip Plot, and Box Plot for relationship between 'year' and 'points'. And 'winners' is the hue."
   ]
  },
  {
   "cell_type": "code",
   "execution_count": 14,
   "metadata": {},
   "outputs": [
    {
     "data": {
      "text/plain": [
       "<matplotlib.legend.Legend at 0x24638d5d7c0>"
      ]
     },
     "execution_count": 14,
     "metadata": {},
     "output_type": "execute_result"
    },
    {
     "data": {
      "image/png": "[encoded data removed]",
      "text/plain": [
       "<Figure size 432x288 with 1 Axes>"
      ]
     },
     "metadata": {},
     "output_type": "display_data"
    }
   ],
   "source": [
    "sns.set_style('darkgrid')\n",
    "sns.stripplot(y = df['points'], x = df['year'], hue = df['winners'])\n",
    "plt.legend(bbox_to_anchor=(1, 1), loc=2)"
   ]
  },
  {
   "cell_type": "code",
   "execution_count": 15,
   "metadata": {
    "scrolled": false
   },
   "outputs": [
    {
     "data": {
      "image/png": "[encoded data removed]",
      "text/plain": [
       "<Figure size 432x288 with 1 Axes>"
      ]
     },
     "metadata": {},
     "output_type": "display_data"
    }
   ],
   "source": [
    "box = sns.boxplot(x = 'year', y = 'points', hue = 'winners', data = df);"
   ]
  },
  {
   "cell_type": "code",
   "execution_count": 16,
   "metadata": {},
   "outputs": [
    {
     "data": {
      "text/plain": [
       "<AxesSubplot:xlabel='year', ylabel='points'>"
      ]
     },
     "execution_count": 16,
     "metadata": {},
     "output_type": "execute_result"
    },
    {
     "data": {
      "image/png": "[encoded data removed]",
      "text/plain": [
       "<Figure size 432x288 with 1 Axes>"
      ]
     },
     "metadata": {},
     "output_type": "display_data"
    }
   ],
   "source": [
    "sns.barplot(data=df, x=\"year\", y=\"points\", hue='winners')"
   ]
  },
  {
   "cell_type": "code",
   "execution_count": 17,
   "metadata": {},
   "outputs": [
    {
     "data": {
      "text/plain": [
       "<AxesSubplot:xlabel='winners', ylabel='points'>"
      ]
     },
     "execution_count": 17,
     "metadata": {},
     "output_type": "execute_result"
    },
    {
     "data": {
      "image/png": "[encoded data removed]",
      "text/plain": [
       "<Figure size 432x288 with 1 Axes>"
      ]
     },
     "metadata": {},
     "output_type": "display_data"
    }
   ],
   "source": [
    "sns.barplot(x = df['winners'], y = df['points'])"
   ]
  },
  {
   "cell_type": "code",
   "execution_count": 18,
   "metadata": {
    "scrolled": true
   },
   "outputs": [
    {
     "data": {
      "text/plain": [
       "<AxesSubplot:xlabel='winners', ylabel='count'>"
      ]
     },
     "execution_count": 18,
     "metadata": {},
     "output_type": "execute_result"
    },
    {
     "data": {
      "image/png": "[encoded data removed]",
      "text/plain": [
       "<Figure size 432x288 with 1 Axes>"
      ]
     },
     "metadata": {},
     "output_type": "display_data"
    }
   ],
   "source": [
    "sns.countplot(x = df['winners'])"
   ]
  },
  {
   "cell_type": "markdown",
   "metadata": {},
   "source": [
    "## Bar Plots, Strip Plot, and Box Plot for relationship between 'year' and 'money'. And 'winners' is the hue."
   ]
  },
  {
   "cell_type": "code",
   "execution_count": 19,
   "metadata": {},
   "outputs": [
    {
     "data": {
      "text/plain": [
       "<matplotlib.legend.Legend at 0x24638e71790>"
      ]
     },
     "execution_count": 19,
     "metadata": {},
     "output_type": "execute_result"
    },
    {
     "data": {
      "image/png": "[encoded data removed]",
      "text/plain": [
       "<Figure size 432x288 with 1 Axes>"
      ]
     },
     "metadata": {},
     "output_type": "display_data"
    }
   ],
   "source": [
    "sns.stripplot(y = df['money'], x = df['year'], hue = df['winners'])\n",
    "plt.legend(bbox_to_anchor=(1, 1), loc=2)"
   ]
  },
  {
   "cell_type": "code",
   "execution_count": 20,
   "metadata": {
    "scrolled": false
   },
   "outputs": [
    {
     "data": {
      "image/png": "[encoded data removed]",
      "text/plain": [
       "<Figure size 432x288 with 1 Axes>"
      ]
     },
     "metadata": {},
     "output_type": "display_data"
    }
   ],
   "source": [
    "box2 = sns.boxplot(x = 'year', y = 'money', hue = 'winners', data = df);"
   ]
  },
  {
   "cell_type": "code",
   "execution_count": 21,
   "metadata": {},
   "outputs": [
    {
     "data": {
      "text/plain": [
       "<AxesSubplot:xlabel='year', ylabel='money'>"
      ]
     },
     "execution_count": 21,
     "metadata": {},
     "output_type": "execute_result"
    },
    {
     "data": {
      "image/png": "[encoded data removed]",
      "text/plain": [
       "<Figure size 432x288 with 1 Axes>"
      ]
     },
     "metadata": {},
     "output_type": "display_data"
    }
   ],
   "source": [
    "sns.set_style('darkgrid')\n",
    "sns.barplot(data=df, x=\"year\", y=\"money\", hue='winners')"
   ]
  },
  {
   "cell_type": "code",
   "execution_count": 22,
   "metadata": {},
   "outputs": [
    {
     "data": {
      "text/plain": [
       "<AxesSubplot:xlabel='winners', ylabel='money'>"
      ]
     },
     "execution_count": 22,
     "metadata": {},
     "output_type": "execute_result"
    },
    {
     "data": {
      "image/png": "[encoded data removed]",
      "text/plain": [
       "<Figure size 432x288 with 1 Axes>"
      ]
     },
     "metadata": {},
     "output_type": "display_data"
    }
   ],
   "source": [
    "sns.barplot(x = df['winners'], y = df['money'])"
   ]
  },
  {
   "cell_type": "code",
   "execution_count": 23,
   "metadata": {},
   "outputs": [
    {
     "data": {
      "text/plain": [
       "<AxesSubplot:xlabel='winners', ylabel='count'>"
      ]
     },
     "execution_count": 23,
     "metadata": {},
     "output_type": "execute_result"
    },
    {
     "data": {
      "image/png": "[encoded data removed]",
      "text/plain": [
       "<Figure size 432x288 with 1 Axes>"
      ]
     },
     "metadata": {},
     "output_type": "display_data"
    }
   ],
   "source": [
    "sns.countplot(x = df['winners'])"
   ]
  },
  {
   "cell_type": "markdown",
   "metadata": {},
   "source": [
    "## Create Models for 'winners'"
   ]
  },
  {
   "cell_type": "code",
   "execution_count": 24,
   "metadata": {},
   "outputs": [],
   "source": [
    "# Import tools you'll need for models\n",
    "from sklearn.model_selection import train_test_split, GridSearchCV\n",
    "from sklearn.linear_model import LogisticRegression\n",
    "from sklearn.preprocessing import StandardScaler\n",
    "from sklearn.tree import DecisionTreeClassifier\n",
    "from sklearn.ensemble import RandomForestClassifier\n",
    "from sklearn.metrics import accuracy_score, plot_confusion_matrix"
   ]
  },
  {
   "cell_type": "markdown",
   "metadata": {},
   "source": [
    "## Data Preparation\n",
    "\n",
    "- Dropped 'wins' column because we used it to create 'winners' column.\n",
    "- Dropped 'points' column because Cameron will create models based on points.\n",
    "- Dropped 'money' column because Elliott will create models based on money.\n",
    "- Dropped 'player_name' column because it's a string."
   ]
  },
  {
   "cell_type": "code",
   "execution_count": 25,
   "metadata": {
    "scrolled": true
   },
   "outputs": [],
   "source": [
    "# Target\n",
    "y = df['winners']\n",
    "# Features\n",
    "X = df.drop(['winners', 'wins', 'points', 'player_name'], axis=1)"
   ]
  },
  {
   "cell_type": "markdown",
   "metadata": {},
   "source": [
    "### Train-Test-Split (Testing Data, Training Data, Validation Data)"
   ]
  },
  {
   "cell_type": "code",
   "execution_count": 26,
   "metadata": {},
   "outputs": [],
   "source": [
    "# Initial Train-Test Split for Testing Data\n",
    "X_tr, X_test, y_tr, y_test = train_test_split(X, y, test_size=.25, random_state=2021)"
   ]
  },
  {
   "cell_type": "code",
   "execution_count": 27,
   "metadata": {},
   "outputs": [],
   "source": [
    "# Train-Test-Split for Training Data and Validation Data\n",
    "X_train, X_val, y_train, y_val = train_test_split(X_tr, y_tr, test_size=.25, random_state=2021)"
   ]
  },
  {
   "cell_type": "markdown",
   "metadata": {},
   "source": [
    "### Check null values for training data and validation data"
   ]
  },
  {
   "cell_type": "code",
   "execution_count": 28,
   "metadata": {},
   "outputs": [
    {
     "data": {
      "text/plain": [
       "0"
      ]
     },
     "execution_count": 28,
     "metadata": {},
     "output_type": "execute_result"
    }
   ],
   "source": [
    "# Check again for null values\n",
    "X_train.isna().sum().sum()"
   ]
  },
  {
   "cell_type": "code",
   "execution_count": 29,
   "metadata": {},
   "outputs": [
    {
     "data": {
      "text/plain": [
       "0"
      ]
     },
     "execution_count": 29,
     "metadata": {},
     "output_type": "execute_result"
    }
   ],
   "source": [
    "# Check again for null values\n",
    "X_val.isna().sum().sum()"
   ]
  },
  {
   "cell_type": "markdown",
   "metadata": {},
   "source": [
    "### Pull all numerical columns from dataset"
   ]
  },
  {
   "cell_type": "code",
   "execution_count": 30,
   "metadata": {},
   "outputs": [
    {
     "data": {
      "text/plain": [
       "['rounds',\n",
       " 'fairway_percentage',\n",
       " 'year',\n",
       " 'avg_distance',\n",
       " 'gir',\n",
       " 'average_putts',\n",
       " 'average_scrambling',\n",
       " 'average_score',\n",
       " 'top_10',\n",
       " 'average_sg_putts',\n",
       " 'average_sg_total',\n",
       " 'sg:ott',\n",
       " 'sg:apr',\n",
       " 'sg:arg',\n",
       " 'money']"
      ]
     },
     "execution_count": 30,
     "metadata": {},
     "output_type": "execute_result"
    }
   ],
   "source": [
    "# Select only numerical columns\n",
    "num_cols = list(X.select_dtypes('number').columns)\n",
    "num_cols"
   ]
  },
  {
   "cell_type": "markdown",
   "metadata": {},
   "source": [
    "## Scale the dataset so the data's distribution will even out."
   ]
  },
  {
   "cell_type": "code",
   "execution_count": 31,
   "metadata": {},
   "outputs": [],
   "source": [
    "# Instantiate and Fit StandardScaler\n",
    "scaler = StandardScaler()\n",
    "scaler.fit(X_train[num_cols])\n",
    "\n",
    "# Transform and Convert to DataFrame\n",
    "X_train_scaled = pd.DataFrame(scaler.transform(X_train[num_cols]), columns=num_cols)\n",
    "X_val_scaled = pd.DataFrame(scaler.transform(X_val[num_cols]), columns=num_cols)"
   ]
  },
  {
   "cell_type": "code",
   "execution_count": 32,
   "metadata": {},
   "outputs": [
    {
     "data": {
      "text/html": [
       "<div>\n",
       "<style scoped>\n",
       "    .dataframe tbody tr th:only-of-type {\n",
       "        vertical-align: middle;\n",
       "    }\n",
       "\n",
       "    .dataframe tbody tr th {\n",
       "        vertical-align: top;\n",
       "    }\n",
       "\n",
       "    .dataframe thead th {\n",
       "        text-align: right;\n",
       "    }\n",
       "</style>\n",
       "<table border=\"1\" class=\"dataframe\">\n",
       "  <thead>\n",
       "    <tr style=\"text-align: right;\">\n",
       "      <th></th>\n",
       "      <th>rounds</th>\n",
       "      <th>fairway_percentage</th>\n",
       "      <th>year</th>\n",
       "      <th>avg_distance</th>\n",
       "      <th>gir</th>\n",
       "      <th>average_putts</th>\n",
       "      <th>average_scrambling</th>\n",
       "      <th>average_score</th>\n",
       "      <th>top_10</th>\n",
       "      <th>average_sg_putts</th>\n",
       "      <th>average_sg_total</th>\n",
       "      <th>sg:ott</th>\n",
       "      <th>sg:apr</th>\n",
       "      <th>sg:arg</th>\n",
       "      <th>money</th>\n",
       "    </tr>\n",
       "  </thead>\n",
       "  <tbody>\n",
       "    <tr>\n",
       "      <th>0</th>\n",
       "      <td>-0.684984</td>\n",
       "      <td>-0.101855</td>\n",
       "      <td>-0.770559</td>\n",
       "      <td>-0.311261</td>\n",
       "      <td>-1.173098</td>\n",
       "      <td>-0.770468</td>\n",
       "      <td>0.396620</td>\n",
       "      <td>0.625337</td>\n",
       "      <td>-0.649867</td>\n",
       "      <td>0.801783</td>\n",
       "      <td>-0.435374</td>\n",
       "      <td>0.177094</td>\n",
       "      <td>-1.898297</td>\n",
       "      <td>0.370167</td>\n",
       "      <td>-0.801015</td>\n",
       "    </tr>\n",
       "    <tr>\n",
       "      <th>1</th>\n",
       "      <td>-1.829233</td>\n",
       "      <td>0.072940</td>\n",
       "      <td>1.150734</td>\n",
       "      <td>-1.114711</td>\n",
       "      <td>0.135303</td>\n",
       "      <td>-1.246258</td>\n",
       "      <td>1.747647</td>\n",
       "      <td>-1.240054</td>\n",
       "      <td>0.807300</td>\n",
       "      <td>1.574632</td>\n",
       "      <td>1.019142</td>\n",
       "      <td>-0.927079</td>\n",
       "      <td>1.110958</td>\n",
       "      <td>1.327098</td>\n",
       "      <td>0.109749</td>\n",
       "    </tr>\n",
       "    <tr>\n",
       "      <th>2</th>\n",
       "      <td>-0.756500</td>\n",
       "      <td>0.418557</td>\n",
       "      <td>-1.539077</td>\n",
       "      <td>-0.560218</td>\n",
       "      <td>0.168196</td>\n",
       "      <td>0.866253</td>\n",
       "      <td>0.025749</td>\n",
       "      <td>0.702155</td>\n",
       "      <td>-0.164144</td>\n",
       "      <td>-0.922042</td>\n",
       "      <td>-1.025317</td>\n",
       "      <td>-0.707304</td>\n",
       "      <td>-0.252856</td>\n",
       "      <td>-0.115101</td>\n",
       "      <td>-0.222872</td>\n",
       "    </tr>\n",
       "    <tr>\n",
       "      <th>3</th>\n",
       "      <td>-0.184375</td>\n",
       "      <td>0.611229</td>\n",
       "      <td>1.150734</td>\n",
       "      <td>0.333761</td>\n",
       "      <td>-0.164386</td>\n",
       "      <td>-0.998847</td>\n",
       "      <td>0.096391</td>\n",
       "      <td>0.015135</td>\n",
       "      <td>-0.164144</td>\n",
       "      <td>0.327731</td>\n",
       "      <td>-0.130231</td>\n",
       "      <td>0.817885</td>\n",
       "      <td>-0.555346</td>\n",
       "      <td>-1.366821</td>\n",
       "      <td>-0.564780</td>\n",
       "    </tr>\n",
       "    <tr>\n",
       "      <th>4</th>\n",
       "      <td>0.602296</td>\n",
       "      <td>0.507941</td>\n",
       "      <td>-1.539077</td>\n",
       "      <td>0.299813</td>\n",
       "      <td>1.546038</td>\n",
       "      <td>0.618841</td>\n",
       "      <td>-0.047836</td>\n",
       "      <td>-0.873354</td>\n",
       "      <td>-0.164144</td>\n",
       "      <td>-0.255496</td>\n",
       "      <td>1.100514</td>\n",
       "      <td>1.125041</td>\n",
       "      <td>1.142250</td>\n",
       "      <td>-0.074284</td>\n",
       "      <td>1.020328</td>\n",
       "    </tr>\n",
       "  </tbody>\n",
       "</table>\n",
       "</div>"
      ],
      "text/plain": [
       "     rounds  fairway_percentage      year  avg_distance       gir  \\\n",
       "0 -0.684984           -0.101855 -0.770559     -0.311261 -1.173098   \n",
       "1 -1.829233            0.072940  1.150734     -1.114711  0.135303   \n",
       "2 -0.756500            0.418557 -1.539077     -0.560218  0.168196   \n",
       "3 -0.184375            0.611229  1.150734      0.333761 -0.164386   \n",
       "4  0.602296            0.507941 -1.539077      0.299813  1.546038   \n",
       "\n",
       "   average_putts  average_scrambling  average_score    top_10  \\\n",
       "0      -0.770468            0.396620       0.625337 -0.649867   \n",
       "1      -1.246258            1.747647      -1.240054  0.807300   \n",
       "2       0.866253            0.025749       0.702155 -0.164144   \n",
       "3      -0.998847            0.096391       0.015135 -0.164144   \n",
       "4       0.618841           -0.047836      -0.873354 -0.164144   \n",
       "\n",
       "   average_sg_putts  average_sg_total    sg:ott    sg:apr    sg:arg     money  \n",
       "0          0.801783         -0.435374  0.177094 -1.898297  0.370167 -0.801015  \n",
       "1          1.574632          1.019142 -0.927079  1.110958  1.327098  0.109749  \n",
       "2         -0.922042         -1.025317 -0.707304 -0.252856 -0.115101 -0.222872  \n",
       "3          0.327731         -0.130231  0.817885 -0.555346 -1.366821 -0.564780  \n",
       "4         -0.255496          1.100514  1.125041  1.142250 -0.074284  1.020328  "
      ]
     },
     "execution_count": 32,
     "metadata": {},
     "output_type": "execute_result"
    }
   ],
   "source": [
    "X_train_scaled.head()"
   ]
  },
  {
   "cell_type": "code",
   "execution_count": 33,
   "metadata": {},
   "outputs": [
    {
     "data": {
      "text/html": [
       "<div>\n",
       "<style scoped>\n",
       "    .dataframe tbody tr th:only-of-type {\n",
       "        vertical-align: middle;\n",
       "    }\n",
       "\n",
       "    .dataframe tbody tr th {\n",
       "        vertical-align: top;\n",
       "    }\n",
       "\n",
       "    .dataframe thead th {\n",
       "        text-align: right;\n",
       "    }\n",
       "</style>\n",
       "<table border=\"1\" class=\"dataframe\">\n",
       "  <thead>\n",
       "    <tr style=\"text-align: right;\">\n",
       "      <th></th>\n",
       "      <th>rounds</th>\n",
       "      <th>fairway_percentage</th>\n",
       "      <th>year</th>\n",
       "      <th>avg_distance</th>\n",
       "      <th>gir</th>\n",
       "      <th>average_putts</th>\n",
       "      <th>average_scrambling</th>\n",
       "      <th>average_score</th>\n",
       "      <th>top_10</th>\n",
       "      <th>average_sg_putts</th>\n",
       "      <th>average_sg_total</th>\n",
       "      <th>sg:ott</th>\n",
       "      <th>sg:apr</th>\n",
       "      <th>sg:arg</th>\n",
       "      <th>money</th>\n",
       "    </tr>\n",
       "  </thead>\n",
       "  <tbody>\n",
       "    <tr>\n",
       "      <th>0</th>\n",
       "      <td>1.031390</td>\n",
       "      <td>-0.379937</td>\n",
       "      <td>-0.770559</td>\n",
       "      <td>0.130070</td>\n",
       "      <td>0.332660</td>\n",
       "      <td>-0.009202</td>\n",
       "      <td>0.058127</td>\n",
       "      <td>-0.028347</td>\n",
       "      <td>0.807300</td>\n",
       "      <td>-0.628992</td>\n",
       "      <td>0.121149</td>\n",
       "      <td>-0.018850</td>\n",
       "      <td>0.957105</td>\n",
       "      <td>-0.264763</td>\n",
       "      <td>-0.195059</td>\n",
       "    </tr>\n",
       "    <tr>\n",
       "      <th>1</th>\n",
       "      <td>0.673812</td>\n",
       "      <td>1.097873</td>\n",
       "      <td>-1.539077</td>\n",
       "      <td>0.141386</td>\n",
       "      <td>1.600859</td>\n",
       "      <td>1.513328</td>\n",
       "      <td>0.646810</td>\n",
       "      <td>-0.086324</td>\n",
       "      <td>0.321578</td>\n",
       "      <td>-1.149012</td>\n",
       "      <td>0.032512</td>\n",
       "      <td>1.649325</td>\n",
       "      <td>-0.049457</td>\n",
       "      <td>-0.831665</td>\n",
       "      <td>-0.426263</td>\n",
       "    </tr>\n",
       "    <tr>\n",
       "      <th>2</th>\n",
       "      <td>-0.828015</td>\n",
       "      <td>-0.451444</td>\n",
       "      <td>0.766476</td>\n",
       "      <td>0.254548</td>\n",
       "      <td>-0.829551</td>\n",
       "      <td>-0.789499</td>\n",
       "      <td>0.016919</td>\n",
       "      <td>0.209356</td>\n",
       "      <td>-0.164144</td>\n",
       "      <td>-0.146321</td>\n",
       "      <td>-0.362721</td>\n",
       "      <td>0.002333</td>\n",
       "      <td>0.213918</td>\n",
       "      <td>-1.280652</td>\n",
       "      <td>-0.565688</td>\n",
       "    </tr>\n",
       "    <tr>\n",
       "      <th>3</th>\n",
       "      <td>0.101687</td>\n",
       "      <td>-0.844732</td>\n",
       "      <td>-0.002042</td>\n",
       "      <td>-0.356526</td>\n",
       "      <td>0.036625</td>\n",
       "      <td>-0.542088</td>\n",
       "      <td>0.690961</td>\n",
       "      <td>-0.255905</td>\n",
       "      <td>0.321578</td>\n",
       "      <td>-0.019907</td>\n",
       "      <td>-0.144761</td>\n",
       "      <td>0.044699</td>\n",
       "      <td>-0.354555</td>\n",
       "      <td>0.116195</td>\n",
       "      <td>-0.253491</td>\n",
       "    </tr>\n",
       "    <tr>\n",
       "      <th>4</th>\n",
       "      <td>1.031390</td>\n",
       "      <td>1.004517</td>\n",
       "      <td>-1.154818</td>\n",
       "      <td>-1.442881</td>\n",
       "      <td>-0.211898</td>\n",
       "      <td>-0.104360</td>\n",
       "      <td>0.690961</td>\n",
       "      <td>-0.002258</td>\n",
       "      <td>-1.135589</td>\n",
       "      <td>-0.485340</td>\n",
       "      <td>-0.263912</td>\n",
       "      <td>-0.932375</td>\n",
       "      <td>0.798037</td>\n",
       "      <td>0.143406</td>\n",
       "      <td>-0.505124</td>\n",
       "    </tr>\n",
       "  </tbody>\n",
       "</table>\n",
       "</div>"
      ],
      "text/plain": [
       "     rounds  fairway_percentage      year  avg_distance       gir  \\\n",
       "0  1.031390           -0.379937 -0.770559      0.130070  0.332660   \n",
       "1  0.673812            1.097873 -1.539077      0.141386  1.600859   \n",
       "2 -0.828015           -0.451444  0.766476      0.254548 -0.829551   \n",
       "3  0.101687           -0.844732 -0.002042     -0.356526  0.036625   \n",
       "4  1.031390            1.004517 -1.154818     -1.442881 -0.211898   \n",
       "\n",
       "   average_putts  average_scrambling  average_score    top_10  \\\n",
       "0      -0.009202            0.058127      -0.028347  0.807300   \n",
       "1       1.513328            0.646810      -0.086324  0.321578   \n",
       "2      -0.789499            0.016919       0.209356 -0.164144   \n",
       "3      -0.542088            0.690961      -0.255905  0.321578   \n",
       "4      -0.104360            0.690961      -0.002258 -1.135589   \n",
       "\n",
       "   average_sg_putts  average_sg_total    sg:ott    sg:apr    sg:arg     money  \n",
       "0         -0.628992          0.121149 -0.018850  0.957105 -0.264763 -0.195059  \n",
       "1         -1.149012          0.032512  1.649325 -0.049457 -0.831665 -0.426263  \n",
       "2         -0.146321         -0.362721  0.002333  0.213918 -1.280652 -0.565688  \n",
       "3         -0.019907         -0.144761  0.044699 -0.354555  0.116195 -0.253491  \n",
       "4         -0.485340         -0.263912 -0.932375  0.798037  0.143406 -0.505124  "
      ]
     },
     "execution_count": 33,
     "metadata": {},
     "output_type": "execute_result"
    }
   ],
   "source": [
    "X_val_scaled.head()"
   ]
  },
  {
   "cell_type": "markdown",
   "metadata": {},
   "source": [
    "## First Model - Logistic Regression"
   ]
  },
  {
   "cell_type": "code",
   "execution_count": 34,
   "metadata": {},
   "outputs": [],
   "source": [
    "# Instantiate LogisticRegression\n",
    "logreg = LogisticRegression(solver='liblinear')"
   ]
  },
  {
   "cell_type": "markdown",
   "metadata": {},
   "source": [
    "### Create a function you can use to run all your models for the dataset"
   ]
  },
  {
   "cell_type": "code",
   "execution_count": 35,
   "metadata": {},
   "outputs": [],
   "source": [
    "def modeling_function(model, X_train, y_train, X_val, y_val):\n",
    "\n",
    "    # fit model on training data\n",
    "    model.fit(X_train, y_train)\n",
    "\n",
    "    # make predictions on training and validation data\n",
    "    train_preds = model.predict(X_train)\n",
    "    val_preds = model.predict(X_val)\n",
    "\n",
    "    # Print accuracy score\n",
    "    print('Training accuracy: ', accuracy_score(y_train, train_preds))\n",
    "    print('Validation accuracy: ', accuracy_score(y_val, val_preds))\n",
    "\n",
    "    # return fitted model\n",
    "    return model"
   ]
  },
  {
   "cell_type": "markdown",
   "metadata": {},
   "source": [
    "### Find the Training and Validaiton Accuracy for this model and plot the Confusion Matrix"
   ]
  },
  {
   "cell_type": "code",
   "execution_count": 36,
   "metadata": {},
   "outputs": [
    {
     "name": "stdout",
     "output_type": "stream",
     "text": [
      "Training accuracy:  0.9011689691817216\n",
      "Validation accuracy:  0.8757961783439491\n"
     ]
    }
   ],
   "source": [
    "# Call modeling function\n",
    "logreg = modeling_function(logreg, X_train_scaled, y_train, X_val_scaled, y_val)"
   ]
  },
  {
   "cell_type": "code",
   "execution_count": 37,
   "metadata": {
    "scrolled": false
   },
   "outputs": [
    {
     "data": {
      "text/plain": [
       "<sklearn.metrics._plot.confusion_matrix.ConfusionMatrixDisplay at 0x2463ae01280>"
      ]
     },
     "execution_count": 37,
     "metadata": {},
     "output_type": "execute_result"
    },
    {
     "data": {
      "image/png": "[encoded data removed]",
      "text/plain": [
       "<Figure size 432x288 with 2 Axes>"
      ]
     },
     "metadata": {},
     "output_type": "display_data"
    }
   ],
   "source": [
    "# Plot the Confusion Matrix\n",
    "sns.set_style('dark')\n",
    "plot_confusion_matrix(logreg, X_train_scaled, y_train)"
   ]
  },
  {
   "cell_type": "markdown",
   "metadata": {},
   "source": [
    "#### We need to check for class imbalance with the data."
   ]
  },
  {
   "cell_type": "code",
   "execution_count": 38,
   "metadata": {
    "scrolled": false
   },
   "outputs": [
    {
     "data": {
      "text/plain": [
       "0    793\n",
       "1    148\n",
       "Name: winners, dtype: int64"
      ]
     },
     "execution_count": 38,
     "metadata": {},
     "output_type": "execute_result"
    }
   ],
   "source": [
    "y_train.value_counts()"
   ]
  },
  {
   "cell_type": "markdown",
   "metadata": {},
   "source": [
    "### Use SMOTE to resolve class imbalance"
   ]
  },
  {
   "cell_type": "code",
   "execution_count": 39,
   "metadata": {},
   "outputs": [],
   "source": [
    "from imblearn.over_sampling import SMOTE\n",
    "sm = SMOTE(random_state=2021)"
   ]
  },
  {
   "cell_type": "code",
   "execution_count": 40,
   "metadata": {},
   "outputs": [
    {
     "data": {
      "text/plain": [
       "1    793\n",
       "0    793\n",
       "Name: winners, dtype: int64"
      ]
     },
     "execution_count": 40,
     "metadata": {},
     "output_type": "execute_result"
    }
   ],
   "source": [
    "X_train_res, y_train_res = sm.fit_resample(X_train_scaled, y_train)\n",
    "y_train_res.value_counts()"
   ]
  },
  {
   "cell_type": "markdown",
   "metadata": {},
   "source": [
    "## Second Model - Logistic Regression with SMOTE applied"
   ]
  },
  {
   "cell_type": "code",
   "execution_count": 41,
   "metadata": {},
   "outputs": [
    {
     "data": {
      "text/plain": [
       "LogisticRegression(solver='liblinear')"
      ]
     },
     "execution_count": 41,
     "metadata": {},
     "output_type": "execute_result"
    }
   ],
   "source": [
    "# Instantiate second LogisticRegression\n",
    "logreg2 = LogisticRegression(solver='liblinear')\n",
    "logreg2.fit(X_train_res, y_train_res)"
   ]
  },
  {
   "cell_type": "markdown",
   "metadata": {},
   "source": [
    "### Second model output vs. first model output"
   ]
  },
  {
   "cell_type": "code",
   "execution_count": 42,
   "metadata": {},
   "outputs": [
    {
     "name": "stdout",
     "output_type": "stream",
     "text": [
      "Training accuracy:  0.9022698612862547\n",
      "Validation accuracy:  0.89171974522293\n"
     ]
    }
   ],
   "source": [
    "# Call second modeling function\n",
    "logreg2 = modeling_function(logreg2, X_train_res, y_train_res, X_val_scaled, y_val)"
   ]
  },
  {
   "cell_type": "code",
   "execution_count": 43,
   "metadata": {},
   "outputs": [
    {
     "name": "stdout",
     "output_type": "stream",
     "text": [
      "Training accuracy:  0.9011689691817216\n",
      "Validation accuracy:  0.8757961783439491\n"
     ]
    }
   ],
   "source": [
    "# Call modeling function\n",
    "logreg = modeling_function(logreg, X_train_scaled, y_train, X_val_scaled, y_val)"
   ]
  },
  {
   "cell_type": "markdown",
   "metadata": {},
   "source": [
    "#### The second model has IMPROVED accuracy after resolving class imbalance. The second model is now our best performing model."
   ]
  },
  {
   "cell_type": "markdown",
   "metadata": {},
   "source": [
    "### Plot the Confusion Matrix for the second model."
   ]
  },
  {
   "cell_type": "code",
   "execution_count": 44,
   "metadata": {},
   "outputs": [
    {
     "data": {
      "text/plain": [
       "<sklearn.metrics._plot.confusion_matrix.ConfusionMatrixDisplay at 0x2463ae0fc10>"
      ]
     },
     "execution_count": 44,
     "metadata": {},
     "output_type": "execute_result"
    },
    {
     "data": {
      "image/png": "[encoded data removed]",
      "text/plain": [
       "<Figure size 432x288 with 2 Axes>"
      ]
     },
     "metadata": {},
     "output_type": "display_data"
    }
   ],
   "source": [
    "# Plot the Confusion Matrix\n",
    "plot_confusion_matrix(logreg2, X_train_res, y_train_res)"
   ]
  },
  {
   "cell_type": "markdown",
   "metadata": {},
   "source": [
    "## Third Model - Logistic Regression with SMOTE, penalty = 'l1' (Lasso) and C = 0.2"
   ]
  },
  {
   "cell_type": "code",
   "execution_count": 45,
   "metadata": {},
   "outputs": [],
   "source": [
    "# Instantiate third LogisticRegression\n",
    "logreg3 = LogisticRegression(solver='liblinear', penalty='l1', C = 0.2)"
   ]
  },
  {
   "cell_type": "markdown",
   "metadata": {},
   "source": [
    "### Third model output vs. second model output"
   ]
  },
  {
   "cell_type": "code",
   "execution_count": 46,
   "metadata": {
    "scrolled": true
   },
   "outputs": [
    {
     "name": "stdout",
     "output_type": "stream",
     "text": [
      "Training accuracy:  0.8978562421185372\n",
      "Validation accuracy:  0.8949044585987261\n"
     ]
    }
   ],
   "source": [
    "# Call third modeling function\n",
    "logreg3 = modeling_function(logreg3, X_train_res, y_train_res, X_val_scaled, y_val)"
   ]
  },
  {
   "cell_type": "code",
   "execution_count": 47,
   "metadata": {
    "scrolled": true
   },
   "outputs": [
    {
     "name": "stdout",
     "output_type": "stream",
     "text": [
      "Training accuracy:  0.9022698612862547\n",
      "Validation accuracy:  0.89171974522293\n"
     ]
    }
   ],
   "source": [
    "# Call second modeling function\n",
    "logreg2 = modeling_function(logreg2, X_train_res, y_train_res, X_val_scaled, y_val)"
   ]
  },
  {
   "cell_type": "markdown",
   "metadata": {},
   "source": [
    "#### The third model has improved accuracy even more after changing the model to Lasso Regression and setting C = 0.2. The third model is now our best performing model."
   ]
  },
  {
   "cell_type": "markdown",
   "metadata": {},
   "source": [
    "### Plot the Confusion Matrix for the third model."
   ]
  },
  {
   "cell_type": "code",
   "execution_count": 48,
   "metadata": {},
   "outputs": [
    {
     "data": {
      "text/plain": [
       "<sklearn.metrics._plot.confusion_matrix.ConfusionMatrixDisplay at 0x2463b0f67f0>"
      ]
     },
     "execution_count": 48,
     "metadata": {},
     "output_type": "execute_result"
    },
    {
     "data": {
      "image/png": "[encoded data removed]",
      "text/plain": [
       "<Figure size 432x288 with 2 Axes>"
      ]
     },
     "metadata": {},
     "output_type": "display_data"
    }
   ],
   "source": [
    "# Plot the Confusion Matrixb\n",
    "plot_confusion_matrix(logreg3, X_train_res, y_train_res)"
   ]
  },
  {
   "cell_type": "markdown",
   "metadata": {},
   "source": [
    "## Fourth Model - DecisionTreeClassifier"
   ]
  },
  {
   "cell_type": "code",
   "execution_count": 49,
   "metadata": {},
   "outputs": [],
   "source": [
    "dt = DecisionTreeClassifier(random_state=2021)"
   ]
  },
  {
   "cell_type": "markdown",
   "metadata": {},
   "source": [
    "### Fourth model output vs. third model output"
   ]
  },
  {
   "cell_type": "code",
   "execution_count": 50,
   "metadata": {},
   "outputs": [
    {
     "name": "stdout",
     "output_type": "stream",
     "text": [
      "Training accuracy:  1.0\n",
      "Validation accuracy:  0.8630573248407644\n"
     ]
    }
   ],
   "source": [
    "# Call fourth modeling function\n",
    "dt = modeling_function(dt, X_train_res, y_train_res, X_val_scaled, y_val)"
   ]
  },
  {
   "cell_type": "code",
   "execution_count": 51,
   "metadata": {},
   "outputs": [
    {
     "name": "stdout",
     "output_type": "stream",
     "text": [
      "Training accuracy:  0.8972257250945775\n",
      "Validation accuracy:  0.8949044585987261\n"
     ]
    }
   ],
   "source": [
    "# Call third modeling function\n",
    "logreg3 = modeling_function(logreg3, X_train_res, y_train_res, X_val_scaled, y_val)"
   ]
  },
  {
   "cell_type": "markdown",
   "metadata": {},
   "source": [
    "#### The fourth model has excellent training accuracy, but it's significantly further away from validation accuracy. This model is more likely to suffer from overfitting and the third model is still our best performing model."
   ]
  },
  {
   "cell_type": "markdown",
   "metadata": {},
   "source": [
    "### Let's set the max_depth = 8 and see if our model has a better performance."
   ]
  },
  {
   "cell_type": "code",
   "execution_count": 52,
   "metadata": {},
   "outputs": [],
   "source": [
    "dt2 = DecisionTreeClassifier(random_state=2021, max_depth=8)"
   ]
  },
  {
   "cell_type": "code",
   "execution_count": 53,
   "metadata": {},
   "outputs": [
    {
     "name": "stdout",
     "output_type": "stream",
     "text": [
      "Training accuracy:  0.9747793190416141\n",
      "Validation accuracy:  0.8535031847133758\n"
     ]
    }
   ],
   "source": [
    "dt2 = modeling_function(dt2, X_train_res, y_train_res, X_val_scaled, y_val)"
   ]
  },
  {
   "cell_type": "markdown",
   "metadata": {},
   "source": [
    "#### The training accuracy is closer to the validation accuracy now, but they're still significantly further away from each other. The third model is still our best performing model."
   ]
  },
  {
   "cell_type": "markdown",
   "metadata": {},
   "source": [
    "## Fifth Model - RandomForestClassifier"
   ]
  },
  {
   "cell_type": "code",
   "execution_count": 54,
   "metadata": {},
   "outputs": [],
   "source": [
    "rf = RandomForestClassifier(random_state=2021)"
   ]
  },
  {
   "cell_type": "markdown",
   "metadata": {},
   "source": [
    "### Fifth model output vs. third model output"
   ]
  },
  {
   "cell_type": "code",
   "execution_count": 55,
   "metadata": {
    "scrolled": false
   },
   "outputs": [
    {
     "name": "stdout",
     "output_type": "stream",
     "text": [
      "Training accuracy:  1.0\n",
      "Validation accuracy:  0.8853503184713376\n"
     ]
    }
   ],
   "source": [
    "# Call fifth modeling function\n",
    "rf = modeling_function(rf, X_train_res, y_train_res, X_val_scaled, y_val)"
   ]
  },
  {
   "cell_type": "code",
   "execution_count": 56,
   "metadata": {},
   "outputs": [
    {
     "name": "stdout",
     "output_type": "stream",
     "text": [
      "Training accuracy:  0.8965952080706179\n",
      "Validation accuracy:  0.8949044585987261\n"
     ]
    }
   ],
   "source": [
    "# Call third modeling function\n",
    "logreg3 = modeling_function(logreg3, X_train_res, y_train_res, X_val_scaled, y_val)"
   ]
  },
  {
   "cell_type": "markdown",
   "metadata": {},
   "source": [
    "#### The training accuracy is excellent, but it's significantly further away from validation accuracy. However, it performs better than the first decision tree model. The third model is still our best performing model."
   ]
  },
  {
   "cell_type": "markdown",
   "metadata": {},
   "source": [
    "I am going to try a GridSearch to experiment with some hyperparameters. I want to prevent overfitting so I am going to adjust `n_estimators`, `criterion`, `max_depth` and `min_samples_leaf`"
   ]
  },
  {
   "cell_type": "code",
   "execution_count": 57,
   "metadata": {},
   "outputs": [],
   "source": [
    "# Create Param Grid \n",
    "param_grid = {'n_estimators': [50, 75, 100],\n",
    "              'criterion': ['gini', 'entropy'],\n",
    "              'max_depth': [1, 3, 5, 7, 9, 10],\n",
    "              'min_samples_leaf': [1, 3, 5, 7]}"
   ]
  },
  {
   "cell_type": "code",
   "execution_count": 58,
   "metadata": {},
   "outputs": [],
   "source": [
    "# Create GridSearchCV\n",
    "rf_gs = GridSearchCV(estimator=rf, param_grid=param_grid, scoring='accuracy')"
   ]
  },
  {
   "cell_type": "code",
   "execution_count": 59,
   "metadata": {
    "scrolled": false
   },
   "outputs": [
    {
     "data": {
      "text/plain": [
       "GridSearchCV(estimator=RandomForestClassifier(random_state=2021),\n",
       "             param_grid={'criterion': ['gini', 'entropy'],\n",
       "                         'max_depth': [1, 3, 5, 7, 9, 10],\n",
       "                         'min_samples_leaf': [1, 3, 5, 7],\n",
       "                         'n_estimators': [50, 75, 100]},\n",
       "             scoring='accuracy')"
      ]
     },
     "execution_count": 59,
     "metadata": {},
     "output_type": "execute_result"
    }
   ],
   "source": [
    "rf_gs.fit(X_train_res, y_train_res)"
   ]
  },
  {
   "cell_type": "markdown",
   "metadata": {},
   "source": [
    "Now I can make predictions using this best estimator and see how it performs compared to previous models."
   ]
  },
  {
   "cell_type": "code",
   "execution_count": 60,
   "metadata": {},
   "outputs": [],
   "source": [
    "best_model = rf_gs.best_estimator_"
   ]
  },
  {
   "cell_type": "code",
   "execution_count": 61,
   "metadata": {
    "scrolled": true
   },
   "outputs": [
    {
     "data": {
      "text/plain": [
       "{'criterion': 'gini',\n",
       " 'max_depth': 10,\n",
       " 'min_samples_leaf': 1,\n",
       " 'n_estimators': 50}"
      ]
     },
     "execution_count": 61,
     "metadata": {},
     "output_type": "execute_result"
    }
   ],
   "source": [
    "rf_gs.best_params_"
   ]
  },
  {
   "cell_type": "markdown",
   "metadata": {},
   "source": [
    "### GridSearchCV model output vs. third model output"
   ]
  },
  {
   "cell_type": "code",
   "execution_count": 62,
   "metadata": {
    "scrolled": true
   },
   "outputs": [
    {
     "name": "stdout",
     "output_type": "stream",
     "text": [
      "Training accuracy:  0.9943253467843631\n",
      "Validation accuracy:  0.8853503184713376\n"
     ]
    },
    {
     "data": {
      "text/plain": [
       "RandomForestClassifier(max_depth=10, n_estimators=50, random_state=2021)"
      ]
     },
     "execution_count": 62,
     "metadata": {},
     "output_type": "execute_result"
    }
   ],
   "source": [
    "# Call GridSearchCV modeling function\n",
    "modeling_function(best_model, X_train_res, y_train_res, X_val_scaled, y_val)"
   ]
  },
  {
   "cell_type": "code",
   "execution_count": 63,
   "metadata": {},
   "outputs": [
    {
     "name": "stdout",
     "output_type": "stream",
     "text": [
      "Training accuracy:  0.8965952080706179\n",
      "Validation accuracy:  0.8949044585987261\n"
     ]
    }
   ],
   "source": [
    "# Call third modeling function\n",
    "logreg3 = modeling_function(logreg3, X_train_res, y_train_res, X_val_scaled, y_val)"
   ]
  },
  {
   "cell_type": "markdown",
   "metadata": {},
   "source": [
    "#### The GridSearchCV model has little changes to training accuracy and no change to validation accuracy. The third model is still our best performing model."
   ]
  },
  {
   "cell_type": "markdown",
   "metadata": {},
   "source": [
    "## Sixth Model - KNeighborsClassifier `k=9`"
   ]
  },
  {
   "cell_type": "code",
   "execution_count": 64,
   "metadata": {},
   "outputs": [],
   "source": [
    "from sklearn.neighbors import KNeighborsClassifier\n",
    "knn = KNeighborsClassifier(n_neighbors=9)"
   ]
  },
  {
   "cell_type": "markdown",
   "metadata": {},
   "source": [
    "### Sixth model output vs. third model output"
   ]
  },
  {
   "cell_type": "code",
   "execution_count": 65,
   "metadata": {
    "scrolled": true
   },
   "outputs": [
    {
     "name": "stdout",
     "output_type": "stream",
     "text": [
      "Training accuracy:  0.8978562421185372\n",
      "Validation accuracy:  0.6719745222929936\n"
     ]
    }
   ],
   "source": [
    "# Call sixth modeling function\n",
    "knn = modeling_function(knn, X_train_res, y_train_res, X_val_scaled, y_val)"
   ]
  },
  {
   "cell_type": "code",
   "execution_count": 66,
   "metadata": {},
   "outputs": [
    {
     "name": "stdout",
     "output_type": "stream",
     "text": [
      "Training accuracy:  0.8965952080706179\n",
      "Validation accuracy:  0.8949044585987261\n"
     ]
    }
   ],
   "source": [
    "# Call third modeling function\n",
    "logreg3 = modeling_function(logreg3, X_train_res, y_train_res, X_val_scaled, y_val)"
   ]
  },
  {
   "cell_type": "markdown",
   "metadata": {},
   "source": [
    "#### The sixth model's training accuracy is closer to the third model's training accuracy. However, validation accuracy is much lower than before and is our worst performing model. The third model is still our best performing model."
   ]
  },
  {
   "cell_type": "markdown",
   "metadata": {},
   "source": [
    "## Seventh Model - Support Vector Machine with `kernel = 'linear'` and `C = 0.1`"
   ]
  },
  {
   "cell_type": "code",
   "execution_count": 67,
   "metadata": {},
   "outputs": [],
   "source": [
    "from sklearn.svm import SVC\n",
    "svm = SVC(kernel='linear', C=0.1)"
   ]
  },
  {
   "cell_type": "code",
   "execution_count": 68,
   "metadata": {},
   "outputs": [
    {
     "name": "stdout",
     "output_type": "stream",
     "text": [
      "Training accuracy:  0.8940731399747793\n",
      "Validation accuracy:  0.8949044585987261\n"
     ]
    }
   ],
   "source": [
    "# Call seventh modeling function\n",
    "svm = modeling_function(svm, X_train_res, y_train_res, X_val_scaled, y_val)"
   ]
  },
  {
   "cell_type": "code",
   "execution_count": 69,
   "metadata": {
    "scrolled": true
   },
   "outputs": [
    {
     "name": "stdout",
     "output_type": "stream",
     "text": [
      "Training accuracy:  0.8965952080706179\n",
      "Validation accuracy:  0.8949044585987261\n"
     ]
    }
   ],
   "source": [
    "# Call third modeling function\n",
    "logreg3 = modeling_function(logreg3, X_train_res, y_train_res, X_val_scaled, y_val)"
   ]
  },
  {
   "cell_type": "markdown",
   "metadata": {},
   "source": [
    "#### With our seventh model, we find both our training accuracy and validation accuracy to be 0.894. This model performs slightly better than the third model as shown above. Now our seventh model is our best performing model."
   ]
  },
  {
   "cell_type": "markdown",
   "metadata": {},
   "source": [
    "### Plot the Confusion Matrix for the seventh model"
   ]
  },
  {
   "cell_type": "code",
   "execution_count": 70,
   "metadata": {
    "scrolled": true
   },
   "outputs": [
    {
     "data": {
      "text/plain": [
       "<sklearn.metrics._plot.confusion_matrix.ConfusionMatrixDisplay at 0x2463b260be0>"
      ]
     },
     "execution_count": 70,
     "metadata": {},
     "output_type": "execute_result"
    },
    {
     "data": {
      "image/png": "[encoded data removed]",
      "text/plain": [
       "<Figure size 432x288 with 2 Axes>"
      ]
     },
     "metadata": {},
     "output_type": "display_data"
    }
   ],
   "source": [
    "# Plot the Confusion Matrix\n",
    "plot_confusion_matrix(svm, X_train_res, y_train_res)"
   ]
  },
  {
   "cell_type": "markdown",
   "metadata": {},
   "source": [
    "## Testing Data with our best model - the Support Vector Machine model"
   ]
  },
  {
   "cell_type": "code",
   "execution_count": 71,
   "metadata": {},
   "outputs": [],
   "source": [
    "# Transform SCALED test data and convert to DataFrame\n",
    "X_test_scaled = pd.DataFrame(scaler.transform(X_test[num_cols]), columns=num_cols)"
   ]
  },
  {
   "cell_type": "code",
   "execution_count": 72,
   "metadata": {},
   "outputs": [
    {
     "data": {
      "text/plain": [
       "(419, 15)"
      ]
     },
     "execution_count": 72,
     "metadata": {},
     "output_type": "execute_result"
    }
   ],
   "source": [
    "X_test_scaled.shape"
   ]
  },
  {
   "cell_type": "code",
   "execution_count": 73,
   "metadata": {},
   "outputs": [],
   "source": [
    "# Get the predicted values for testing data\n",
    "test_preds = svm.predict(X_test_scaled)"
   ]
  },
  {
   "cell_type": "code",
   "execution_count": 74,
   "metadata": {},
   "outputs": [
    {
     "name": "stdout",
     "output_type": "stream",
     "text": [
      "Testing accuracy:  0.8949880668257757\n"
     ]
    }
   ],
   "source": [
    "# Accuracy score for testing data\n",
    "print('Testing accuracy: ', accuracy_score(y_test, test_preds))"
   ]
  },
  {
   "cell_type": "code",
   "execution_count": 75,
   "metadata": {},
   "outputs": [
    {
     "name": "stdout",
     "output_type": "stream",
     "text": [
      "Training accuracy:  0.8940731399747793\n",
      "Validation accuracy:  0.8949044585987261\n"
     ]
    }
   ],
   "source": [
    "# Call seventh modeling function\n",
    "svm = modeling_function(svm, X_train_res, y_train_res, X_val_scaled, y_val)"
   ]
  },
  {
   "cell_type": "markdown",
   "metadata": {},
   "source": [
    "#### Based on the output above, we can see that our accuracies for testing, training, and validation are all 0.894."
   ]
  },
  {
   "cell_type": "code",
   "execution_count": null,
   "metadata": {},
   "outputs": [],
   "source": []
  }
 ],
 "metadata": {
  "kernelspec": {
   "display_name": "learn-env",
   "language": "python",
   "name": "learn-env"
  },
  "language_info": {
   "codemirror_mode": {
    "name": "ipython",
    "version": 3
   },
   "file_extension": ".py",
   "mimetype": "text/x-python",
   "name": "python",
   "nbconvert_exporter": "python",
   "pygments_lexer": "ipython3",
   "version": "3.8.5"
  }
 },
 "nbformat": 4,
 "nbformat_minor": 4
}
